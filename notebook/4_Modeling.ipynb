{
 "cells": [
  {
   "cell_type": "markdown",
   "metadata": {},
   "source": [
    "## 4. Modeling\n",
    "### 4.1 Loading libraries & dataset"
   ]
  },
  {
   "cell_type": "code",
   "execution_count": 1,
   "metadata": {},
   "outputs": [],
   "source": [
    "library(\"FSinR\")\n",
    "library(\"data.table\")\n",
    "library(\"magrittr\")\n",
    "library(\"ggplot2\")"
   ]
  },
  {
   "cell_type": "code",
   "execution_count": 2,
   "metadata": {},
   "outputs": [],
   "source": [
    "train_module_scaled=fread(\"train_module_scaled.csv\")"
   ]
  },
  {
   "cell_type": "code",
   "execution_count": 3,
   "metadata": {},
   "outputs": [],
   "source": [
    "train_module_scaled$Id=as.factor(train_module_scaled$Id)\n",
    "train_module_scaled$Channels=as.factor(train_module_scaled$Channels)\n",
    "train_module_scaled$Segments=as.factor(train_module_scaled$Segments)\n",
    "train_module_scaled$label=as.factor(train_module_scaled$label)"
   ]
  },
  {
   "cell_type": "markdown",
   "metadata": {},
   "source": [
    "### 4.2 Feature selection : Univariate filter selection "
   ]
  },
  {
   "cell_type": "markdown",
   "metadata": {},
   "source": [
    "Select K best using  Chi_squared\n",
    "https://dicits.ugr.es/software/FSinR/\n",
    "\n",
    "Compute chi-squared stats between each non-negative feature and class.\n",
    "\n",
    "This score can be used to select the n_features features with the highest values for the test chi-squared statistic from X, which must contain only non-negative features such as booleans or frequencies (e.g., term counts in document classification), relative to the classes.\n",
    "\n",
    "Recall that the chi-square test measures dependence between stochastic variables, so using this function “weeds out” the features that are the most likely to be independent of class and therefore irrelevant for classification."
   ]
  },
  {
   "cell_type": "code",
   "execution_count": 8,
   "metadata": {},
   "outputs": [
    {
     "data": {
      "text/html": [
       "<table>\n",
       "<caption>A matrix: 1 × 503 of type dbl</caption>\n",
       "<thead>\n",
       "\t<tr><th scope=col>Id</th><th scope=col>Channels</th><th scope=col>Segments</th><th scope=col>V1</th><th scope=col>V2</th><th scope=col>V3</th><th scope=col>V4</th><th scope=col>V5</th><th scope=col>V6</th><th scope=col>V7</th><th scope=col>⋯</th><th scope=col>V491</th><th scope=col>V492</th><th scope=col>V493</th><th scope=col>V494</th><th scope=col>V495</th><th scope=col>V496</th><th scope=col>V497</th><th scope=col>V498</th><th scope=col>V499</th><th scope=col>V500</th></tr>\n",
       "</thead>\n",
       "<tbody>\n",
       "\t<tr><td>1</td><td>0</td><td>0</td><td>0</td><td>0</td><td>0</td><td>1</td><td>1</td><td>1</td><td>1</td><td>⋯</td><td>0</td><td>0</td><td>0</td><td>0</td><td>0</td><td>0</td><td>0</td><td>1</td><td>1</td><td>1</td></tr>\n",
       "</tbody>\n",
       "</table>\n"
      ],
      "text/latex": [
       "A matrix: 1 × 503 of type dbl\n",
       "\\begin{tabular}{lllllllllllllllllllll}\n",
       " Id & Channels & Segments & V1 & V2 & V3 & V4 & V5 & V6 & V7 & ⋯ & V491 & V492 & V493 & V494 & V495 & V496 & V497 & V498 & V499 & V500\\\\\n",
       "\\hline\n",
       "\t 1 & 0 & 0 & 0 & 0 & 0 & 1 & 1 & 1 & 1 & ⋯ & 0 & 0 & 0 & 0 & 0 & 0 & 0 & 1 & 1 & 1\\\\\n",
       "\\end{tabular}\n"
      ],
      "text/markdown": [
       "\n",
       "A matrix: 1 × 503 of type dbl\n",
       "\n",
       "| Id | Channels | Segments | V1 | V2 | V3 | V4 | V5 | V6 | V7 | ⋯ | V491 | V492 | V493 | V494 | V495 | V496 | V497 | V498 | V499 | V500 |\n",
       "|---|---|---|---|---|---|---|---|---|---|---|---|---|---|---|---|---|---|---|---|---|\n",
       "| 1 | 0 | 0 | 0 | 0 | 0 | 1 | 1 | 1 | 1 | ⋯ | 0 | 0 | 0 | 0 | 0 | 0 | 0 | 1 | 1 | 1 |\n",
       "\n"
      ],
      "text/plain": [
       "     Id Channels Segments V1 V2 V3 V4 V5 V6 V7 ⋯ V491 V492 V493 V494 V495 V496\n",
       "[1,] 1  0        0        0  0  0  1  1  1  1  ⋯ 0    0    0    0    0    0   \n",
       "     V497 V498 V499 V500\n",
       "[1,] 0    1    1    1   "
      ]
     },
     "metadata": {},
     "output_type": "display_data"
    },
    {
     "data": {
      "text/html": [
       "<style>\n",
       ".list-inline {list-style: none; margin:0; padding: 0}\n",
       ".list-inline>li {display: inline-block}\n",
       ".list-inline>li:not(:last-child)::after {content: \"\\00b7\"; padding: 0 .5ex}\n",
       "</style>\n",
       "<ol class=list-inline><li>'Id'</li><li>'V380'</li><li>'V5'</li><li>'V499'</li><li>'V6'</li><li>'V379'</li><li>'V500'</li><li>'V4'</li><li>'V498'</li><li>'V7'</li></ol>\n"
      ],
      "text/latex": [
       "\\begin{enumerate*}\n",
       "\\item 'Id'\n",
       "\\item 'V380'\n",
       "\\item 'V5'\n",
       "\\item 'V499'\n",
       "\\item 'V6'\n",
       "\\item 'V379'\n",
       "\\item 'V500'\n",
       "\\item 'V4'\n",
       "\\item 'V498'\n",
       "\\item 'V7'\n",
       "\\end{enumerate*}\n"
      ],
      "text/markdown": [
       "1. 'Id'\n",
       "2. 'V380'\n",
       "3. 'V5'\n",
       "4. 'V499'\n",
       "5. 'V6'\n",
       "6. 'V379'\n",
       "7. 'V500'\n",
       "8. 'V4'\n",
       "9. 'V498'\n",
       "10. 'V7'\n",
       "\n",
       "\n"
      ],
      "text/plain": [
       " [1] \"Id\"   \"V380\" \"V5\"   \"V499\" \"V6\"   \"V379\" \"V500\" \"V4\"   \"V498\" \"V7\"  "
      ]
     },
     "metadata": {},
     "output_type": "display_data"
    },
    {
     "data": {
      "text/html": [
       "<style>\n",
       ".list-inline {list-style: none; margin:0; padding: 0}\n",
       ".list-inline>li {display: inline-block}\n",
       ".list-inline>li:not(:last-child)::after {content: \"\\00b7\"; padding: 0 .5ex}\n",
       "</style>\n",
       "<ol class=list-inline><li>264880</li><li>217012.251374705</li><li>216521.315003928</li><li>216518.410054988</li><li>216445.7863315</li><li>216338.303220738</li><li>216332.493322859</li><li>216312.158680283</li><li>216193.055773763</li><li>216166.911233307</li></ol>\n"
      ],
      "text/latex": [
       "\\begin{enumerate*}\n",
       "\\item 264880\n",
       "\\item 217012.251374705\n",
       "\\item 216521.315003928\n",
       "\\item 216518.410054988\n",
       "\\item 216445.7863315\n",
       "\\item 216338.303220738\n",
       "\\item 216332.493322859\n",
       "\\item 216312.158680283\n",
       "\\item 216193.055773763\n",
       "\\item 216166.911233307\n",
       "\\end{enumerate*}\n"
      ],
      "text/markdown": [
       "1. 264880\n",
       "2. 217012.251374705\n",
       "3. 216521.315003928\n",
       "4. 216518.410054988\n",
       "5. 216445.7863315\n",
       "6. 216338.303220738\n",
       "7. 216332.493322859\n",
       "8. 216312.158680283\n",
       "9. 216193.055773763\n",
       "10. 216166.911233307\n",
       "\n",
       "\n"
      ],
      "text/plain": [
       " [1] 264880.0 217012.3 216521.3 216518.4 216445.8 216338.3 216332.5 216312.2\n",
       " [9] 216193.1 216166.9"
      ]
     },
     "metadata": {},
     "output_type": "display_data"
    }
   ],
   "source": [
    "evaluator <- filterEvaluator('chiSquared')\n",
    "\n",
    "directSearcher <- directSearchAlgorithm('selectKBest', list(k=10))\n",
    "\n",
    "results <- directFeatureSelection(train_module_scaled, 'label', directSearcher, evaluator)\n",
    "results$bestFeatures\n",
    "\n",
    "results$featuresSelected\n",
    "\n",
    "results$valuePerFeature"
   ]
  },
  {
   "cell_type": "markdown",
   "metadata": {},
   "source": [
    "We select only the best feature, we added the categorical variable (segment and channel), we removed id"
   ]
  },
  {
   "cell_type": "code",
   "execution_count": 4,
   "metadata": {},
   "outputs": [],
   "source": [
    "train_select=train_module_scaled[,c(2,3,7,8,9,10,382,383,501,502,504)]"
   ]
  },
  {
   "cell_type": "code",
   "execution_count": 5,
   "metadata": {},
   "outputs": [],
   "source": [
    "train_select_nofactor=train_module_scaled[,c(7,8,9,10,382,383,501,502,504)]"
   ]
  },
  {
   "cell_type": "markdown",
   "metadata": {},
   "source": [
    "### 4.3 First model : logistic regression & class balancing technique"
   ]
  },
  {
   "cell_type": "markdown",
   "metadata": {},
   "source": [
    "Using mlr3 package for modeling : https://mlr3.mlr-org.com/index.html\n",
    "https://mlr3book.mlr-org.com/basics.html"
   ]
  },
  {
   "cell_type": "code",
   "execution_count": 5,
   "metadata": {},
   "outputs": [
    {
     "name": "stderr",
     "output_type": "stream",
     "text": [
      "\n",
      "Attaching package: ‘mlr3misc’\n",
      "\n",
      "\n",
      "The following objects are masked from ‘package:magrittr’:\n",
      "\n",
      "    set_class, set_names\n",
      "\n",
      "\n",
      "Registered S3 method overwritten by 'GGally':\n",
      "  method from   \n",
      "  +.gg   ggplot2\n",
      "\n"
     ]
    }
   ],
   "source": [
    "library(\"mlr3\") # mlr3 base package\n",
    "library(\"mlr3misc\") # contains some helper functions\n",
    "library(\"mlr3pipelines\") # create ML pipelines\n",
    "library(\"mlr3tuning\") # tuning ML algorithms\n",
    "library(\"mlr3learners\") # additional ML algorithms\n",
    "library(\"mlr3viz\") # autoplot for benchmarks\n",
    "library(\"skimr\")\n",
    "library(\"GGally\")"
   ]
  },
  {
   "cell_type": "markdown",
   "metadata": {},
   "source": [
    "Create a Task from mlr3 that we will use for each model."
   ]
  },
  {
   "cell_type": "code",
   "execution_count": 6,
   "metadata": {},
   "outputs": [
    {
     "data": {
      "text/plain": [
       "<TaskClassif:Task> (264880 x 11)\n",
       "* Target: label\n",
       "* Properties: twoclass\n",
       "* Features (10):\n",
       "  - dbl (8): V379, V380, V4, V498, V499, V5, V6, V7\n",
       "  - fct (2): Channels, Segments"
      ]
     },
     "metadata": {},
     "output_type": "display_data"
    }
   ],
   "source": [
    "task = TaskClassif$new(id = \"Task\", backend = train_select,target = \"label\")\n",
    "task"
   ]
  },
  {
   "cell_type": "code",
   "execution_count": 22,
   "metadata": {},
   "outputs": [],
   "source": [
    "task_nofactor=TaskClassif$new(id = \"Task\", backend = train_select_nofactor,target = \"label\")"
   ]
  },
  {
   "cell_type": "markdown",
   "metadata": {},
   "source": [
    "Let us plot a summary view of our data"
   ]
  },
  {
   "cell_type": "code",
   "execution_count": 17,
   "metadata": {},
   "outputs": [
    {
     "name": "stdout",
     "output_type": "stream",
     "text": [
      "── Data Summary ────────────────────────\n",
      "                           Values     \n",
      "Name                       task$data()\n",
      "Number of rows             264880     \n",
      "Number of columns          11         \n",
      "_______________________               \n",
      "Column type frequency:                \n",
      "  factor                   3          \n",
      "  numeric                  8          \n",
      "________________________              \n",
      "Group variables            None       \n",
      "\n",
      "── Variable type: factor ───────────────────────────────────────────────────────\n",
      "  skim_variable n_missing complete_rate ordered n_unique\n",
      "1 label                 0             1 FALSE          2\n",
      "2 Channels              0             1 FALSE          7\n",
      "3 Segments              0             1 FALSE         40\n",
      "  top_counts                            \n",
      "1 0: 206360, 1: 58520                   \n",
      "2 1: 37840, 2: 37840, 3: 37840, 4: 37840\n",
      "3 1: 6622, 2: 6622, 3: 6622, 4: 6622    \n",
      "\n",
      "── Variable type: numeric ──────────────────────────────────────────────────────\n",
      "  skim_variable n_missing complete_rate      mean    sd    p0    p25    p50\n",
      "1 V379                  0             1  1.19e-16     1 -1.76 -0.728 -0.190\n",
      "2 V380                  0             1  1.77e-17     1 -1.79 -0.726 -0.185\n",
      "3 V4                    0             1 -6.49e-17     1 -1.57 -0.758 -0.212\n",
      "4 V498                  0             1  7.26e-17     1 -1.80 -0.743 -0.147\n",
      "5 V499                  0             1  1.05e-16     1 -1.84 -0.745 -0.136\n",
      "6 V5                    0             1 -4.53e-17     1 -1.58 -0.757 -0.208\n",
      "7 V6                    0             1 -1.34e-17     1 -1.59 -0.757 -0.207\n",
      "8 V7                    0             1 -6.62e-17     1 -1.59 -0.760 -0.206\n",
      "    p75  p100 hist \n",
      "1 0.553  6.02 ▇▆▂▁▁\n",
      "2 0.552  6.04 ▇▇▂▁▁\n",
      "3 0.564  5.58 ▇▆▂▁▁\n",
      "4 0.580  5.41 ▇▇▂▁▁\n",
      "5 0.589  5.68 ▇▇▂▁▁\n",
      "6 0.565  5.64 ▇▆▂▁▁\n",
      "7 0.567  5.73 ▇▆▂▁▁\n",
      "8 0.569  5.99 ▇▅▁▁▁\n"
     ]
    }
   ],
   "source": [
    "skim(task$data())"
   ]
  },
  {
   "cell_type": "markdown",
   "metadata": {},
   "source": [
    "Plot correlation analysis with selected feature expect factor"
   ]
  },
  {
   "cell_type": "code",
   "execution_count": 15,
   "metadata": {},
   "outputs": [
    {
     "name": "stderr",
     "output_type": "stream",
     "text": [
      "`stat_bin()` using `bins = 30`. Pick better value with `binwidth`.\n",
      "\n",
      "`stat_bin()` using `bins = 30`. Pick better value with `binwidth`.\n",
      "\n",
      "`stat_bin()` using `bins = 30`. Pick better value with `binwidth`.\n",
      "\n",
      "`stat_bin()` using `bins = 30`. Pick better value with `binwidth`.\n",
      "\n",
      "`stat_bin()` using `bins = 30`. Pick better value with `binwidth`.\n",
      "\n",
      "`stat_bin()` using `bins = 30`. Pick better value with `binwidth`.\n",
      "\n",
      "`stat_bin()` using `bins = 30`. Pick better value with `binwidth`.\n",
      "\n",
      "`stat_bin()` using `bins = 30`. Pick better value with `binwidth`.\n",
      "\n"
     ]
    },
    {
     "data": {
      "image/png": "[encoded data removed]",
      "text/plain": [
       "plot without title"
      ]
     },
     "metadata": {
      "image/png": {
       "height": 420,
       "width": 420
      }
     },
     "output_type": "display_data"
    }
   ],
   "source": [
    "autoplot(task_nofactor, type = \"pairs\")"
   ]
  },
  {
   "cell_type": "markdown",
   "metadata": {},
   "source": [
    "First, let us define a lositic regression"
   ]
  },
  {
   "cell_type": "code",
   "execution_count": 7,
   "metadata": {},
   "outputs": [
    {
     "name": "stdout",
     "output_type": "stream",
     "text": [
      "<LearnerClassifLogReg:classif.log_reg>\n",
      "* Model: -\n",
      "* Parameters: list()\n",
      "* Packages: stats\n",
      "* Predict Type: prob\n",
      "* Feature types: logical, integer, numeric, character, factor, ordered\n",
      "* Properties: twoclass, weights\n"
     ]
    }
   ],
   "source": [
    "library(\"mlr3learners\")\n",
    "learner_logreg = lrn(\"classif.log_reg\")\n",
    "learner_logreg$predict_type <- \"prob\"\n",
    "print(learner_logreg)"
   ]
  },
  {
   "cell_type": "code",
   "execution_count": 8,
   "metadata": {},
   "outputs": [
    {
     "data": {
      "text/plain": [
       "\n",
       "     0      1 \n",
       "206360  58520 "
      ]
     },
     "metadata": {},
     "output_type": "display_data"
    }
   ],
   "source": [
    "# check original class balance\n",
    "table(task$truth())"
   ]
  },
  {
   "cell_type": "markdown",
   "metadata": {},
   "source": [
    "Create class balancing technique : under, over and none"
   ]
  },
  {
   "cell_type": "code",
   "execution_count": 9,
   "metadata": {},
   "outputs": [
    {
     "data": {
      "text/plain": [
       "\n",
       "    0     1 \n",
       "58520 58520 "
      ]
     },
     "metadata": {},
     "output_type": "display_data"
    }
   ],
   "source": [
    "po_under = po(\"classbalancing\",\n",
    "  id = \"undersample\", adjust = \"major\",\n",
    "  reference = \"major\", ratio = 58520  / 206360  )\n",
    "# reduce majority class by factor '1/ratio'\n",
    "table(po_under$train(list(task))$output$truth())"
   ]
  },
  {
   "cell_type": "markdown",
   "metadata": {},
   "source": [
    "Create a pipe combining undersampling with Log reg learner within mlr3 Graph Learner"
   ]
  },
  {
   "cell_type": "code",
   "execution_count": 10,
   "metadata": {},
   "outputs": [],
   "source": [
    "graph_down = GraphLearner$new(po_under %>>% learner_logreg)\n",
    "graph_down$predict_type <- \"prob\""
   ]
  },
  {
   "cell_type": "markdown",
   "metadata": {},
   "source": [
    "Apply same steps for oversampling"
   ]
  },
  {
   "cell_type": "code",
   "execution_count": 11,
   "metadata": {},
   "outputs": [],
   "source": [
    "lrn_up = po(\"classbalancing\", id = \"oversample\", adjust = \"minor\", \n",
    "     reference = \"minor\", shuffle = FALSE, ratio =206360 / 58520  ) %>>%\n",
    "  learner_logreg"
   ]
  },
  {
   "cell_type": "code",
   "execution_count": 12,
   "metadata": {},
   "outputs": [],
   "source": [
    "graph_up <- GraphLearner$new(lrn_up)\n",
    "graph_up$predict_type <- \"prob\""
   ]
  },
  {
   "cell_type": "markdown",
   "metadata": {},
   "source": [
    "Here we want to benchmark (compare) the results of the different technique. To do that, we use benchmark_grid of mlr3."
   ]
  },
  {
   "cell_type": "markdown",
   "metadata": {},
   "source": [
    "Define a splitting technique for benchmark. Here we want that the bench performs on the same split,i.e rsmp(\"holdout\")"
   ]
  },
  {
   "cell_type": "code",
   "execution_count": 13,
   "metadata": {},
   "outputs": [],
   "source": [
    "hld <- rsmp(\"holdout\")\n",
    "\n",
    "set.seed(123)\n",
    "hld$instantiate(task)"
   ]
  },
  {
   "cell_type": "code",
   "execution_count": 14,
   "metadata": {},
   "outputs": [
    {
     "name": "stdout",
     "output_type": "stream",
     "text": [
      "INFO  [22:10:31.163] [mlr3]  Benchmark with 3 resampling iterations \n",
      "INFO  [22:10:31.313] [mlr3]  Applying learner 'undersample.classif.log_reg' on task 'Task' (iter 1/1) \n",
      "INFO  [22:10:32.064] [mlr3]  Applying learner 'oversample.classif.log_reg' on task 'Task' (iter 1/1) \n",
      "INFO  [22:10:34.505] [mlr3]  Applying learner 'classif.log_reg' on task 'Task' (iter 1/1) \n",
      "INFO  [22:10:36.689] [mlr3]  Finished benchmark \n"
     ]
    }
   ],
   "source": [
    "bmr <- benchmark(design = benchmark_grid(task = task,\n",
    "                                        learner = list(learner_logreg,graph_up,\n",
    "                                                       graph_down),\n",
    "                                        hld),\n",
    "                store_models = TRUE) #only needed if you want to inspect the models"
   ]
  },
  {
   "cell_type": "markdown",
   "metadata": {},
   "source": [
    "Retrive results from benchmark with the accuracy metrics (used for the challenge)"
   ]
  },
  {
   "cell_type": "code",
   "execution_count": 15,
   "metadata": {},
   "outputs": [
    {
     "data": {
      "text/html": [
       "<table>\n",
       "<caption>A data.table: 3 × 7</caption>\n",
       "<thead>\n",
       "\t<tr><th scope=col>nr</th><th scope=col>resample_result</th><th scope=col>task_id</th><th scope=col>learner_id</th><th scope=col>resampling_id</th><th scope=col>iters</th><th scope=col>classif.acc</th></tr>\n",
       "\t<tr><th scope=col>&lt;int&gt;</th><th scope=col>&lt;list&gt;</th><th scope=col>&lt;chr&gt;</th><th scope=col>&lt;chr&gt;</th><th scope=col>&lt;chr&gt;</th><th scope=col>&lt;int&gt;</th><th scope=col>&lt;dbl&gt;</th></tr>\n",
       "</thead>\n",
       "<tbody>\n",
       "\t<tr><td>1</td><td>&lt;environment: 0xf7fffc0&gt;</td><td>Task</td><td><span style=white-space:pre-wrap>classif.log_reg            </span></td><td>holdout</td><td>1</td><td>0.7802431</td></tr>\n",
       "\t<tr><td>2</td><td>&lt;environment: 0xed97758&gt;</td><td>Task</td><td>oversample.classif.log_reg </td><td>holdout</td><td>1</td><td>0.5533281</td></tr>\n",
       "\t<tr><td>3</td><td>&lt;environment: 0x10cb7758&gt;</td><td>Task</td><td>undersample.classif.log_reg</td><td>holdout</td><td>1</td><td>0.5493074</td></tr>\n",
       "</tbody>\n",
       "</table>\n"
      ],
      "text/latex": [
       "A data.table: 3 × 7\n",
       "\\begin{tabular}{lllllll}\n",
       " nr & resample\\_result & task\\_id & learner\\_id & resampling\\_id & iters & classif.acc\\\\\n",
       " <int> & <list> & <chr> & <chr> & <chr> & <int> & <dbl>\\\\\n",
       "\\hline\n",
       "\t 1 & <environment: 0xf7fffc0> & Task & classif.log\\_reg             & holdout & 1 & 0.7802431\\\\\n",
       "\t 2 & <environment: 0xed97758> & Task & oversample.classif.log\\_reg  & holdout & 1 & 0.5533281\\\\\n",
       "\t 3 & <environment: 0x10cb7758> & Task & undersample.classif.log\\_reg & holdout & 1 & 0.5493074\\\\\n",
       "\\end{tabular}\n"
      ],
      "text/markdown": [
       "\n",
       "A data.table: 3 × 7\n",
       "\n",
       "| nr &lt;int&gt; | resample_result &lt;list&gt; | task_id &lt;chr&gt; | learner_id &lt;chr&gt; | resampling_id &lt;chr&gt; | iters &lt;int&gt; | classif.acc &lt;dbl&gt; |\n",
       "|---|---|---|---|---|---|---|\n",
       "| 1 | &lt;environment: 0xf7fffc0&gt; | Task | classif.log_reg             | holdout | 1 | 0.7802431 |\n",
       "| 2 | &lt;environment: 0xed97758&gt; | Task | oversample.classif.log_reg  | holdout | 1 | 0.5533281 |\n",
       "| 3 | &lt;environment: 0x10cb7758&gt; | Task | undersample.classif.log_reg | holdout | 1 | 0.5493074 |\n",
       "\n"
      ],
      "text/plain": [
       "  nr resample_result           task_id learner_id                 \n",
       "1 1  <environment: 0xf7fffc0>  Task    classif.log_reg            \n",
       "2 2  <environment: 0xed97758>  Task    oversample.classif.log_reg \n",
       "3 3  <environment: 0x10cb7758> Task    undersample.classif.log_reg\n",
       "  resampling_id iters classif.acc\n",
       "1 holdout       1     0.7802431  \n",
       "2 holdout       1     0.5533281  \n",
       "3 holdout       1     0.5493074  "
      ]
     },
     "metadata": {},
     "output_type": "display_data"
    }
   ],
   "source": [
    "bmr$aggregate(msr(\"classif.acc\"))"
   ]
  },
  {
   "cell_type": "markdown",
   "metadata": {},
   "source": [
    "Same for recall and precision"
   ]
  },
  {
   "cell_type": "code",
   "execution_count": 16,
   "metadata": {},
   "outputs": [
    {
     "data": {
      "text/html": [
       "<table>\n",
       "<caption>A data.table: 3 × 7</caption>\n",
       "<thead>\n",
       "\t<tr><th scope=col>nr</th><th scope=col>resample_result</th><th scope=col>task_id</th><th scope=col>learner_id</th><th scope=col>resampling_id</th><th scope=col>iters</th><th scope=col>classif.recall</th></tr>\n",
       "\t<tr><th scope=col>&lt;int&gt;</th><th scope=col>&lt;list&gt;</th><th scope=col>&lt;chr&gt;</th><th scope=col>&lt;chr&gt;</th><th scope=col>&lt;chr&gt;</th><th scope=col>&lt;int&gt;</th><th scope=col>&lt;dbl&gt;</th></tr>\n",
       "</thead>\n",
       "<tbody>\n",
       "\t<tr><td>1</td><td>&lt;environment: 0x8f932fa8&gt;</td><td>Task</td><td><span style=white-space:pre-wrap>classif.log_reg            </span></td><td>holdout</td><td>1</td><td>1.0000000</td></tr>\n",
       "\t<tr><td>2</td><td>&lt;environment: 0x8f94ac98&gt;</td><td>Task</td><td>oversample.classif.log_reg </td><td>holdout</td><td>1</td><td>0.5719988</td></tr>\n",
       "\t<tr><td>3</td><td>&lt;environment: 0x8f95eb58&gt;</td><td>Task</td><td>undersample.classif.log_reg</td><td>holdout</td><td>1</td><td>0.5667731</td></tr>\n",
       "</tbody>\n",
       "</table>\n"
      ],
      "text/latex": [
       "A data.table: 3 × 7\n",
       "\\begin{tabular}{lllllll}\n",
       " nr & resample\\_result & task\\_id & learner\\_id & resampling\\_id & iters & classif.recall\\\\\n",
       " <int> & <list> & <chr> & <chr> & <chr> & <int> & <dbl>\\\\\n",
       "\\hline\n",
       "\t 1 & <environment: 0x8f932fa8> & Task & classif.log\\_reg             & holdout & 1 & 1.0000000\\\\\n",
       "\t 2 & <environment: 0x8f94ac98> & Task & oversample.classif.log\\_reg  & holdout & 1 & 0.5719988\\\\\n",
       "\t 3 & <environment: 0x8f95eb58> & Task & undersample.classif.log\\_reg & holdout & 1 & 0.5667731\\\\\n",
       "\\end{tabular}\n"
      ],
      "text/markdown": [
       "\n",
       "A data.table: 3 × 7\n",
       "\n",
       "| nr &lt;int&gt; | resample_result &lt;list&gt; | task_id &lt;chr&gt; | learner_id &lt;chr&gt; | resampling_id &lt;chr&gt; | iters &lt;int&gt; | classif.recall &lt;dbl&gt; |\n",
       "|---|---|---|---|---|---|---|\n",
       "| 1 | &lt;environment: 0x8f932fa8&gt; | Task | classif.log_reg             | holdout | 1 | 1.0000000 |\n",
       "| 2 | &lt;environment: 0x8f94ac98&gt; | Task | oversample.classif.log_reg  | holdout | 1 | 0.5719988 |\n",
       "| 3 | &lt;environment: 0x8f95eb58&gt; | Task | undersample.classif.log_reg | holdout | 1 | 0.5667731 |\n",
       "\n"
      ],
      "text/plain": [
       "  nr resample_result           task_id learner_id                 \n",
       "1 1  <environment: 0x8f932fa8> Task    classif.log_reg            \n",
       "2 2  <environment: 0x8f94ac98> Task    oversample.classif.log_reg \n",
       "3 3  <environment: 0x8f95eb58> Task    undersample.classif.log_reg\n",
       "  resampling_id iters classif.recall\n",
       "1 holdout       1     1.0000000     \n",
       "2 holdout       1     0.5719988     \n",
       "3 holdout       1     0.5667731     "
      ]
     },
     "metadata": {},
     "output_type": "display_data"
    }
   ],
   "source": [
    "bmr$aggregate(msr(\"classif.recall\"))"
   ]
  },
  {
   "cell_type": "code",
   "execution_count": 17,
   "metadata": {},
   "outputs": [
    {
     "data": {
      "text/html": [
       "<table>\n",
       "<caption>A data.table: 3 × 7</caption>\n",
       "<thead>\n",
       "\t<tr><th scope=col>nr</th><th scope=col>resample_result</th><th scope=col>task_id</th><th scope=col>learner_id</th><th scope=col>resampling_id</th><th scope=col>iters</th><th scope=col>classif.precision</th></tr>\n",
       "\t<tr><th scope=col>&lt;int&gt;</th><th scope=col>&lt;list&gt;</th><th scope=col>&lt;chr&gt;</th><th scope=col>&lt;chr&gt;</th><th scope=col>&lt;chr&gt;</th><th scope=col>&lt;int&gt;</th><th scope=col>&lt;dbl&gt;</th></tr>\n",
       "</thead>\n",
       "<tbody>\n",
       "\t<tr><td>1</td><td>&lt;environment: 0x2cbbde48&gt;</td><td>Task</td><td><span style=white-space:pre-wrap>classif.log_reg            </span></td><td>holdout</td><td>1</td><td>0.7802431</td></tr>\n",
       "\t<tr><td>2</td><td>&lt;environment: 0x2cbd1d08&gt;</td><td>Task</td><td>oversample.classif.log_reg </td><td>holdout</td><td>1</td><td>0.7983508</td></tr>\n",
       "\t<tr><td>3</td><td>&lt;environment: 0x2cbe99f8&gt;</td><td>Task</td><td>undersample.classif.log_reg</td><td>holdout</td><td>1</td><td>0.7969506</td></tr>\n",
       "</tbody>\n",
       "</table>\n"
      ],
      "text/latex": [
       "A data.table: 3 × 7\n",
       "\\begin{tabular}{lllllll}\n",
       " nr & resample\\_result & task\\_id & learner\\_id & resampling\\_id & iters & classif.precision\\\\\n",
       " <int> & <list> & <chr> & <chr> & <chr> & <int> & <dbl>\\\\\n",
       "\\hline\n",
       "\t 1 & <environment: 0x2cbbde48> & Task & classif.log\\_reg             & holdout & 1 & 0.7802431\\\\\n",
       "\t 2 & <environment: 0x2cbd1d08> & Task & oversample.classif.log\\_reg  & holdout & 1 & 0.7983508\\\\\n",
       "\t 3 & <environment: 0x2cbe99f8> & Task & undersample.classif.log\\_reg & holdout & 1 & 0.7969506\\\\\n",
       "\\end{tabular}\n"
      ],
      "text/markdown": [
       "\n",
       "A data.table: 3 × 7\n",
       "\n",
       "| nr &lt;int&gt; | resample_result &lt;list&gt; | task_id &lt;chr&gt; | learner_id &lt;chr&gt; | resampling_id &lt;chr&gt; | iters &lt;int&gt; | classif.precision &lt;dbl&gt; |\n",
       "|---|---|---|---|---|---|---|\n",
       "| 1 | &lt;environment: 0x2cbbde48&gt; | Task | classif.log_reg             | holdout | 1 | 0.7802431 |\n",
       "| 2 | &lt;environment: 0x2cbd1d08&gt; | Task | oversample.classif.log_reg  | holdout | 1 | 0.7983508 |\n",
       "| 3 | &lt;environment: 0x2cbe99f8&gt; | Task | undersample.classif.log_reg | holdout | 1 | 0.7969506 |\n",
       "\n"
      ],
      "text/plain": [
       "  nr resample_result           task_id learner_id                 \n",
       "1 1  <environment: 0x2cbbde48> Task    classif.log_reg            \n",
       "2 2  <environment: 0x2cbd1d08> Task    oversample.classif.log_reg \n",
       "3 3  <environment: 0x2cbe99f8> Task    undersample.classif.log_reg\n",
       "  resampling_id iters classif.precision\n",
       "1 holdout       1     0.7802431        \n",
       "2 holdout       1     0.7983508        \n",
       "3 holdout       1     0.7969506        "
      ]
     },
     "metadata": {},
     "output_type": "display_data"
    }
   ],
   "source": [
    "bmr$aggregate(msr(\"classif.precision\"))"
   ]
  },
  {
   "cell_type": "markdown",
   "metadata": {},
   "source": [
    "=> Over and undersampling technique do not increase accuracy. Precision is slighlyt better with class balance sampling technique.  \n",
    "But the recall value of classif.log_reg is too high (=1).   \n",
    "\n",
    "We define a train/test split and train our different learners to have a detailed view on the prediction. "
   ]
  },
  {
   "cell_type": "code",
   "execution_count": 18,
   "metadata": {},
   "outputs": [
    {
     "data": {
      "text/plain": [
       "        truth\n",
       "response     0     1\n",
       "       0 41195 11781\n",
       "       1     0     0"
      ]
     },
     "metadata": {},
     "output_type": "display_data"
    }
   ],
   "source": [
    "# train/test split\n",
    "train_set <- sample(task$nrow, 0.8 * task$nrow)\n",
    "test_set <- setdiff(seq_len(task$nrow), train_set)\n",
    "\n",
    "# train the model\n",
    "learner_logreg$train(task, row_ids = train_set)\n",
    "\n",
    "# predict data\n",
    "prediction <- learner_logreg$predict(task, row_ids = test_set)\n",
    "\n",
    "# calculate performance\n",
    "prediction$confusion"
   ]
  },
  {
   "cell_type": "code",
   "execution_count": 19,
   "metadata": {},
   "outputs": [
    {
     "data": {
      "text/html": [
       "<style>\n",
       ".dl-inline {width: auto; margin:0; padding: 0}\n",
       ".dl-inline>dt, .dl-inline>dd {float: none; width: auto; display: inline-block}\n",
       ".dl-inline>dt::after {content: \":\\0020\"; padding-right: .5ex}\n",
       ".dl-inline>dt:not(:first-of-type) {padding-left: .5ex}\n",
       "</style><dl class=dl-inline><dt>classif.acc</dt><dd>0.777616279069767</dd><dt>classif.precision</dt><dd>0.777616279069767</dd></dl>\n"
      ],
      "text/latex": [
       "\\begin{description*}\n",
       "\\item[classif.acc] 0.777616279069767\n",
       "\\item[classif.precision] 0.777616279069767\n",
       "\\end{description*}\n"
      ],
      "text/markdown": [
       "classif.acc\n",
       ":   0.777616279069767classif.precision\n",
       ":   0.777616279069767\n",
       "\n"
      ],
      "text/plain": [
       "      classif.acc classif.precision \n",
       "        0.7776163         0.7776163 "
      ]
     },
     "metadata": {},
     "output_type": "display_data"
    }
   ],
   "source": [
    "measure <- list(msr(\"classif.acc\"), msr(\"classif.precision\"))\n",
    "prediction$score(measure)"
   ]
  },
  {
   "cell_type": "markdown",
   "metadata": {},
   "source": [
    "=> From this first model, we can notice that the better accuracy is confirmed for no sampling techniques. \n",
    "Nontheless, we can notice from our confusion matrix that this model do not distinct man and woman. \n",
    "The model has predicted that all ids are men.   \n",
    "One of the main reason is probably coming from imbalanced data. Let us confirm that."
   ]
  },
  {
   "cell_type": "code",
   "execution_count": 20,
   "metadata": {},
   "outputs": [
    {
     "data": {
      "text/plain": [
       "        truth\n",
       "response     0     1\n",
       "       0 24107  6157\n",
       "       1 17062  5650"
      ]
     },
     "metadata": {},
     "output_type": "display_data"
    }
   ],
   "source": [
    "# train/test split\n",
    "train_set <- sample(task$nrow, 0.8 * task$nrow)\n",
    "test_set <- setdiff(seq_len(task$nrow), train_set)\n",
    "\n",
    "# train the model\n",
    "graph_down$train(task, row_ids = train_set)\n",
    "\n",
    "# predict data\n",
    "prediction <- graph_down$predict(task, row_ids = test_set)\n",
    "\n",
    "# calculate performance\n",
    "prediction$confusion"
   ]
  },
  {
   "cell_type": "code",
   "execution_count": 21,
   "metadata": {},
   "outputs": [
    {
     "data": {
      "text/html": [
       "<style>\n",
       ".dl-inline {width: auto; margin:0; padding: 0}\n",
       ".dl-inline>dt, .dl-inline>dd {float: none; width: auto; display: inline-block}\n",
       ".dl-inline>dt::after {content: \":\\0020\"; padding-right: .5ex}\n",
       ".dl-inline>dt:not(:first-of-type) {padding-left: .5ex}\n",
       "</style><dl class=dl-inline><dt>classif.acc</dt><dd>0.561707188160677</dd><dt>classif.precision</dt><dd>0.796556965371398</dd><dt>classif.recall</dt><dd>0.58556195195414</dd></dl>\n"
      ],
      "text/latex": [
       "\\begin{description*}\n",
       "\\item[classif.acc] 0.561707188160677\n",
       "\\item[classif.precision] 0.796556965371398\n",
       "\\item[classif.recall] 0.58556195195414\n",
       "\\end{description*}\n"
      ],
      "text/markdown": [
       "classif.acc\n",
       ":   0.561707188160677classif.precision\n",
       ":   0.796556965371398classif.recall\n",
       ":   0.58556195195414\n",
       "\n"
      ],
      "text/plain": [
       "      classif.acc classif.precision    classif.recall \n",
       "        0.5617072         0.7965570         0.5855620 "
      ]
     },
     "metadata": {},
     "output_type": "display_data"
    }
   ],
   "source": [
    "measure <- list(msr(\"classif.acc\"), msr(\"classif.precision\"), msr(\"classif.recall\") )\n",
    "prediction$score(measure)"
   ]
  },
  {
   "cell_type": "markdown",
   "metadata": {},
   "source": [
    "Here, we can notice that thanks to undersampling the model can distinct men and women. Let us see the results for oversampling."
   ]
  },
  {
   "cell_type": "code",
   "execution_count": 22,
   "metadata": {},
   "outputs": [
    {
     "data": {
      "text/plain": [
       "        truth\n",
       "response     0     1\n",
       "       0 24083  6167\n",
       "       1 17118  5608"
      ]
     },
     "metadata": {},
     "output_type": "display_data"
    }
   ],
   "source": [
    "# train/test split\n",
    "train_set <- sample(task$nrow, 0.8 * task$nrow)\n",
    "test_set <- setdiff(seq_len(task$nrow), train_set)\n",
    "\n",
    "# train the model\n",
    "graph_up$train(task, row_ids = train_set)\n",
    "\n",
    "# predict data\n",
    "prediction <- graph_up$predict(task, row_ids = test_set)\n",
    "\n",
    "# calculate performance\n",
    "prediction$confusion"
   ]
  },
  {
   "cell_type": "code",
   "execution_count": 23,
   "metadata": {},
   "outputs": [
    {
     "data": {
      "text/html": [
       "<style>\n",
       ".dl-inline {width: auto; margin:0; padding: 0}\n",
       ".dl-inline>dt, .dl-inline>dd {float: none; width: auto; display: inline-block}\n",
       ".dl-inline>dt::after {content: \":\\0020\"; padding-right: .5ex}\n",
       ".dl-inline>dt:not(:first-of-type) {padding-left: .5ex}\n",
       "</style><dl class=dl-inline><dt>classif.acc</dt><dd>0.560461340984597</dd><dt>classif.precision</dt><dd>0.796132231404959</dd><dt>classif.recall</dt><dd>0.584524647460013</dd></dl>\n"
      ],
      "text/latex": [
       "\\begin{description*}\n",
       "\\item[classif.acc] 0.560461340984597\n",
       "\\item[classif.precision] 0.796132231404959\n",
       "\\item[classif.recall] 0.584524647460013\n",
       "\\end{description*}\n"
      ],
      "text/markdown": [
       "classif.acc\n",
       ":   0.560461340984597classif.precision\n",
       ":   0.796132231404959classif.recall\n",
       ":   0.584524647460013\n",
       "\n"
      ],
      "text/plain": [
       "      classif.acc classif.precision    classif.recall \n",
       "        0.5604613         0.7961322         0.5845246 "
      ]
     },
     "metadata": {},
     "output_type": "display_data"
    }
   ],
   "source": [
    "measure <- list(msr(\"classif.acc\"), msr(\"classif.precision\"), msr(\"classif.recall\") )\n",
    "prediction$score(measure)"
   ]
  },
  {
   "cell_type": "markdown",
   "metadata": {},
   "source": [
    "=> Precision better, accuracy lower. "
   ]
  },
  {
   "cell_type": "markdown",
   "metadata": {},
   "source": [
    "Let us use resampling technique with Cross validation set to 3 in order to check consistancy of oversampling technique. "
   ]
  },
  {
   "cell_type": "code",
   "execution_count": 25,
   "metadata": {},
   "outputs": [
    {
     "name": "stdout",
     "output_type": "stream",
     "text": [
      "INFO  [17:04:50.536] Applying learner 'oversample.classif.log_reg' on task 'Task' (iter 2/3) \n",
      "INFO  [17:04:53.243] Applying learner 'oversample.classif.log_reg' on task 'Task' (iter 1/3) \n",
      "INFO  [17:04:55.702] Applying learner 'oversample.classif.log_reg' on task 'Task' (iter 3/3) \n"
     ]
    },
    {
     "data": {
      "text/html": [
       "<table>\n",
       "<caption>A data.table: 3 × 11</caption>\n",
       "<thead>\n",
       "\t<tr><th scope=col>task</th><th scope=col>task_id</th><th scope=col>learner</th><th scope=col>learner_id</th><th scope=col>resampling</th><th scope=col>resampling_id</th><th scope=col>iteration</th><th scope=col>prediction</th><th scope=col>classif.acc</th><th scope=col>classif.precision</th><th scope=col>classif.recall</th></tr>\n",
       "\t<tr><th scope=col>&lt;list&gt;</th><th scope=col>&lt;chr&gt;</th><th scope=col>&lt;list&gt;</th><th scope=col>&lt;chr&gt;</th><th scope=col>&lt;list&gt;</th><th scope=col>&lt;chr&gt;</th><th scope=col>&lt;int&gt;</th><th scope=col>&lt;list&gt;</th><th scope=col>&lt;dbl&gt;</th><th scope=col>&lt;dbl&gt;</th><th scope=col>&lt;dbl&gt;</th></tr>\n",
       "</thead>\n",
       "<tbody>\n",
       "\t<tr><td>&lt;environment: 0xe8a6008&gt;</td><td>Task</td><td>&lt;environment: 0x112bbeb8&gt;</td><td>oversample.classif.log_reg</td><td>&lt;environment: 0xe985ea0&gt;</td><td>cv</td><td>1</td><td>&lt;environment: 0x357bcac0&gt;</td><td>0.5622126</td><td>0.7963402</td><td>0.5870408</td></tr>\n",
       "\t<tr><td>&lt;environment: 0xe8a6008&gt;</td><td>Task</td><td>&lt;environment: 0xdefa978&gt;</td><td>oversample.classif.log_reg</td><td>&lt;environment: 0xe985ea0&gt;</td><td>cv</td><td>2</td><td>&lt;environment: 0x355d5620&gt;</td><td>0.5597386</td><td>0.7948556</td><td>0.5859702</td></tr>\n",
       "\t<tr><td>&lt;environment: 0xe8a6008&gt;</td><td>Task</td><td>&lt;environment: 0x8a942a8&gt;</td><td>oversample.classif.log_reg</td><td>&lt;environment: 0xe985ea0&gt;</td><td>cv</td><td>3</td><td>&lt;environment: 0x34360000&gt;</td><td>0.5528751</td><td>0.8015925</td><td>0.5679952</td></tr>\n",
       "</tbody>\n",
       "</table>\n"
      ],
      "text/latex": [
       "A data.table: 3 × 11\n",
       "\\begin{tabular}{lllllllllll}\n",
       " task & task\\_id & learner & learner\\_id & resampling & resampling\\_id & iteration & prediction & classif.acc & classif.precision & classif.recall\\\\\n",
       " <list> & <chr> & <list> & <chr> & <list> & <chr> & <int> & <list> & <dbl> & <dbl> & <dbl>\\\\\n",
       "\\hline\n",
       "\t <environment: 0xe8a6008> & Task & <environment: 0x112bbeb8> & oversample.classif.log\\_reg & <environment: 0xe985ea0> & cv & 1 & <environment: 0x357bcac0> & 0.5622126 & 0.7963402 & 0.5870408\\\\\n",
       "\t <environment: 0xe8a6008> & Task & <environment: 0xdefa978> & oversample.classif.log\\_reg & <environment: 0xe985ea0> & cv & 2 & <environment: 0x355d5620> & 0.5597386 & 0.7948556 & 0.5859702\\\\\n",
       "\t <environment: 0xe8a6008> & Task & <environment: 0x8a942a8> & oversample.classif.log\\_reg & <environment: 0xe985ea0> & cv & 3 & <environment: 0x34360000> & 0.5528751 & 0.8015925 & 0.5679952\\\\\n",
       "\\end{tabular}\n"
      ],
      "text/markdown": [
       "\n",
       "A data.table: 3 × 11\n",
       "\n",
       "| task &lt;list&gt; | task_id &lt;chr&gt; | learner &lt;list&gt; | learner_id &lt;chr&gt; | resampling &lt;list&gt; | resampling_id &lt;chr&gt; | iteration &lt;int&gt; | prediction &lt;list&gt; | classif.acc &lt;dbl&gt; | classif.precision &lt;dbl&gt; | classif.recall &lt;dbl&gt; |\n",
       "|---|---|---|---|---|---|---|---|---|---|---|\n",
       "| &lt;environment: 0xe8a6008&gt; | Task | &lt;environment: 0x112bbeb8&gt; | oversample.classif.log_reg | &lt;environment: 0xe985ea0&gt; | cv | 1 | &lt;environment: 0x357bcac0&gt; | 0.5622126 | 0.7963402 | 0.5870408 |\n",
       "| &lt;environment: 0xe8a6008&gt; | Task | &lt;environment: 0xdefa978&gt; | oversample.classif.log_reg | &lt;environment: 0xe985ea0&gt; | cv | 2 | &lt;environment: 0x355d5620&gt; | 0.5597386 | 0.7948556 | 0.5859702 |\n",
       "| &lt;environment: 0xe8a6008&gt; | Task | &lt;environment: 0x8a942a8&gt; | oversample.classif.log_reg | &lt;environment: 0xe985ea0&gt; | cv | 3 | &lt;environment: 0x34360000&gt; | 0.5528751 | 0.8015925 | 0.5679952 |\n",
       "\n"
      ],
      "text/plain": [
       "  task                     task_id learner                  \n",
       "1 <environment: 0xe8a6008> Task    <environment: 0x112bbeb8>\n",
       "2 <environment: 0xe8a6008> Task    <environment: 0xdefa978> \n",
       "3 <environment: 0xe8a6008> Task    <environment: 0x8a942a8> \n",
       "  learner_id                 resampling               resampling_id iteration\n",
       "1 oversample.classif.log_reg <environment: 0xe985ea0> cv            1        \n",
       "2 oversample.classif.log_reg <environment: 0xe985ea0> cv            2        \n",
       "3 oversample.classif.log_reg <environment: 0xe985ea0> cv            3        \n",
       "  prediction                classif.acc classif.precision classif.recall\n",
       "1 <environment: 0x357bcac0> 0.5622126   0.7963402         0.5870408     \n",
       "2 <environment: 0x355d5620> 0.5597386   0.7948556         0.5859702     \n",
       "3 <environment: 0x34360000> 0.5528751   0.8015925         0.5679952     "
      ]
     },
     "metadata": {},
     "output_type": "display_data"
    }
   ],
   "source": [
    "# automatic resampling\n",
    "resampling <- rsmp(\"cv\", folds = 3L)\n",
    "rr <- resample(task, graph_up, resampling)\n",
    "rr$score(measure)"
   ]
  },
  {
   "cell_type": "markdown",
   "metadata": {},
   "source": [
    "We can notice that classif acc does not change much over different split which allows us to confirm the use of oversampling in our next models."
   ]
  },
  {
   "cell_type": "markdown",
   "metadata": {},
   "source": [
    "### 4.4 Benchmarking models"
   ]
  },
  {
   "cell_type": "code",
   "execution_count": 24,
   "metadata": {},
   "outputs": [
    {
     "name": "stderr",
     "output_type": "stream",
     "text": [
      "Loading required package: Matrix\n",
      "\n",
      "Loaded glmnet 4.0-2\n",
      "\n"
     ]
    }
   ],
   "source": [
    "library(\"nnet\")\n",
    "library(\"glmnet\")\n",
    "library(\"ranger\")\n",
    "library(\"xgboost\")\n",
    "library(\"e1071\")\n",
    "library(\"mlr3keras\")\n",
    "library(\"keras\")"
   ]
  },
  {
   "cell_type": "markdown",
   "metadata": {},
   "source": [
    "#### 4.4.1 Define models and pipe"
   ]
  },
  {
   "cell_type": "markdown",
   "metadata": {},
   "source": [
    "Here we define different classification models inside pipe with oversampling technique and one-hot factor encoding."
   ]
  },
  {
   "cell_type": "markdown",
   "metadata": {},
   "source": [
    "Random Forest"
   ]
  },
  {
   "cell_type": "code",
   "execution_count": 25,
   "metadata": {},
   "outputs": [],
   "source": [
    "learner_rpart=lrn(\"classif.rpart\")\n",
    "lrn_up = po(\"encode\",\n",
    "  affect_columns = selector_type(\"factor\")) %>>% po(\"classbalancing\", id = \"oversample\", adjust = \"minor\", \n",
    "     reference = \"minor\", shuffle = FALSE, ratio = 206360 / 58520) %>>%\n",
    "  learner_rpart\n",
    "learner_rpart <- GraphLearner$new(lrn_up)\n",
    "learner_rpart$predict_type <- \"prob\""
   ]
  },
  {
   "cell_type": "markdown",
   "metadata": {},
   "source": [
    "Elastic Net Regularization Regression Learner"
   ]
  },
  {
   "cell_type": "code",
   "execution_count": 26,
   "metadata": {},
   "outputs": [],
   "source": [
    "learner_glmnet=lrn(\"classif.glmnet\")\n",
    "lrn_up = po(\"encode\",\n",
    "  affect_columns = selector_type(\"factor\")) %>>%po(\"classbalancing\", id = \"oversample\", adjust = \"minor\", \n",
    "     reference = \"minor\", shuffle = FALSE, ratio = 206360 / 58520) %>>%\n",
    "  learner_glmnet\n",
    "learner_glmnet <- GraphLearner$new(lrn_up)\n",
    "learner_glmnet$predict_type <- \"prob\""
   ]
  },
  {
   "cell_type": "markdown",
   "metadata": {},
   "source": [
    "Log Regression"
   ]
  },
  {
   "cell_type": "code",
   "execution_count": 27,
   "metadata": {},
   "outputs": [],
   "source": [
    "learner_log_reg=lrn(\"classif.log_reg\")\n",
    "lrn_up = po(\"encode\",\n",
    "  affect_columns = selector_type(\"factor\")) %>>% po(\"classbalancing\", id = \"oversample\", adjust = \"minor\", \n",
    "     reference = \"minor\", shuffle = FALSE, ratio = 206360 / 58520) %>>%\n",
    "  learner_log_reg\n",
    "learner_log_reg <- GraphLearner$new(lrn_up)\n",
    "learner_log_reg$predict_type <- \"prob\""
   ]
  },
  {
   "cell_type": "markdown",
   "metadata": {},
   "source": [
    "Single-hidden-layer neural network"
   ]
  },
  {
   "cell_type": "code",
   "execution_count": 28,
   "metadata": {},
   "outputs": [],
   "source": [
    "learner_nnet=lrn(\"classif.nnet\")\n",
    "lrn_up = po(\"encode\",\n",
    "  affect_columns = selector_type(\"factor\")) %>>% po(\"classbalancing\", id = \"oversample\", adjust = \"minor\", \n",
    "     reference = \"minor\", shuffle = FALSE, ratio = 206360 / 58520) %>>%\n",
    "  learner_nnet\n",
    "learner_nnet <- GraphLearner$new(lrn_up)\n",
    "learner_nnet$predict_type <- \"prob\""
   ]
  },
  {
   "cell_type": "markdown",
   "metadata": {},
   "source": [
    "Design benchmark grid. We will compare ou models inside 5 Cross-Validation splits"
   ]
  },
  {
   "cell_type": "code",
   "execution_count": 42,
   "metadata": {},
   "outputs": [
    {
     "name": "stdout",
     "output_type": "stream",
     "text": [
      "                task            learner         resampling\n",
      "1: <TaskClassif[45]> <GraphLearner[33]> <ResamplingCV[19]>\n",
      "2: <TaskClassif[45]> <GraphLearner[33]> <ResamplingCV[19]>\n",
      "3: <TaskClassif[45]> <GraphLearner[33]> <ResamplingCV[19]>\n",
      "4: <TaskClassif[45]> <GraphLearner[33]> <ResamplingCV[19]>\n"
     ]
    }
   ],
   "source": [
    "design = benchmark_grid(\n",
    "  tasks = task,\n",
    "  learners = list(learner_rpart, learner_glmnet,learner_log_reg,learner_nnet),\n",
    "  resamplings = rsmp(\"cv\", folds = 5)\n",
    ")\n",
    "print(design)"
   ]
  },
  {
   "cell_type": "markdown",
   "metadata": {},
   "source": [
    "Let us lunch our benchmark"
   ]
  },
  {
   "cell_type": "code",
   "execution_count": 34,
   "metadata": {},
   "outputs": [
    {
     "name": "stdout",
     "output_type": "stream",
     "text": [
      "INFO  [17:11:18.541] Benchmark with 20 resampling iterations \n",
      "INFO  [17:11:18.549] Applying learner 'encode.oversample.classif.glmnet' on task 'Task' (iter 5/5) \n",
      "INFO  [17:11:24.137] Applying learner 'encode.oversample.classif.glmnet' on task 'Task' (iter 3/5) \n",
      "INFO  [17:11:29.851] Applying learner 'encode.oversample.classif.nnet' on task 'Task' (iter 4/5) \n",
      "# weights:  172\n",
      "initial  value 264657.981997 \n",
      "iter  10 value 228763.547824\n",
      "iter  20 value 228277.218489\n",
      "iter  30 value 228145.385222\n",
      "iter  40 value 228037.532469\n",
      "iter  50 value 227835.988993\n",
      "iter  60 value 227667.908812\n",
      "iter  70 value 227570.947334\n",
      "iter  80 value 227512.564127\n",
      "iter  90 value 227485.819576\n",
      "iter 100 value 227450.941063\n",
      "final  value 227450.941063 \n",
      "stopped after 100 iterations\n",
      "INFO  [17:13:17.032] Applying learner 'encode.oversample.classif.nnet' on task 'Task' (iter 3/5) \n",
      "# weights:  172\n",
      "initial  value 237667.525600 \n",
      "iter  10 value 228505.920131\n",
      "iter  20 value 228223.109239\n",
      "iter  30 value 228013.458745\n",
      "iter  40 value 227860.722732\n",
      "iter  50 value 227764.715398\n",
      "iter  60 value 227695.073380\n",
      "iter  70 value 227658.833463\n",
      "iter  80 value 227630.770935\n",
      "iter  90 value 227609.674118\n",
      "iter 100 value 227578.349156\n",
      "final  value 227578.349156 \n",
      "stopped after 100 iterations\n",
      "INFO  [17:14:59.751] Applying learner 'encode.oversample.classif.rpart' on task 'Task' (iter 4/5) \n",
      "INFO  [17:15:13.472] Applying learner 'encode.oversample.classif.log_reg' on task 'Task' (iter 4/5) \n",
      "INFO  [17:15:18.110] Applying learner 'encode.oversample.classif.nnet' on task 'Task' (iter 1/5) \n",
      "# weights:  172\n",
      "initial  value 239284.392231 \n",
      "iter  10 value 228288.254456\n",
      "iter  20 value 227969.882096\n",
      "iter  30 value 227719.143485\n",
      "iter  40 value 227595.930580\n",
      "iter  50 value 227534.393403\n",
      "iter  60 value 227501.681761\n",
      "iter  70 value 227473.130276\n",
      "iter  80 value 227446.708752\n",
      "iter  90 value 227430.484553\n",
      "iter 100 value 227409.857005\n",
      "final  value 227409.857005 \n",
      "stopped after 100 iterations\n",
      "INFO  [17:16:50.227] Applying learner 'encode.oversample.classif.rpart' on task 'Task' (iter 2/5) \n",
      "INFO  [17:17:04.591] Applying learner 'encode.oversample.classif.rpart' on task 'Task' (iter 5/5) \n",
      "INFO  [17:17:18.709] Applying learner 'encode.oversample.classif.rpart' on task 'Task' (iter 3/5) \n",
      "INFO  [17:17:33.782] Applying learner 'encode.oversample.classif.rpart' on task 'Task' (iter 1/5) \n",
      "INFO  [17:17:48.858] Applying learner 'encode.oversample.classif.glmnet' on task 'Task' (iter 2/5) \n",
      "INFO  [17:17:54.105] Applying learner 'encode.oversample.classif.log_reg' on task 'Task' (iter 2/5) \n",
      "INFO  [17:17:59.083] Applying learner 'encode.oversample.classif.glmnet' on task 'Task' (iter 4/5) \n",
      "INFO  [17:18:04.484] Applying learner 'encode.oversample.classif.log_reg' on task 'Task' (iter 3/5) \n",
      "INFO  [17:18:15.274] Applying learner 'encode.oversample.classif.glmnet' on task 'Task' (iter 1/5) \n",
      "INFO  [17:18:21.044] Applying learner 'encode.oversample.classif.nnet' on task 'Task' (iter 5/5) \n",
      "# weights:  172\n",
      "initial  value 233931.911122 \n",
      "iter  10 value 228568.357057\n",
      "iter  20 value 228215.531584\n",
      "iter  30 value 227999.637884\n",
      "iter  40 value 227913.196217\n",
      "iter  50 value 227883.278139\n",
      "iter  60 value 227869.308209\n",
      "iter  70 value 227853.577419\n",
      "iter  80 value 227827.015408\n",
      "iter  90 value 227790.925099\n",
      "iter 100 value 227737.562772\n",
      "final  value 227737.562772 \n",
      "stopped after 100 iterations\n",
      "INFO  [17:19:43.027] Applying learner 'encode.oversample.classif.log_reg' on task 'Task' (iter 1/5) \n",
      "INFO  [17:19:47.640] Applying learner 'encode.oversample.classif.log_reg' on task 'Task' (iter 5/5) \n",
      "INFO  [17:19:52.773] Applying learner 'encode.oversample.classif.nnet' on task 'Task' (iter 2/5) \n",
      "# weights:  172\n",
      "initial  value 230330.330006 \n",
      "iter  10 value 228430.512929\n",
      "iter  20 value 228137.770485\n",
      "iter  30 value 227874.012810\n",
      "iter  40 value 227716.132746\n",
      "iter  50 value 227668.057924\n",
      "iter  60 value 227631.867363\n",
      "iter  70 value 227600.483613\n",
      "iter  80 value 227563.633786\n",
      "iter  90 value 227536.683432\n",
      "iter 100 value 227506.154542\n",
      "final  value 227506.154542 \n",
      "stopped after 100 iterations\n"
     ]
    },
    {
     "name": "stderr",
     "output_type": "stream",
     "text": [
      "Warning message in predict.lm(object, newdata, se.fit, scale = 1, type = if (type == :\n",
      "“prediction from a rank-deficient fit may be misleading”\n",
      "Warning message in predict.lm(object, newdata, se.fit, scale = 1, type = if (type == :\n",
      "“prediction from a rank-deficient fit may be misleading”\n",
      "Warning message in predict.lm(object, newdata, se.fit, scale = 1, type = if (type == :\n",
      "“prediction from a rank-deficient fit may be misleading”\n",
      "Warning message in predict.lm(object, newdata, se.fit, scale = 1, type = if (type == :\n",
      "“prediction from a rank-deficient fit may be misleading”\n",
      "Warning message in predict.lm(object, newdata, se.fit, scale = 1, type = if (type == :\n",
      "“prediction from a rank-deficient fit may be misleading”\n"
     ]
    },
    {
     "name": "stdout",
     "output_type": "stream",
     "text": [
      "INFO  [17:21:27.329] Finished benchmark \n"
     ]
    }
   ],
   "source": [
    "bmr = benchmark(design)"
   ]
  },
  {
   "cell_type": "markdown",
   "metadata": {},
   "source": [
    "And plot metrics results"
   ]
  },
  {
   "cell_type": "code",
   "execution_count": 45,
   "metadata": {},
   "outputs": [
    {
     "data": {
      "text/html": [
       "<table>\n",
       "<caption>A data.table: 4 × 4</caption>\n",
       "<thead>\n",
       "\t<tr><th scope=col>learner_id</th><th scope=col>classif.acc</th><th scope=col>classif.precision</th><th scope=col>classif.recall</th></tr>\n",
       "\t<tr><th scope=col>&lt;chr&gt;</th><th scope=col>&lt;dbl&gt;</th><th scope=col>&lt;dbl&gt;</th><th scope=col>&lt;dbl&gt;</th></tr>\n",
       "</thead>\n",
       "<tbody>\n",
       "\t<tr><td>encode.oversample.classif.rpart  </td><td>0.6224819</td><td>0.7867721</td><td>0.7073531</td></tr>\n",
       "\t<tr><td>encode.oversample.classif.glmnet </td><td>0.5647614</td><td>0.7909598</td><td>0.5999016</td></tr>\n",
       "\t<tr><td>encode.oversample.classif.log_reg</td><td>0.5567955</td><td>0.7980559</td><td>0.5771730</td></tr>\n",
       "\t<tr><td>encode.oversample.classif.nnet   </td><td>0.5656675</td><td>0.7907018</td><td>0.6017975</td></tr>\n",
       "</tbody>\n",
       "</table>\n"
      ],
      "text/latex": [
       "A data.table: 4 × 4\n",
       "\\begin{tabular}{llll}\n",
       " learner\\_id & classif.acc & classif.precision & classif.recall\\\\\n",
       " <chr> & <dbl> & <dbl> & <dbl>\\\\\n",
       "\\hline\n",
       "\t encode.oversample.classif.rpart   & 0.6224819 & 0.7867721 & 0.7073531\\\\\n",
       "\t encode.oversample.classif.glmnet  & 0.5647614 & 0.7909598 & 0.5999016\\\\\n",
       "\t encode.oversample.classif.log\\_reg & 0.5567955 & 0.7980559 & 0.5771730\\\\\n",
       "\t encode.oversample.classif.nnet    & 0.5656675 & 0.7907018 & 0.6017975\\\\\n",
       "\\end{tabular}\n"
      ],
      "text/markdown": [
       "\n",
       "A data.table: 4 × 4\n",
       "\n",
       "| learner_id &lt;chr&gt; | classif.acc &lt;dbl&gt; | classif.precision &lt;dbl&gt; | classif.recall &lt;dbl&gt; |\n",
       "|---|---|---|---|\n",
       "| encode.oversample.classif.rpart   | 0.6224819 | 0.7867721 | 0.7073531 |\n",
       "| encode.oversample.classif.glmnet  | 0.5647614 | 0.7909598 | 0.5999016 |\n",
       "| encode.oversample.classif.log_reg | 0.5567955 | 0.7980559 | 0.5771730 |\n",
       "| encode.oversample.classif.nnet    | 0.5656675 | 0.7907018 | 0.6017975 |\n",
       "\n"
      ],
      "text/plain": [
       "  learner_id                        classif.acc classif.precision\n",
       "1 encode.oversample.classif.rpart   0.6224819   0.7867721        \n",
       "2 encode.oversample.classif.glmnet  0.5647614   0.7909598        \n",
       "3 encode.oversample.classif.log_reg 0.5567955   0.7980559        \n",
       "4 encode.oversample.classif.nnet    0.5656675   0.7907018        \n",
       "  classif.recall\n",
       "1 0.7073531     \n",
       "2 0.5999016     \n",
       "3 0.5771730     \n",
       "4 0.6017975     "
      ]
     },
     "metadata": {},
     "output_type": "display_data"
    }
   ],
   "source": [
    "measures <- list(msr(\"classif.acc\"), msr(\"classif.precision\"), msr(\"classif.recall\") )\n",
    "performances = bmr$aggregate(measures)\n",
    "performances[, c(\"learner_id\", \"classif.acc\",\"classif.precision\", \"classif.recall\")]"
   ]
  },
  {
   "cell_type": "markdown",
   "metadata": {},
   "source": [
    "Single layer neural-net does not have bad results.   \n",
    "We construct a more complexe Neural Net to benchmark with other models.  \n",
    "We use keras library which has good framework inside mlr3 package. "
   ]
  },
  {
   "cell_type": "markdown",
   "metadata": {},
   "source": [
    "#### 4.4.2 Define more complex Neural Net using keras"
   ]
  },
  {
   "cell_type": "code",
   "execution_count": 29,
   "metadata": {},
   "outputs": [],
   "source": [
    " # Define a model for Neural Net with default parameters\n",
    " model = keras_model_sequential() %>%\n",
    " layer_dense(units = 256, activation = 'relu') %>%\n",
    "  layer_dropout(rate = 0.4) %>% \n",
    "  layer_dense(units = 128, activation = 'relu') %>%\n",
    "  layer_dropout(rate = 0.3) %>%\n",
    "  layer_dense(units = 2, activation = 'softmax') %>%\n",
    "  compile(optimizer = \"adam\",\n",
    "     loss = \"categorical_crossentropy\",\n",
    "     metrics = \"accuracy\")\n",
    " # Create the learner\n",
    " learner_keras_nn = LearnerClassifKeras$new()\n",
    " learner_keras_nn$param_set$values$model = model\n",
    " # Create pipeline with oversample\n",
    " lrn_up = po(\"encode\",\n",
    "  affect_columns = selector_type(\"factor\")) %>>% po(\"classbalancing\", id = \"oversample\", adjust = \"minor\", \n",
    "     reference = \"minor\", shuffle = FALSE, ratio = 206360 / 58520) %>>%\n",
    " learner_keras_nn\n",
    "\n",
    " learner_keras_nn <- GraphLearner$new(lrn_up)"
   ]
  },
  {
   "cell_type": "code",
   "execution_count": 30,
   "metadata": {},
   "outputs": [
    {
     "data": {
      "text/plain": [
       "<GraphLearner:encode.oversample.classif.keras>\n",
       "* Model: -\n",
       "* Parameters: encode.method=one-hot, encode.affect_columns=<Selector>,\n",
       "  oversample.ratio=3.526, oversample.reference=minor,\n",
       "  oversample.adjust=minor, oversample.shuffle=FALSE,\n",
       "  classif.keras.epochs=100,\n",
       "  classif.keras.model=<keras.engine.sequential.Sequential>,\n",
       "  classif.keras.validation_split=0.3333, classif.keras.batch_size=128,\n",
       "  classif.keras.callbacks=<list>, classif.keras.low_memory=FALSE,\n",
       "  classif.keras.verbose=0\n",
       "* Packages: stats\n",
       "* Predict Type: response\n",
       "* Feature types: logical, integer, numeric, character, factor, ordered,\n",
       "  POSIXct\n",
       "* Properties: featureless, importance, missings, multiclass, oob_error,\n",
       "  selected_features, twoclass, weights"
      ]
     },
     "metadata": {},
     "output_type": "display_data"
    }
   ],
   "source": [
    "learner_keras_nn"
   ]
  },
  {
   "cell_type": "markdown",
   "metadata": {},
   "source": [
    "Let us re-run benchmark with keras"
   ]
  },
  {
   "cell_type": "code",
   "execution_count": 27,
   "metadata": {},
   "outputs": [
    {
     "name": "stdout",
     "output_type": "stream",
     "text": [
      "                task            learner         resampling\n",
      "1: <TaskClassif[45]> <GraphLearner[33]> <ResamplingCV[19]>\n",
      "2: <TaskClassif[45]> <GraphLearner[33]> <ResamplingCV[19]>\n",
      "3: <TaskClassif[45]> <GraphLearner[33]> <ResamplingCV[19]>\n",
      "4: <TaskClassif[45]> <GraphLearner[33]> <ResamplingCV[19]>\n",
      "5: <TaskClassif[45]> <GraphLearner[33]> <ResamplingCV[19]>\n"
     ]
    }
   ],
   "source": [
    "design = benchmark_grid(\n",
    "  tasks = task,\n",
    "  learners = list(learner_rpart, learner_glmnet,learner_log_reg,learner_nnet,learner_keras_nn),\n",
    "  resamplings = rsmp(\"cv\", folds = 2)\n",
    ")\n",
    "print(design)"
   ]
  },
  {
   "cell_type": "code",
   "execution_count": 28,
   "metadata": {},
   "outputs": [
    {
     "name": "stdout",
     "output_type": "stream",
     "text": [
      "INFO  [20:16:45.496] [mlr3]  Benchmark with 10 resampling iterations \n",
      "INFO  [20:16:45.611] [mlr3]  Applying learner 'encode.oversample.classif.log_reg' on task 'Task' (iter 1/2) \n",
      "INFO  [20:16:48.570] [mlr3]  Applying learner 'encode.oversample.classif.rpart' on task 'Task' (iter 1/2) \n",
      "INFO  [20:16:55.917] [mlr3]  Applying learner 'encode.oversample.classif.glmnet' on task 'Task' (iter 1/2) \n",
      "INFO  [20:16:59.450] [mlr3]  Applying learner 'encode.oversample.classif.glmnet' on task 'Task' (iter 2/2) \n",
      "INFO  [20:17:02.566] [mlr3]  Applying learner 'encode.oversample.classif.rpart' on task 'Task' (iter 2/2) \n",
      "INFO  [20:17:09.271] [mlr3]  Applying learner 'encode.oversample.classif.log_reg' on task 'Task' (iter 2/2) \n",
      "INFO  [20:17:11.859] [mlr3]  Applying learner 'encode.oversample.classif.nnet' on task 'Task' (iter 2/2) \n",
      "# weights:  172\n",
      "initial  value 155564.411173 \n",
      "iter  10 value 142840.904847\n",
      "iter  20 value 142653.969158\n",
      "iter  30 value 142503.601528\n",
      "iter  40 value 142390.248698\n",
      "iter  50 value 142318.424466\n",
      "iter  60 value 142274.553675\n",
      "iter  70 value 142216.346311\n",
      "iter  80 value 142167.965289\n",
      "iter  90 value 142145.752555\n",
      "iter 100 value 142126.554108\n",
      "final  value 142126.554108 \n",
      "stopped after 100 iterations\n",
      "INFO  [20:17:58.393] [mlr3]  Applying learner 'encode.oversample.classif.nnet' on task 'Task' (iter 1/2) \n",
      "# weights:  172\n",
      "initial  value 143365.551642 \n",
      "iter  10 value 142544.191834\n",
      "iter  20 value 142341.481120\n",
      "iter  30 value 142114.871995\n",
      "iter  40 value 142008.496013\n",
      "iter  50 value 141956.388453\n",
      "iter  60 value 141933.458301\n",
      "iter  70 value 141918.382196\n",
      "iter  80 value 141910.482625\n",
      "iter  90 value 141902.209974\n",
      "iter 100 value 141894.153667\n",
      "final  value 141894.153667 \n",
      "stopped after 100 iterations\n",
      "INFO  [20:18:48.705] [mlr3]  Applying learner 'encode.oversample.classif.keras' on task 'Task' (iter 2/2) \n",
      "INFO  [20:22:38.197] [mlr3]  Applying learner 'encode.oversample.classif.keras' on task 'Task' (iter 1/2) \n"
     ]
    },
    {
     "name": "stderr",
     "output_type": "stream",
     "text": [
      "Warning message in predict.lm(object, newdata, se.fit, scale = 1, type = if (type == :\n",
      "“prediction from a rank-deficient fit may be misleading”\n",
      "Warning message in predict.lm(object, newdata, se.fit, scale = 1, type = if (type == :\n",
      "“prediction from a rank-deficient fit may be misleading”\n"
     ]
    },
    {
     "name": "stdout",
     "output_type": "stream",
     "text": [
      "INFO  [20:26:31.877] [mlr3]  Finished benchmark \n"
     ]
    }
   ],
   "source": [
    "bmr = benchmark(design)"
   ]
  },
  {
   "cell_type": "code",
   "execution_count": 29,
   "metadata": {},
   "outputs": [
    {
     "data": {
      "text/html": [
       "<table>\n",
       "<caption>A data.table: 5 × 4</caption>\n",
       "<thead>\n",
       "\t<tr><th scope=col>learner_id</th><th scope=col>classif.acc</th><th scope=col>classif.precision</th><th scope=col>classif.recall</th></tr>\n",
       "\t<tr><th scope=col>&lt;chr&gt;</th><th scope=col>&lt;dbl&gt;</th><th scope=col>&lt;dbl&gt;</th><th scope=col>&lt;dbl&gt;</th></tr>\n",
       "</thead>\n",
       "<tbody>\n",
       "\t<tr><td>encode.oversample.classif.rpart  </td><td>0.6626586</td><td>0.7860097</td><td>0.7793343</td></tr>\n",
       "\t<tr><td>encode.oversample.classif.glmnet </td><td>0.5649917</td><td>0.7916989</td><td>0.5994054</td></tr>\n",
       "\t<tr><td>encode.oversample.classif.log_reg</td><td>0.5562670</td><td>0.7975630</td><td>0.5768751</td></tr>\n",
       "\t<tr><td>encode.oversample.classif.nnet   </td><td>0.5132249</td><td>0.7973210</td><td>0.5031826</td></tr>\n",
       "\t<tr><td>encode.oversample.classif.keras  </td><td>0.7776616</td><td>0.7792247</td><td>0.9971214</td></tr>\n",
       "</tbody>\n",
       "</table>\n"
      ],
      "text/latex": [
       "A data.table: 5 × 4\n",
       "\\begin{tabular}{llll}\n",
       " learner\\_id & classif.acc & classif.precision & classif.recall\\\\\n",
       " <chr> & <dbl> & <dbl> & <dbl>\\\\\n",
       "\\hline\n",
       "\t encode.oversample.classif.rpart   & 0.6626586 & 0.7860097 & 0.7793343\\\\\n",
       "\t encode.oversample.classif.glmnet  & 0.5649917 & 0.7916989 & 0.5994054\\\\\n",
       "\t encode.oversample.classif.log\\_reg & 0.5562670 & 0.7975630 & 0.5768751\\\\\n",
       "\t encode.oversample.classif.nnet    & 0.5132249 & 0.7973210 & 0.5031826\\\\\n",
       "\t encode.oversample.classif.keras   & 0.7776616 & 0.7792247 & 0.9971214\\\\\n",
       "\\end{tabular}\n"
      ],
      "text/markdown": [
       "\n",
       "A data.table: 5 × 4\n",
       "\n",
       "| learner_id &lt;chr&gt; | classif.acc &lt;dbl&gt; | classif.precision &lt;dbl&gt; | classif.recall &lt;dbl&gt; |\n",
       "|---|---|---|---|\n",
       "| encode.oversample.classif.rpart   | 0.6626586 | 0.7860097 | 0.7793343 |\n",
       "| encode.oversample.classif.glmnet  | 0.5649917 | 0.7916989 | 0.5994054 |\n",
       "| encode.oversample.classif.log_reg | 0.5562670 | 0.7975630 | 0.5768751 |\n",
       "| encode.oversample.classif.nnet    | 0.5132249 | 0.7973210 | 0.5031826 |\n",
       "| encode.oversample.classif.keras   | 0.7776616 | 0.7792247 | 0.9971214 |\n",
       "\n"
      ],
      "text/plain": [
       "  learner_id                        classif.acc classif.precision\n",
       "1 encode.oversample.classif.rpart   0.6626586   0.7860097        \n",
       "2 encode.oversample.classif.glmnet  0.5649917   0.7916989        \n",
       "3 encode.oversample.classif.log_reg 0.5562670   0.7975630        \n",
       "4 encode.oversample.classif.nnet    0.5132249   0.7973210        \n",
       "5 encode.oversample.classif.keras   0.7776616   0.7792247        \n",
       "  classif.recall\n",
       "1 0.7793343     \n",
       "2 0.5994054     \n",
       "3 0.5768751     \n",
       "4 0.5031826     \n",
       "5 0.9971214     "
      ]
     },
     "metadata": {},
     "output_type": "display_data"
    }
   ],
   "source": [
    "measures <- list(msr(\"classif.acc\"), msr(\"classif.precision\"), msr(\"classif.recall\") )\n",
    "performances = bmr$aggregate(measures)\n",
    "performances[, c(\"learner_id\", \"classif.acc\",\"classif.precision\", \"classif.recall\")]"
   ]
  },
  {
   "cell_type": "markdown",
   "metadata": {},
   "source": [
    "Best model : Neural Net but recall value near 1. As we have already seen that phenomenon, this means that our model does not distinct women to men. This probably comes from the metric used for optimizing the loss function of the sdg optimizer set inside keras.  \n",
    "One idea could be to change this metrics with class weight."
   ]
  },
  {
   "cell_type": "markdown",
   "metadata": {},
   "source": [
    "Let's set our tunning part with Random Forest instead (our second best model)"
   ]
  },
  {
   "cell_type": "markdown",
   "metadata": {},
   "source": [
    "### 4.5 Hyperparameters tunning"
   ]
  },
  {
   "cell_type": "markdown",
   "metadata": {},
   "source": [
    "We will evaluate all hyperparameter configurations using 10-fold CV. We use a fixed train-test split, i.e. the same splits for each evaluation. Otherwise, some evaluation could get unusually “hard” splits, which would make comparisons unfair."
   ]
  },
  {
   "cell_type": "code",
   "execution_count": 31,
   "metadata": {},
   "outputs": [
    {
     "data": {
      "text/html": [
       "<table>\n",
       "<caption>A data.table: 264880 × 2</caption>\n",
       "<thead>\n",
       "\t<tr><th scope=col>row_id</th><th scope=col>fold</th></tr>\n",
       "\t<tr><th scope=col>&lt;int&gt;</th><th scope=col>&lt;int&gt;</th></tr>\n",
       "</thead>\n",
       "<tbody>\n",
       "\t<tr><td>  4</td><td>1</td></tr>\n",
       "\t<tr><td>  5</td><td>1</td></tr>\n",
       "\t<tr><td> 10</td><td>1</td></tr>\n",
       "\t<tr><td> 14</td><td>1</td></tr>\n",
       "\t<tr><td> 15</td><td>1</td></tr>\n",
       "\t<tr><td> 23</td><td>1</td></tr>\n",
       "\t<tr><td> 26</td><td>1</td></tr>\n",
       "\t<tr><td> 28</td><td>1</td></tr>\n",
       "\t<tr><td> 29</td><td>1</td></tr>\n",
       "\t<tr><td> 30</td><td>1</td></tr>\n",
       "\t<tr><td> 33</td><td>1</td></tr>\n",
       "\t<tr><td> 34</td><td>1</td></tr>\n",
       "\t<tr><td> 35</td><td>1</td></tr>\n",
       "\t<tr><td> 43</td><td>1</td></tr>\n",
       "\t<tr><td> 52</td><td>1</td></tr>\n",
       "\t<tr><td> 53</td><td>1</td></tr>\n",
       "\t<tr><td> 56</td><td>1</td></tr>\n",
       "\t<tr><td> 60</td><td>1</td></tr>\n",
       "\t<tr><td> 67</td><td>1</td></tr>\n",
       "\t<tr><td> 70</td><td>1</td></tr>\n",
       "\t<tr><td> 71</td><td>1</td></tr>\n",
       "\t<tr><td> 72</td><td>1</td></tr>\n",
       "\t<tr><td> 78</td><td>1</td></tr>\n",
       "\t<tr><td> 88</td><td>1</td></tr>\n",
       "\t<tr><td> 90</td><td>1</td></tr>\n",
       "\t<tr><td> 92</td><td>1</td></tr>\n",
       "\t<tr><td> 96</td><td>1</td></tr>\n",
       "\t<tr><td>100</td><td>1</td></tr>\n",
       "\t<tr><td>104</td><td>1</td></tr>\n",
       "\t<tr><td>116</td><td>1</td></tr>\n",
       "\t<tr><td>⋮</td><td>⋮</td></tr>\n",
       "\t<tr><td>264716</td><td>5</td></tr>\n",
       "\t<tr><td>264745</td><td>5</td></tr>\n",
       "\t<tr><td>264748</td><td>5</td></tr>\n",
       "\t<tr><td>264756</td><td>5</td></tr>\n",
       "\t<tr><td>264760</td><td>5</td></tr>\n",
       "\t<tr><td>264764</td><td>5</td></tr>\n",
       "\t<tr><td>264783</td><td>5</td></tr>\n",
       "\t<tr><td>264785</td><td>5</td></tr>\n",
       "\t<tr><td>264786</td><td>5</td></tr>\n",
       "\t<tr><td>264788</td><td>5</td></tr>\n",
       "\t<tr><td>264793</td><td>5</td></tr>\n",
       "\t<tr><td>264794</td><td>5</td></tr>\n",
       "\t<tr><td>264798</td><td>5</td></tr>\n",
       "\t<tr><td>264799</td><td>5</td></tr>\n",
       "\t<tr><td>264808</td><td>5</td></tr>\n",
       "\t<tr><td>264814</td><td>5</td></tr>\n",
       "\t<tr><td>264817</td><td>5</td></tr>\n",
       "\t<tr><td>264828</td><td>5</td></tr>\n",
       "\t<tr><td>264831</td><td>5</td></tr>\n",
       "\t<tr><td>264833</td><td>5</td></tr>\n",
       "\t<tr><td>264834</td><td>5</td></tr>\n",
       "\t<tr><td>264836</td><td>5</td></tr>\n",
       "\t<tr><td>264839</td><td>5</td></tr>\n",
       "\t<tr><td>264844</td><td>5</td></tr>\n",
       "\t<tr><td>264847</td><td>5</td></tr>\n",
       "\t<tr><td>264849</td><td>5</td></tr>\n",
       "\t<tr><td>264856</td><td>5</td></tr>\n",
       "\t<tr><td>264857</td><td>5</td></tr>\n",
       "\t<tr><td>264859</td><td>5</td></tr>\n",
       "\t<tr><td>264868</td><td>5</td></tr>\n",
       "</tbody>\n",
       "</table>\n"
      ],
      "text/latex": [
       "A data.table: 264880 × 2\n",
       "\\begin{tabular}{ll}\n",
       " row\\_id & fold\\\\\n",
       " <int> & <int>\\\\\n",
       "\\hline\n",
       "\t   4 & 1\\\\\n",
       "\t   5 & 1\\\\\n",
       "\t  10 & 1\\\\\n",
       "\t  14 & 1\\\\\n",
       "\t  15 & 1\\\\\n",
       "\t  23 & 1\\\\\n",
       "\t  26 & 1\\\\\n",
       "\t  28 & 1\\\\\n",
       "\t  29 & 1\\\\\n",
       "\t  30 & 1\\\\\n",
       "\t  33 & 1\\\\\n",
       "\t  34 & 1\\\\\n",
       "\t  35 & 1\\\\\n",
       "\t  43 & 1\\\\\n",
       "\t  52 & 1\\\\\n",
       "\t  53 & 1\\\\\n",
       "\t  56 & 1\\\\\n",
       "\t  60 & 1\\\\\n",
       "\t  67 & 1\\\\\n",
       "\t  70 & 1\\\\\n",
       "\t  71 & 1\\\\\n",
       "\t  72 & 1\\\\\n",
       "\t  78 & 1\\\\\n",
       "\t  88 & 1\\\\\n",
       "\t  90 & 1\\\\\n",
       "\t  92 & 1\\\\\n",
       "\t  96 & 1\\\\\n",
       "\t 100 & 1\\\\\n",
       "\t 104 & 1\\\\\n",
       "\t 116 & 1\\\\\n",
       "\t ⋮ & ⋮\\\\\n",
       "\t 264716 & 5\\\\\n",
       "\t 264745 & 5\\\\\n",
       "\t 264748 & 5\\\\\n",
       "\t 264756 & 5\\\\\n",
       "\t 264760 & 5\\\\\n",
       "\t 264764 & 5\\\\\n",
       "\t 264783 & 5\\\\\n",
       "\t 264785 & 5\\\\\n",
       "\t 264786 & 5\\\\\n",
       "\t 264788 & 5\\\\\n",
       "\t 264793 & 5\\\\\n",
       "\t 264794 & 5\\\\\n",
       "\t 264798 & 5\\\\\n",
       "\t 264799 & 5\\\\\n",
       "\t 264808 & 5\\\\\n",
       "\t 264814 & 5\\\\\n",
       "\t 264817 & 5\\\\\n",
       "\t 264828 & 5\\\\\n",
       "\t 264831 & 5\\\\\n",
       "\t 264833 & 5\\\\\n",
       "\t 264834 & 5\\\\\n",
       "\t 264836 & 5\\\\\n",
       "\t 264839 & 5\\\\\n",
       "\t 264844 & 5\\\\\n",
       "\t 264847 & 5\\\\\n",
       "\t 264849 & 5\\\\\n",
       "\t 264856 & 5\\\\\n",
       "\t 264857 & 5\\\\\n",
       "\t 264859 & 5\\\\\n",
       "\t 264868 & 5\\\\\n",
       "\\end{tabular}\n"
      ],
      "text/markdown": [
       "\n",
       "A data.table: 264880 × 2\n",
       "\n",
       "| row_id &lt;int&gt; | fold &lt;int&gt; |\n",
       "|---|---|\n",
       "|   4 | 1 |\n",
       "|   5 | 1 |\n",
       "|  10 | 1 |\n",
       "|  14 | 1 |\n",
       "|  15 | 1 |\n",
       "|  23 | 1 |\n",
       "|  26 | 1 |\n",
       "|  28 | 1 |\n",
       "|  29 | 1 |\n",
       "|  30 | 1 |\n",
       "|  33 | 1 |\n",
       "|  34 | 1 |\n",
       "|  35 | 1 |\n",
       "|  43 | 1 |\n",
       "|  52 | 1 |\n",
       "|  53 | 1 |\n",
       "|  56 | 1 |\n",
       "|  60 | 1 |\n",
       "|  67 | 1 |\n",
       "|  70 | 1 |\n",
       "|  71 | 1 |\n",
       "|  72 | 1 |\n",
       "|  78 | 1 |\n",
       "|  88 | 1 |\n",
       "|  90 | 1 |\n",
       "|  92 | 1 |\n",
       "|  96 | 1 |\n",
       "| 100 | 1 |\n",
       "| 104 | 1 |\n",
       "| 116 | 1 |\n",
       "| ⋮ | ⋮ |\n",
       "| 264716 | 5 |\n",
       "| 264745 | 5 |\n",
       "| 264748 | 5 |\n",
       "| 264756 | 5 |\n",
       "| 264760 | 5 |\n",
       "| 264764 | 5 |\n",
       "| 264783 | 5 |\n",
       "| 264785 | 5 |\n",
       "| 264786 | 5 |\n",
       "| 264788 | 5 |\n",
       "| 264793 | 5 |\n",
       "| 264794 | 5 |\n",
       "| 264798 | 5 |\n",
       "| 264799 | 5 |\n",
       "| 264808 | 5 |\n",
       "| 264814 | 5 |\n",
       "| 264817 | 5 |\n",
       "| 264828 | 5 |\n",
       "| 264831 | 5 |\n",
       "| 264833 | 5 |\n",
       "| 264834 | 5 |\n",
       "| 264836 | 5 |\n",
       "| 264839 | 5 |\n",
       "| 264844 | 5 |\n",
       "| 264847 | 5 |\n",
       "| 264849 | 5 |\n",
       "| 264856 | 5 |\n",
       "| 264857 | 5 |\n",
       "| 264859 | 5 |\n",
       "| 264868 | 5 |\n",
       "\n"
      ],
      "text/plain": [
       "       row_id fold\n",
       "1        4    1   \n",
       "2        5    1   \n",
       "3       10    1   \n",
       "4       14    1   \n",
       "5       15    1   \n",
       "6       23    1   \n",
       "7       26    1   \n",
       "8       28    1   \n",
       "9       29    1   \n",
       "10      30    1   \n",
       "11      33    1   \n",
       "12      34    1   \n",
       "13      35    1   \n",
       "14      43    1   \n",
       "15      52    1   \n",
       "16      53    1   \n",
       "17      56    1   \n",
       "18      60    1   \n",
       "19      67    1   \n",
       "20      70    1   \n",
       "21      71    1   \n",
       "22      72    1   \n",
       "23      78    1   \n",
       "24      88    1   \n",
       "25      90    1   \n",
       "26      92    1   \n",
       "27      96    1   \n",
       "28     100    1   \n",
       "29     104    1   \n",
       "30     116    1   \n",
       "⋮      ⋮      ⋮   \n",
       "264851 264716 5   \n",
       "264852 264745 5   \n",
       "264853 264748 5   \n",
       "264854 264756 5   \n",
       "264855 264760 5   \n",
       "264856 264764 5   \n",
       "264857 264783 5   \n",
       "264858 264785 5   \n",
       "264859 264786 5   \n",
       "264860 264788 5   \n",
       "264861 264793 5   \n",
       "264862 264794 5   \n",
       "264863 264798 5   \n",
       "264864 264799 5   \n",
       "264865 264808 5   \n",
       "264866 264814 5   \n",
       "264867 264817 5   \n",
       "264868 264828 5   \n",
       "264869 264831 5   \n",
       "264870 264833 5   \n",
       "264871 264834 5   \n",
       "264872 264836 5   \n",
       "264873 264839 5   \n",
       "264874 264844 5   \n",
       "264875 264847 5   \n",
       "264876 264849 5   \n",
       "264877 264856 5   \n",
       "264878 264857 5   \n",
       "264879 264859 5   \n",
       "264880 264868 5   "
      ]
     },
     "metadata": {},
     "output_type": "display_data"
    }
   ],
   "source": [
    "set.seed(8008135)\n",
    "cv5_instance = rsmp(\"cv\", folds = 5)\n",
    "\n",
    "# fix the train-test splits using the $instantiate() method\n",
    "cv5_instance$instantiate(task)\n",
    "\n",
    "# have a look at the test set instances per fold\n",
    "cv5_instance$instance"
   ]
  },
  {
   "cell_type": "markdown",
   "metadata": {},
   "source": [
    "Set search space with Parameter grid search"
   ]
  },
  {
   "cell_type": "code",
   "execution_count": 32,
   "metadata": {},
   "outputs": [],
   "source": [
    "library(paradox)"
   ]
  },
  {
   "cell_type": "code",
   "execution_count": 33,
   "metadata": {},
   "outputs": [],
   "source": [
    "learner_rpart=lrn(\"classif.rpart\")\n",
    "lrn_up = po(\"encode\",\n",
    "  affect_columns = selector_type(\"factor\")) %>>% po(\"classbalancing\", id = \"oversample\", adjust = \"minor\", \n",
    "     reference = \"minor\", shuffle = FALSE, ratio = 206360 / 58520) %>>%\n",
    "  learner_rpart\n",
    "learner_rpart <- GraphLearner$new(lrn_up)\n",
    "learner_rpart$predict_type <- \"prob\""
   ]
  },
  {
   "cell_type": "code",
   "execution_count": 34,
   "metadata": {},
   "outputs": [
    {
     "data": {
      "text/plain": [
       "<ParamSetCollection>\n",
       "                              id    class lower upper\n",
       " 1:                encode.method ParamFct    NA    NA\n",
       " 2:        encode.affect_columns ParamUty    NA    NA\n",
       " 3:             oversample.ratio ParamDbl     0   Inf\n",
       " 4:         oversample.reference ParamFct    NA    NA\n",
       " 5:            oversample.adjust ParamFct    NA    NA\n",
       " 6:           oversample.shuffle ParamLgl    NA    NA\n",
       " 7:       classif.rpart.minsplit ParamInt     1   Inf\n",
       " 8:      classif.rpart.minbucket ParamInt     1   Inf\n",
       " 9:             classif.rpart.cp ParamDbl     0     1\n",
       "10:     classif.rpart.maxcompete ParamInt     0   Inf\n",
       "11:   classif.rpart.maxsurrogate ParamInt     0   Inf\n",
       "12:       classif.rpart.maxdepth ParamInt     1    30\n",
       "13:   classif.rpart.usesurrogate ParamInt     0     2\n",
       "14: classif.rpart.surrogatestyle ParamInt     0     1\n",
       "15:           classif.rpart.xval ParamInt     0   Inf\n",
       "16:     classif.rpart.keep_model ParamLgl    NA    NA\n",
       "                                            levels        default         value\n",
       " 1:             one-hot,treatment,helmert,poly,sum <NoDefault[3]>       one-hot\n",
       " 2:                                                 <Selector[1]> <Selector[1]>\n",
       " 3:                                                <NoDefault[3]>      3.526316\n",
       " 4:          all,major,minor,nonmajor,nonminor,one <NoDefault[3]>         minor\n",
       " 5: all,major,minor,nonmajor,nonminor,upsample,... <NoDefault[3]>         minor\n",
       " 6:                                     TRUE,FALSE <NoDefault[3]>         FALSE\n",
       " 7:                                                            20              \n",
       " 8:                                                <NoDefault[3]>              \n",
       " 9:                                                          0.01              \n",
       "10:                                                             4              \n",
       "11:                                                             5              \n",
       "12:                                                            30              \n",
       "13:                                                             2              \n",
       "14:                                                             0              \n",
       "15:                                                            10             0\n",
       "16:                                     TRUE,FALSE          FALSE              "
      ]
     },
     "metadata": {},
     "output_type": "display_data"
    }
   ],
   "source": [
    "learner_rpart$param_set"
   ]
  },
  {
   "cell_type": "code",
   "execution_count": 35,
   "metadata": {},
   "outputs": [],
   "source": [
    "ps_encode <- ParamSet$new(list(ParamFct$new(\"encode.method\",levels=\"one-hot\")))\n",
    "ps_class_balance<-ParamSet$new(list(ParamDbl$new(\"oversample.ratio\",lower =3, upper = 4),\n",
    "      ParamFct$new(\"oversample.reference\",levels=\"minor\"),\n",
    "      ParamFct$new(\"oversample.adjust\",levels=\"minor\"),\n",
    "      ParamLgl$new(\"oversample.shuffle\")))\n",
    "ps_random<-ParamSet$new(list(ParamInt$new(\"classif.rpart.minsplit\", lower = 1, upper = 30),\n",
    "    ParamInt$new(\"classif.rpart.cp\", lower = 0, upper = 1),\n",
    "      ParamInt$new(\"classif.rpart.maxdepth\", lower = 1, upper = 30)))\n"
   ]
  },
  {
   "cell_type": "code",
   "execution_count": 36,
   "metadata": {},
   "outputs": [],
   "source": [
    "param_set <- ParamSetCollection$new(list(\n",
    "  ps_encode, \n",
    "  ps_class_balance,\n",
    "    ps_random\n",
    "))"
   ]
  },
  {
   "cell_type": "markdown",
   "metadata": {},
   "source": [
    "We choose Precision and Recall- Under the Curve metrics for our GridSearch.  \n",
    "This is a recommanded metric for imbalance dataset : https://machinelearningmastery.com/roc-curves-and-precision-recall-curves-for-imbalanced-classification/"
   ]
  },
  {
   "cell_type": "code",
   "execution_count": 37,
   "metadata": {},
   "outputs": [],
   "source": [
    "at = AutoTuner$new(learner_rpart, resampling=rsmp(\"cv\", folds = 2), measure = msr(\"classif.prauc\"),\n",
    "  param_set, terminator= trm(\"evals\", n_evals = 36), tuner = tnr(\"grid_search\"))"
   ]
  },
  {
   "cell_type": "code",
   "execution_count": 38,
   "metadata": {},
   "outputs": [
    {
     "data": {
      "text/plain": [
       "<AutoTuner:encode.oversample.classif.rpart.tuned>\n",
       "* Model: -\n",
       "* Parameters: list()\n",
       "* Packages: stats\n",
       "* Predict Type: prob\n",
       "* Feature types: logical, integer, numeric, character, factor, ordered,\n",
       "  POSIXct\n",
       "* Properties: featureless, importance, missings, multiclass, oob_error,\n",
       "  selected_features, twoclass, weights"
      ]
     },
     "metadata": {},
     "output_type": "display_data"
    }
   ],
   "source": [
    "at"
   ]
  },
  {
   "cell_type": "code",
   "execution_count": 39,
   "metadata": {},
   "outputs": [
    {
     "name": "stdout",
     "output_type": "stream",
     "text": [
      "INFO  [22:15:58.959] [bbotk] Starting to optimize 8 parameter(s) with '<OptimizerGridSearch>' and '<TerminatorEvals>' \n",
      "INFO  [22:15:59.155] [bbotk] Evaluating 1 configuration(s) \n",
      "INFO  [22:15:59.281] [mlr3]  Benchmark with 2 resampling iterations \n",
      "INFO  [22:15:59.291] [mlr3]  Applying learner 'encode.oversample.classif.rpart' on task 'Task' (iter 1/2) \n",
      "INFO  [22:16:01.112] [mlr3]  Applying learner 'encode.oversample.classif.rpart' on task 'Task' (iter 2/2) \n",
      "INFO  [22:16:02.967] [mlr3]  Finished benchmark \n",
      "INFO  [22:16:03.156] [bbotk] Result of batch 1: \n",
      "INFO  [22:16:03.159] [bbotk]  encode.method oversample.ratio oversample.reference oversample.adjust \n",
      "INFO  [22:16:03.159] [bbotk]        one-hot                3                minor             minor \n",
      "INFO  [22:16:03.159] [bbotk]  oversample.shuffle classif.rpart.minsplit classif.rpart.cp \n",
      "INFO  [22:16:03.159] [bbotk]                TRUE                     10                1 \n",
      "INFO  [22:16:03.159] [bbotk]  classif.rpart.maxdepth classif.prauc                                uhash \n",
      "INFO  [22:16:03.159] [bbotk]                      14     0.7790698 9fcf88b6-5edd-4694-b398-53cffada3aaa \n",
      "INFO  [22:16:03.194] [bbotk] Evaluating 1 configuration(s) \n",
      "INFO  [22:16:03.332] [mlr3]  Benchmark with 2 resampling iterations \n",
      "INFO  [22:16:03.343] [mlr3]  Applying learner 'encode.oversample.classif.rpart' on task 'Task' (iter 2/2) \n",
      "INFO  [22:16:05.559] [mlr3]  Applying learner 'encode.oversample.classif.rpart' on task 'Task' (iter 1/2) \n",
      "INFO  [22:16:07.422] [mlr3]  Finished benchmark \n",
      "INFO  [22:16:07.613] [bbotk] Result of batch 2: \n",
      "INFO  [22:16:07.616] [bbotk]  encode.method oversample.ratio oversample.reference oversample.adjust \n",
      "INFO  [22:16:07.616] [bbotk]        one-hot         3.333333                minor             minor \n",
      "INFO  [22:16:07.616] [bbotk]  oversample.shuffle classif.rpart.minsplit classif.rpart.cp \n",
      "INFO  [22:16:07.616] [bbotk]                TRUE                     17                1 \n",
      "INFO  [22:16:07.616] [bbotk]  classif.rpart.maxdepth classif.prauc                                uhash \n",
      "INFO  [22:16:07.616] [bbotk]                      20     0.7790698 3af88960-4f17-4c7d-9869-850d6447874a \n",
      "INFO  [22:16:07.652] [bbotk] Evaluating 1 configuration(s) \n",
      "INFO  [22:16:07.791] [mlr3]  Benchmark with 2 resampling iterations \n",
      "INFO  [22:16:07.802] [mlr3]  Applying learner 'encode.oversample.classif.rpart' on task 'Task' (iter 2/2) \n",
      "INFO  [22:16:31.410] [mlr3]  Applying learner 'encode.oversample.classif.rpart' on task 'Task' (iter 1/2) \n",
      "INFO  [22:16:55.838] [mlr3]  Finished benchmark \n",
      "INFO  [22:16:56.242] [bbotk] Result of batch 3: \n",
      "INFO  [22:16:56.245] [bbotk]  encode.method oversample.ratio oversample.reference oversample.adjust \n",
      "INFO  [22:16:56.245] [bbotk]        one-hot         3.555556                minor             minor \n",
      "INFO  [22:16:56.245] [bbotk]  oversample.shuffle classif.rpart.minsplit classif.rpart.cp \n",
      "INFO  [22:16:56.245] [bbotk]               FALSE                     20                0 \n",
      "INFO  [22:16:56.245] [bbotk]  classif.rpart.maxdepth classif.prauc                                uhash \n",
      "INFO  [22:16:56.245] [bbotk]                      30     0.7771446 19a2343e-020a-43d3-841e-b37c39d9f36b \n",
      "INFO  [22:16:56.274] [bbotk] Evaluating 1 configuration(s) \n",
      "INFO  [22:16:56.403] [mlr3]  Benchmark with 2 resampling iterations \n",
      "INFO  [22:16:56.417] [mlr3]  Applying learner 'encode.oversample.classif.rpart' on task 'Task' (iter 1/2) \n",
      "INFO  [22:17:21.896] [mlr3]  Applying learner 'encode.oversample.classif.rpart' on task 'Task' (iter 2/2) \n",
      "INFO  [22:17:47.666] [mlr3]  Finished benchmark \n",
      "INFO  [22:17:48.197] [bbotk] Result of batch 4: \n",
      "INFO  [22:17:48.200] [bbotk]  encode.method oversample.ratio oversample.reference oversample.adjust \n",
      "INFO  [22:17:48.200] [bbotk]        one-hot                3                minor             minor \n",
      "INFO  [22:17:48.200] [bbotk]  oversample.shuffle classif.rpart.minsplit classif.rpart.cp \n",
      "INFO  [22:17:48.200] [bbotk]               FALSE                      4                0 \n",
      "INFO  [22:17:48.200] [bbotk]  classif.rpart.maxdepth classif.prauc                                uhash \n",
      "INFO  [22:17:48.200] [bbotk]                      27     0.7790224 13c75be8-3131-48f5-b1be-efb9a0cbb778 \n",
      "INFO  [22:17:48.238] [bbotk] Evaluating 1 configuration(s) \n",
      "INFO  [22:17:48.377] [mlr3]  Benchmark with 2 resampling iterations \n",
      "INFO  [22:17:48.385] [mlr3]  Applying learner 'encode.oversample.classif.rpart' on task 'Task' (iter 1/2) \n",
      "INFO  [22:18:07.638] [mlr3]  Applying learner 'encode.oversample.classif.rpart' on task 'Task' (iter 2/2) \n",
      "INFO  [22:18:31.734] [mlr3]  Finished benchmark \n",
      "INFO  [22:18:32.241] [bbotk] Result of batch 5: \n",
      "INFO  [22:18:32.244] [bbotk]  encode.method oversample.ratio oversample.reference oversample.adjust \n",
      "INFO  [22:18:32.244] [bbotk]        one-hot         3.777778                minor             minor \n",
      "INFO  [22:18:32.244] [bbotk]  oversample.shuffle classif.rpart.minsplit classif.rpart.cp \n",
      "INFO  [22:18:32.244] [bbotk]                TRUE                      1                0 \n",
      "INFO  [22:18:32.244] [bbotk]  classif.rpart.maxdepth classif.prauc                                uhash \n",
      "INFO  [22:18:32.244] [bbotk]                      24     0.7769085 7e4f1875-1fe2-4b98-ac08-dc84611ec963 \n",
      "INFO  [22:18:32.279] [bbotk] Evaluating 1 configuration(s) \n",
      "INFO  [22:18:32.395] [mlr3]  Benchmark with 2 resampling iterations \n",
      "INFO  [22:18:32.404] [mlr3]  Applying learner 'encode.oversample.classif.rpart' on task 'Task' (iter 2/2) \n",
      "INFO  [22:18:34.379] [mlr3]  Applying learner 'encode.oversample.classif.rpart' on task 'Task' (iter 1/2) \n",
      "INFO  [22:18:36.389] [mlr3]  Finished benchmark \n",
      "INFO  [22:18:36.899] [bbotk] Result of batch 6: \n",
      "INFO  [22:18:36.902] [bbotk]  encode.method oversample.ratio oversample.reference oversample.adjust \n",
      "INFO  [22:18:36.902] [bbotk]        one-hot         3.222222                minor             minor \n",
      "INFO  [22:18:36.902] [bbotk]  oversample.shuffle classif.rpart.minsplit classif.rpart.cp \n",
      "INFO  [22:18:36.902] [bbotk]               FALSE                     27                0 \n",
      "INFO  [22:18:36.902] [bbotk]  classif.rpart.maxdepth classif.prauc                                uhash \n",
      "INFO  [22:18:36.902] [bbotk]                       1     0.7845742 3bd8ed37-7b2f-4871-a571-e5f04af97d6b \n",
      "INFO  [22:18:36.932] [bbotk] Evaluating 1 configuration(s) \n",
      "INFO  [22:18:37.071] [mlr3]  Benchmark with 2 resampling iterations \n",
      "INFO  [22:18:37.081] [mlr3]  Applying learner 'encode.oversample.classif.rpart' on task 'Task' (iter 1/2) \n",
      "INFO  [22:18:50.093] [mlr3]  Applying learner 'encode.oversample.classif.rpart' on task 'Task' (iter 2/2) \n",
      "INFO  [22:19:03.861] [mlr3]  Finished benchmark \n",
      "INFO  [22:19:04.403] [bbotk] Result of batch 7: \n",
      "INFO  [22:19:04.406] [bbotk]  encode.method oversample.ratio oversample.reference oversample.adjust \n",
      "INFO  [22:19:04.406] [bbotk]        one-hot         3.888889                minor             minor \n",
      "INFO  [22:19:04.406] [bbotk]  oversample.shuffle classif.rpart.minsplit classif.rpart.cp \n",
      "INFO  [22:19:04.406] [bbotk]                TRUE                      4                0 \n",
      "INFO  [22:19:04.406] [bbotk]  classif.rpart.maxdepth classif.prauc                                uhash \n",
      "INFO  [22:19:04.406] [bbotk]                      17     0.7821595 e0448bbb-1ec2-4405-96d0-7308f18568d7 \n",
      "INFO  [22:19:04.436] [bbotk] Evaluating 1 configuration(s) \n",
      "INFO  [22:19:04.555] [mlr3]  Benchmark with 2 resampling iterations \n",
      "INFO  [22:19:04.564] [mlr3]  Applying learner 'encode.oversample.classif.rpart' on task 'Task' (iter 1/2) \n",
      "INFO  [22:19:11.541] [mlr3]  Applying learner 'encode.oversample.classif.rpart' on task 'Task' (iter 2/2) \n",
      "INFO  [22:19:18.562] [mlr3]  Finished benchmark \n",
      "INFO  [22:19:19.229] [bbotk] Result of batch 8: \n",
      "INFO  [22:19:19.233] [bbotk]  encode.method oversample.ratio oversample.reference oversample.adjust \n",
      "INFO  [22:19:19.233] [bbotk]        one-hot         3.888889                minor             minor \n",
      "INFO  [22:19:19.233] [bbotk]  oversample.shuffle classif.rpart.minsplit classif.rpart.cp \n",
      "INFO  [22:19:19.233] [bbotk]                TRUE                     27                0 \n",
      "INFO  [22:19:19.233] [bbotk]  classif.rpart.maxdepth classif.prauc                                uhash \n",
      "INFO  [22:19:19.233] [bbotk]                      10      0.788702 1f50c99c-9ad0-4378-b04c-84edb29b3654 \n",
      "INFO  [22:19:19.264] [bbotk] Evaluating 1 configuration(s) \n",
      "INFO  [22:19:19.382] [mlr3]  Benchmark with 2 resampling iterations \n",
      "INFO  [22:19:19.392] [mlr3]  Applying learner 'encode.oversample.classif.rpart' on task 'Task' (iter 2/2) \n",
      "INFO  [22:19:21.015] [mlr3]  Applying learner 'encode.oversample.classif.rpart' on task 'Task' (iter 1/2) \n",
      "INFO  [22:19:23.027] [mlr3]  Finished benchmark \n",
      "INFO  [22:19:23.201] [bbotk] Result of batch 9: \n",
      "INFO  [22:19:23.205] [bbotk]  encode.method oversample.ratio oversample.reference oversample.adjust \n",
      "INFO  [22:19:23.205] [bbotk]        one-hot         3.444444                minor             minor \n",
      "INFO  [22:19:23.205] [bbotk]  oversample.shuffle classif.rpart.minsplit classif.rpart.cp \n",
      "INFO  [22:19:23.205] [bbotk]               FALSE                     20                1 \n",
      "INFO  [22:19:23.205] [bbotk]  classif.rpart.maxdepth classif.prauc                                uhash \n",
      "INFO  [22:19:23.205] [bbotk]                       7     0.7790698 f34b594b-a82e-42e6-8bf2-c7e043b3a0e3 \n",
      "INFO  [22:19:23.242] [bbotk] Evaluating 1 configuration(s) \n",
      "INFO  [22:19:23.382] [mlr3]  Benchmark with 2 resampling iterations \n",
      "INFO  [22:19:23.391] [mlr3]  Applying learner 'encode.oversample.classif.rpart' on task 'Task' (iter 1/2) \n",
      "INFO  [22:19:32.375] [mlr3]  Applying learner 'encode.oversample.classif.rpart' on task 'Task' (iter 2/2) \n",
      "INFO  [22:19:41.636] [mlr3]  Finished benchmark \n",
      "INFO  [22:19:42.313] [bbotk] Result of batch 10: \n",
      "INFO  [22:19:42.316] [bbotk]  encode.method oversample.ratio oversample.reference oversample.adjust \n",
      "INFO  [22:19:42.316] [bbotk]        one-hot         3.555556                minor             minor \n",
      "INFO  [22:19:42.316] [bbotk]  oversample.shuffle classif.rpart.minsplit classif.rpart.cp \n",
      "INFO  [22:19:42.316] [bbotk]               FALSE                     17                0 \n",
      "INFO  [22:19:42.316] [bbotk]  classif.rpart.maxdepth classif.prauc                                uhash \n",
      "INFO  [22:19:42.316] [bbotk]                      14     0.7827323 37a33bdc-93ee-4041-bfb7-051fb81348de \n",
      "INFO  [22:19:42.347] [bbotk] Evaluating 1 configuration(s) \n",
      "INFO  [22:19:42.455] [mlr3]  Benchmark with 2 resampling iterations \n",
      "INFO  [22:19:42.464] [mlr3]  Applying learner 'encode.oversample.classif.rpart' on task 'Task' (iter 1/2) \n",
      "INFO  [22:19:51.983] [mlr3]  Applying learner 'encode.oversample.classif.rpart' on task 'Task' (iter 2/2) \n",
      "INFO  [22:20:01.421] [mlr3]  Finished benchmark \n",
      "INFO  [22:20:01.993] [bbotk] Result of batch 11: \n",
      "INFO  [22:20:01.996] [bbotk]  encode.method oversample.ratio oversample.reference oversample.adjust \n",
      "INFO  [22:20:01.996] [bbotk]        one-hot         3.666667                minor             minor \n",
      "INFO  [22:20:01.996] [bbotk]  oversample.shuffle classif.rpart.minsplit classif.rpart.cp \n",
      "INFO  [22:20:01.996] [bbotk]                TRUE                     27                0 \n",
      "INFO  [22:20:01.996] [bbotk]  classif.rpart.maxdepth classif.prauc                                uhash \n",
      "INFO  [22:20:01.996] [bbotk]                      14     0.7843236 0b6cc28b-968e-464a-a63a-2afca51a405a \n",
      "INFO  [22:20:02.030] [bbotk] Evaluating 1 configuration(s) \n",
      "INFO  [22:20:02.168] [mlr3]  Benchmark with 2 resampling iterations \n",
      "INFO  [22:20:02.177] [mlr3]  Applying learner 'encode.oversample.classif.rpart' on task 'Task' (iter 2/2) \n",
      "INFO  [22:20:04.155] [mlr3]  Applying learner 'encode.oversample.classif.rpart' on task 'Task' (iter 1/2) \n",
      "INFO  [22:20:05.843] [mlr3]  Finished benchmark \n",
      "INFO  [22:20:06.022] [bbotk] Result of batch 12: \n",
      "INFO  [22:20:06.025] [bbotk]  encode.method oversample.ratio oversample.reference oversample.adjust \n",
      "INFO  [22:20:06.025] [bbotk]        one-hot         3.222222                minor             minor \n",
      "INFO  [22:20:06.025] [bbotk]  oversample.shuffle classif.rpart.minsplit classif.rpart.cp \n",
      "INFO  [22:20:06.025] [bbotk]                TRUE                     27                1 \n",
      "INFO  [22:20:06.025] [bbotk]  classif.rpart.maxdepth classif.prauc                                uhash \n",
      "INFO  [22:20:06.025] [bbotk]                      10     0.7790698 15eea69e-7aaa-43f7-af05-801d080c19ec \n",
      "INFO  [22:20:06.057] [bbotk] Evaluating 1 configuration(s) \n",
      "INFO  [22:20:06.196] [mlr3]  Benchmark with 2 resampling iterations \n",
      "INFO  [22:20:06.207] [mlr3]  Applying learner 'encode.oversample.classif.rpart' on task 'Task' (iter 1/2) \n",
      "INFO  [22:20:08.275] [mlr3]  Applying learner 'encode.oversample.classif.rpart' on task 'Task' (iter 2/2) \n",
      "INFO  [22:20:09.984] [mlr3]  Finished benchmark \n",
      "INFO  [22:20:10.154] [bbotk] Result of batch 13: \n",
      "INFO  [22:20:10.157] [bbotk]  encode.method oversample.ratio oversample.reference oversample.adjust \n",
      "INFO  [22:20:10.157] [bbotk]        one-hot         3.777778                minor             minor \n",
      "INFO  [22:20:10.157] [bbotk]  oversample.shuffle classif.rpart.minsplit classif.rpart.cp \n",
      "INFO  [22:20:10.157] [bbotk]               FALSE                     14                1 \n",
      "INFO  [22:20:10.157] [bbotk]  classif.rpart.maxdepth classif.prauc                                uhash \n",
      "INFO  [22:20:10.157] [bbotk]                      30     0.7790698 691e0ff2-ced6-41de-b8b3-0959a35c96e5 \n",
      "INFO  [22:20:10.188] [bbotk] Evaluating 1 configuration(s) \n",
      "INFO  [22:20:10.317] [mlr3]  Benchmark with 2 resampling iterations \n",
      "INFO  [22:20:10.327] [mlr3]  Applying learner 'encode.oversample.classif.rpart' on task 'Task' (iter 2/2) \n",
      "INFO  [22:20:12.093] [mlr3]  Applying learner 'encode.oversample.classif.rpart' on task 'Task' (iter 1/2) \n",
      "INFO  [22:20:14.160] [mlr3]  Finished benchmark \n",
      "INFO  [22:20:14.345] [bbotk] Result of batch 14: \n",
      "INFO  [22:20:14.348] [bbotk]  encode.method oversample.ratio oversample.reference oversample.adjust \n",
      "INFO  [22:20:14.348] [bbotk]        one-hot         3.888889                minor             minor \n",
      "INFO  [22:20:14.348] [bbotk]  oversample.shuffle classif.rpart.minsplit classif.rpart.cp \n",
      "INFO  [22:20:14.348] [bbotk]               FALSE                     24                1 \n",
      "INFO  [22:20:14.348] [bbotk]  classif.rpart.maxdepth classif.prauc                                uhash \n",
      "INFO  [22:20:14.348] [bbotk]                      27     0.7790698 6c70dab7-3b14-49b2-8371-c2f05583bcdd \n",
      "INFO  [22:20:14.382] [bbotk] Evaluating 1 configuration(s) \n",
      "INFO  [22:20:14.522] [mlr3]  Benchmark with 2 resampling iterations \n",
      "INFO  [22:20:14.531] [mlr3]  Applying learner 'encode.oversample.classif.rpart' on task 'Task' (iter 2/2) \n",
      "INFO  [22:20:30.863] [mlr3]  Applying learner 'encode.oversample.classif.rpart' on task 'Task' (iter 1/2) \n",
      "INFO  [22:20:45.980] [mlr3]  Finished benchmark \n",
      "INFO  [22:20:46.488] [bbotk] Result of batch 15: \n",
      "INFO  [22:20:46.491] [bbotk]  encode.method oversample.ratio oversample.reference oversample.adjust \n",
      "INFO  [22:20:46.491] [bbotk]        one-hot         3.555556                minor             minor \n",
      "INFO  [22:20:46.491] [bbotk]  oversample.shuffle classif.rpart.minsplit classif.rpart.cp \n",
      "INFO  [22:20:46.491] [bbotk]               FALSE                      4                0 \n",
      "INFO  [22:20:46.491] [bbotk]  classif.rpart.maxdepth classif.prauc                                uhash \n",
      "INFO  [22:20:46.491] [bbotk]                      20     0.7802503 a6040979-fbd4-4cb0-a00c-f06044d4f810 \n",
      "INFO  [22:20:46.525] [bbotk] Evaluating 1 configuration(s) \n",
      "INFO  [22:20:46.639] [mlr3]  Benchmark with 2 resampling iterations \n",
      "INFO  [22:20:46.648] [mlr3]  Applying learner 'encode.oversample.classif.rpart' on task 'Task' (iter 2/2) \n",
      "INFO  [22:20:55.616] [mlr3]  Applying learner 'encode.oversample.classif.rpart' on task 'Task' (iter 1/2) \n",
      "INFO  [22:21:04.310] [mlr3]  Finished benchmark \n",
      "INFO  [22:21:04.852] [bbotk] Result of batch 16: \n",
      "INFO  [22:21:04.855] [bbotk]  encode.method oversample.ratio oversample.reference oversample.adjust \n",
      "INFO  [22:21:04.855] [bbotk]        one-hot         3.111111                minor             minor \n",
      "INFO  [22:21:04.855] [bbotk]  oversample.shuffle classif.rpart.minsplit classif.rpart.cp \n",
      "INFO  [22:21:04.855] [bbotk]               FALSE                     14                0 \n",
      "INFO  [22:21:04.855] [bbotk]  classif.rpart.maxdepth classif.prauc                                uhash \n",
      "INFO  [22:21:04.855] [bbotk]                      14     0.7841662 54361b5d-5253-42ee-bc1f-54d96a306e73 \n",
      "INFO  [22:21:04.883] [bbotk] Evaluating 1 configuration(s) \n",
      "INFO  [22:21:05.019] [mlr3]  Benchmark with 2 resampling iterations \n",
      "INFO  [22:21:05.028] [mlr3]  Applying learner 'encode.oversample.classif.rpart' on task 'Task' (iter 1/2) \n",
      "INFO  [22:21:06.776] [mlr3]  Applying learner 'encode.oversample.classif.rpart' on task 'Task' (iter 2/2) \n",
      "INFO  [22:21:08.531] [mlr3]  Finished benchmark \n",
      "INFO  [22:21:08.724] [bbotk] Result of batch 17: \n",
      "INFO  [22:21:08.727] [bbotk]  encode.method oversample.ratio oversample.reference oversample.adjust \n",
      "INFO  [22:21:08.727] [bbotk]        one-hot         3.222222                minor             minor \n",
      "INFO  [22:21:08.727] [bbotk]  oversample.shuffle classif.rpart.minsplit classif.rpart.cp \n",
      "INFO  [22:21:08.727] [bbotk]                TRUE                     10                1 \n",
      "INFO  [22:21:08.727] [bbotk]  classif.rpart.maxdepth classif.prauc                                uhash \n",
      "INFO  [22:21:08.727] [bbotk]                      14     0.7790698 85f11f1b-ce98-4e55-baf3-8b7939bda0f5 \n",
      "INFO  [22:21:08.755] [bbotk] Evaluating 1 configuration(s) \n",
      "INFO  [22:21:08.866] [mlr3]  Benchmark with 2 resampling iterations \n",
      "INFO  [22:21:08.874] [mlr3]  Applying learner 'encode.oversample.classif.rpart' on task 'Task' (iter 2/2) \n",
      "INFO  [22:21:11.029] [mlr3]  Applying learner 'encode.oversample.classif.rpart' on task 'Task' (iter 1/2) \n",
      "INFO  [22:21:13.302] [mlr3]  Finished benchmark \n",
      "INFO  [22:21:13.479] [bbotk] Result of batch 18: \n",
      "INFO  [22:21:13.481] [bbotk]  encode.method oversample.ratio oversample.reference oversample.adjust \n",
      "INFO  [22:21:13.481] [bbotk]        one-hot                4                minor             minor \n",
      "INFO  [22:21:13.481] [bbotk]  oversample.shuffle classif.rpart.minsplit classif.rpart.cp \n",
      "INFO  [22:21:13.481] [bbotk]                TRUE                     27                0 \n",
      "INFO  [22:21:13.481] [bbotk]  classif.rpart.maxdepth classif.prauc                                uhash \n",
      "INFO  [22:21:13.481] [bbotk]                       1     0.7790698 0467aad8-914c-4e65-ad8b-797a56415e39 \n",
      "INFO  [22:21:13.514] [bbotk] Evaluating 1 configuration(s) \n",
      "INFO  [22:21:13.633] [mlr3]  Benchmark with 2 resampling iterations \n",
      "INFO  [22:21:13.643] [mlr3]  Applying learner 'encode.oversample.classif.rpart' on task 'Task' (iter 1/2) \n",
      "INFO  [22:21:15.674] [mlr3]  Applying learner 'encode.oversample.classif.rpart' on task 'Task' (iter 2/2) \n",
      "INFO  [22:21:17.639] [mlr3]  Finished benchmark \n",
      "INFO  [22:21:17.797] [bbotk] Result of batch 19: \n",
      "INFO  [22:21:17.800] [bbotk]  encode.method oversample.ratio oversample.reference oversample.adjust \n",
      "INFO  [22:21:17.800] [bbotk]        one-hot         3.333333                minor             minor \n",
      "INFO  [22:21:17.800] [bbotk]  oversample.shuffle classif.rpart.minsplit classif.rpart.cp \n",
      "INFO  [22:21:17.800] [bbotk]               FALSE                      7                1 \n",
      "INFO  [22:21:17.800] [bbotk]  classif.rpart.maxdepth classif.prauc                                uhash \n",
      "INFO  [22:21:17.800] [bbotk]                      24     0.7790698 1c19bd98-b96b-4a60-bcd5-0c50abde7124 \n",
      "INFO  [22:21:17.828] [bbotk] Evaluating 1 configuration(s) \n",
      "INFO  [22:21:17.954] [mlr3]  Benchmark with 2 resampling iterations \n",
      "INFO  [22:21:17.964] [mlr3]  Applying learner 'encode.oversample.classif.rpart' on task 'Task' (iter 2/2) \n",
      "INFO  [22:21:19.686] [mlr3]  Applying learner 'encode.oversample.classif.rpart' on task 'Task' (iter 1/2) \n",
      "INFO  [22:21:21.352] [mlr3]  Finished benchmark \n",
      "INFO  [22:21:21.527] [bbotk] Result of batch 20: \n",
      "INFO  [22:21:21.529] [bbotk]  encode.method oversample.ratio oversample.reference oversample.adjust \n",
      "INFO  [22:21:21.529] [bbotk]        one-hot         3.555556                minor             minor \n",
      "INFO  [22:21:21.529] [bbotk]  oversample.shuffle classif.rpart.minsplit classif.rpart.cp \n",
      "INFO  [22:21:21.529] [bbotk]               FALSE                     20                1 \n",
      "INFO  [22:21:21.529] [bbotk]  classif.rpart.maxdepth classif.prauc                                uhash \n",
      "INFO  [22:21:21.529] [bbotk]                      30     0.7790698 8487a245-86c4-42da-9aea-e75e8a109a72 \n",
      "INFO  [22:21:21.558] [bbotk] Evaluating 1 configuration(s) \n",
      "INFO  [22:21:21.687] [mlr3]  Benchmark with 2 resampling iterations \n",
      "INFO  [22:21:21.696] [mlr3]  Applying learner 'encode.oversample.classif.rpart' on task 'Task' (iter 2/2) \n",
      "INFO  [22:21:26.646] [mlr3]  Applying learner 'encode.oversample.classif.rpart' on task 'Task' (iter 1/2) \n",
      "INFO  [22:21:31.513] [mlr3]  Finished benchmark \n",
      "INFO  [22:21:32.273] [bbotk] Result of batch 21: \n",
      "INFO  [22:21:32.275] [bbotk]  encode.method oversample.ratio oversample.reference oversample.adjust \n",
      "INFO  [22:21:32.275] [bbotk]        one-hot         3.222222                minor             minor \n",
      "INFO  [22:21:32.275] [bbotk]  oversample.shuffle classif.rpart.minsplit classif.rpart.cp \n",
      "INFO  [22:21:32.275] [bbotk]                TRUE                     24                0 \n",
      "INFO  [22:21:32.275] [bbotk]  classif.rpart.maxdepth classif.prauc                                uhash \n",
      "INFO  [22:21:32.275] [bbotk]                       7     0.7908619 ed62d8c2-2f31-43bd-91af-bb95769c96dc \n",
      "INFO  [22:21:32.304] [bbotk] Evaluating 1 configuration(s) \n",
      "INFO  [22:21:32.441] [mlr3]  Benchmark with 2 resampling iterations \n",
      "INFO  [22:21:32.449] [mlr3]  Applying learner 'encode.oversample.classif.rpart' on task 'Task' (iter 1/2) \n",
      "INFO  [22:21:34.669] [mlr3]  Applying learner 'encode.oversample.classif.rpart' on task 'Task' (iter 2/2) \n",
      "INFO  [22:21:36.807] [mlr3]  Finished benchmark \n",
      "INFO  [22:21:36.982] [bbotk] Result of batch 22: \n",
      "INFO  [22:21:36.985] [bbotk]  encode.method oversample.ratio oversample.reference oversample.adjust \n",
      "INFO  [22:21:36.985] [bbotk]        one-hot         3.777778                minor             minor \n",
      "INFO  [22:21:36.985] [bbotk]  oversample.shuffle classif.rpart.minsplit classif.rpart.cp \n",
      "INFO  [22:21:36.985] [bbotk]                TRUE                      1                0 \n",
      "INFO  [22:21:36.985] [bbotk]  classif.rpart.maxdepth classif.prauc                                uhash \n",
      "INFO  [22:21:36.985] [bbotk]                       1     0.7790698 776fa70b-b0e1-4ed1-9006-4b62fafe5503 \n",
      "INFO  [22:21:37.017] [bbotk] Evaluating 1 configuration(s) \n",
      "INFO  [22:21:37.155] [mlr3]  Benchmark with 2 resampling iterations \n",
      "INFO  [22:21:37.165] [mlr3]  Applying learner 'encode.oversample.classif.rpart' on task 'Task' (iter 2/2) \n",
      "INFO  [22:21:42.640] [mlr3]  Applying learner 'encode.oversample.classif.rpart' on task 'Task' (iter 1/2) \n",
      "INFO  [22:21:47.603] [mlr3]  Finished benchmark \n",
      "INFO  [22:21:48.462] [bbotk] Result of batch 23: \n",
      "INFO  [22:21:48.464] [bbotk]  encode.method oversample.ratio oversample.reference oversample.adjust \n",
      "INFO  [22:21:48.464] [bbotk]        one-hot         3.555556                minor             minor \n",
      "INFO  [22:21:48.464] [bbotk]  oversample.shuffle classif.rpart.minsplit classif.rpart.cp \n",
      "INFO  [22:21:48.464] [bbotk]                TRUE                      7                0 \n",
      "INFO  [22:21:48.464] [bbotk]  classif.rpart.maxdepth classif.prauc                                uhash \n",
      "INFO  [22:21:48.464] [bbotk]                       7     0.7903251 e2770439-1e2c-48b0-a1db-493889a3d902 \n",
      "INFO  [22:21:48.520] [bbotk] Evaluating 1 configuration(s) \n",
      "INFO  [22:21:48.640] [mlr3]  Benchmark with 2 resampling iterations \n",
      "INFO  [22:21:48.647] [mlr3]  Applying learner 'encode.oversample.classif.rpart' on task 'Task' (iter 1/2) \n",
      "INFO  [22:21:53.506] [mlr3]  Applying learner 'encode.oversample.classif.rpart' on task 'Task' (iter 2/2) \n",
      "INFO  [22:21:58.374] [mlr3]  Finished benchmark \n",
      "INFO  [22:21:59.149] [bbotk] Result of batch 24: \n",
      "INFO  [22:21:59.152] [bbotk]  encode.method oversample.ratio oversample.reference oversample.adjust \n",
      "INFO  [22:21:59.152] [bbotk]        one-hot         3.333333                minor             minor \n",
      "INFO  [22:21:59.152] [bbotk]  oversample.shuffle classif.rpart.minsplit classif.rpart.cp \n",
      "INFO  [22:21:59.152] [bbotk]               FALSE                     24                0 \n",
      "INFO  [22:21:59.152] [bbotk]  classif.rpart.maxdepth classif.prauc                                uhash \n",
      "INFO  [22:21:59.152] [bbotk]                       7     0.7904867 2c1b1933-ff2a-4119-9e01-525a00e84809 \n",
      "INFO  [22:21:59.183] [bbotk] Evaluating 1 configuration(s) \n",
      "INFO  [22:21:59.332] [mlr3]  Benchmark with 2 resampling iterations \n",
      "INFO  [22:21:59.340] [mlr3]  Applying learner 'encode.oversample.classif.rpart' on task 'Task' (iter 1/2) \n",
      "INFO  [22:22:03.167] [mlr3]  Applying learner 'encode.oversample.classif.rpart' on task 'Task' (iter 2/2) \n",
      "INFO  [22:22:06.599] [mlr3]  Finished benchmark \n",
      "INFO  [22:22:07.683] [bbotk] Result of batch 25: \n",
      "INFO  [22:22:07.686] [bbotk]  encode.method oversample.ratio oversample.reference oversample.adjust \n",
      "INFO  [22:22:07.686] [bbotk]        one-hot         3.222222                minor             minor \n",
      "INFO  [22:22:07.686] [bbotk]  oversample.shuffle classif.rpart.minsplit classif.rpart.cp \n",
      "INFO  [22:22:07.686] [bbotk]                TRUE                     17                0 \n",
      "INFO  [22:22:07.686] [bbotk]  classif.rpart.maxdepth classif.prauc                                uhash \n",
      "INFO  [22:22:07.686] [bbotk]                       4     0.7896721 bbdc0153-e338-4727-8e65-d789a3cd95aa \n",
      "INFO  [22:22:07.718] [bbotk] Evaluating 1 configuration(s) \n",
      "INFO  [22:22:07.863] [mlr3]  Benchmark with 2 resampling iterations \n",
      "INFO  [22:22:07.873] [mlr3]  Applying learner 'encode.oversample.classif.rpart' on task 'Task' (iter 1/2) \n",
      "INFO  [22:22:09.815] [mlr3]  Applying learner 'encode.oversample.classif.rpart' on task 'Task' (iter 2/2) \n",
      "INFO  [22:22:11.820] [mlr3]  Finished benchmark \n",
      "INFO  [22:22:11.985] [bbotk] Result of batch 26: \n",
      "INFO  [22:22:11.988] [bbotk]  encode.method oversample.ratio oversample.reference oversample.adjust \n",
      "INFO  [22:22:11.988] [bbotk]        one-hot         3.333333                minor             minor \n",
      "INFO  [22:22:11.988] [bbotk]  oversample.shuffle classif.rpart.minsplit classif.rpart.cp \n",
      "INFO  [22:22:11.988] [bbotk]                TRUE                     14                1 \n",
      "INFO  [22:22:11.988] [bbotk]  classif.rpart.maxdepth classif.prauc                                uhash \n",
      "INFO  [22:22:11.988] [bbotk]                       1     0.7790698 8e5f5503-46bc-40a2-976f-a4d66909268d \n",
      "INFO  [22:22:12.022] [bbotk] Evaluating 1 configuration(s) \n",
      "INFO  [22:22:12.164] [mlr3]  Benchmark with 2 resampling iterations \n",
      "INFO  [22:22:12.172] [mlr3]  Applying learner 'encode.oversample.classif.rpart' on task 'Task' (iter 2/2) \n",
      "INFO  [22:22:13.889] [mlr3]  Applying learner 'encode.oversample.classif.rpart' on task 'Task' (iter 1/2) \n",
      "INFO  [22:22:15.569] [mlr3]  Finished benchmark \n",
      "INFO  [22:22:15.733] [bbotk] Result of batch 27: \n",
      "INFO  [22:22:15.736] [bbotk]  encode.method oversample.ratio oversample.reference oversample.adjust \n",
      "INFO  [22:22:15.736] [bbotk]        one-hot         3.444444                minor             minor \n",
      "INFO  [22:22:15.736] [bbotk]  oversample.shuffle classif.rpart.minsplit classif.rpart.cp \n",
      "INFO  [22:22:15.736] [bbotk]                TRUE                     14                1 \n",
      "INFO  [22:22:15.736] [bbotk]  classif.rpart.maxdepth classif.prauc                                uhash \n",
      "INFO  [22:22:15.736] [bbotk]                      30     0.7790698 61ad9872-32be-4bde-bf13-0ea16b783ffc \n",
      "INFO  [22:22:15.764] [bbotk] Evaluating 1 configuration(s) \n",
      "INFO  [22:22:15.894] [mlr3]  Benchmark with 2 resampling iterations \n",
      "INFO  [22:22:15.903] [mlr3]  Applying learner 'encode.oversample.classif.rpart' on task 'Task' (iter 1/2) \n",
      "INFO  [22:22:17.974] [mlr3]  Applying learner 'encode.oversample.classif.rpart' on task 'Task' (iter 2/2) \n",
      "INFO  [22:22:19.685] [mlr3]  Finished benchmark \n",
      "INFO  [22:22:19.900] [bbotk] Result of batch 28: \n",
      "INFO  [22:22:19.903] [bbotk]  encode.method oversample.ratio oversample.reference oversample.adjust \n",
      "INFO  [22:22:19.903] [bbotk]        one-hot         3.111111                minor             minor \n",
      "INFO  [22:22:19.903] [bbotk]  oversample.shuffle classif.rpart.minsplit classif.rpart.cp \n",
      "INFO  [22:22:19.903] [bbotk]                TRUE                      4                1 \n",
      "INFO  [22:22:19.903] [bbotk]  classif.rpart.maxdepth classif.prauc                                uhash \n",
      "INFO  [22:22:19.903] [bbotk]                       7     0.7790698 f9566305-3401-4548-b9b2-4684ad272edb \n",
      "INFO  [22:22:19.937] [bbotk] Evaluating 1 configuration(s) \n",
      "INFO  [22:22:20.061] [mlr3]  Benchmark with 2 resampling iterations \n",
      "INFO  [22:22:20.071] [mlr3]  Applying learner 'encode.oversample.classif.rpart' on task 'Task' (iter 1/2) \n",
      "INFO  [22:22:21.762] [mlr3]  Applying learner 'encode.oversample.classif.rpart' on task 'Task' (iter 2/2) \n",
      "INFO  [22:22:23.443] [mlr3]  Finished benchmark \n",
      "INFO  [22:22:23.621] [bbotk] Result of batch 29: \n",
      "INFO  [22:22:23.625] [bbotk]  encode.method oversample.ratio oversample.reference oversample.adjust \n",
      "INFO  [22:22:23.625] [bbotk]        one-hot         3.333333                minor             minor \n",
      "INFO  [22:22:23.625] [bbotk]  oversample.shuffle classif.rpart.minsplit classif.rpart.cp \n",
      "INFO  [22:22:23.625] [bbotk]               FALSE                     10                1 \n",
      "INFO  [22:22:23.625] [bbotk]  classif.rpart.maxdepth classif.prauc                                uhash \n",
      "INFO  [22:22:23.625] [bbotk]                       4     0.7790698 588e83a8-c1a0-433a-a56c-d54d764c98be \n",
      "INFO  [22:22:23.664] [bbotk] Evaluating 1 configuration(s) \n",
      "INFO  [22:22:23.810] [mlr3]  Benchmark with 2 resampling iterations \n",
      "INFO  [22:22:23.821] [mlr3]  Applying learner 'encode.oversample.classif.rpart' on task 'Task' (iter 1/2) \n",
      "INFO  [22:22:41.803] [mlr3]  Applying learner 'encode.oversample.classif.rpart' on task 'Task' (iter 2/2) \n",
      "INFO  [22:23:01.074] [mlr3]  Finished benchmark \n",
      "INFO  [22:23:01.540] [bbotk] Result of batch 30: \n",
      "INFO  [22:23:01.544] [bbotk]  encode.method oversample.ratio oversample.reference oversample.adjust \n",
      "INFO  [22:23:01.544] [bbotk]        one-hot         3.111111                minor             minor \n",
      "INFO  [22:23:01.544] [bbotk]  oversample.shuffle classif.rpart.minsplit classif.rpart.cp \n",
      "INFO  [22:23:01.544] [bbotk]               FALSE                      7                0 \n",
      "INFO  [22:23:01.544] [bbotk]  classif.rpart.maxdepth classif.prauc                                uhash \n",
      "INFO  [22:23:01.544] [bbotk]                      24     0.7789343 0f4af608-fdce-460f-b17b-69c0e430995a \n",
      "INFO  [22:23:01.576] [bbotk] Evaluating 1 configuration(s) \n",
      "INFO  [22:23:01.686] [mlr3]  Benchmark with 2 resampling iterations \n",
      "INFO  [22:23:01.694] [mlr3]  Applying learner 'encode.oversample.classif.rpart' on task 'Task' (iter 2/2) \n",
      "INFO  [22:23:12.959] [mlr3]  Applying learner 'encode.oversample.classif.rpart' on task 'Task' (iter 1/2) \n",
      "INFO  [22:23:24.292] [mlr3]  Finished benchmark \n",
      "INFO  [22:23:24.902] [bbotk] Result of batch 31: \n",
      "INFO  [22:23:24.905] [bbotk]  encode.method oversample.ratio oversample.reference oversample.adjust \n",
      "INFO  [22:23:24.905] [bbotk]        one-hot         3.555556                minor             minor \n",
      "INFO  [22:23:24.905] [bbotk]  oversample.shuffle classif.rpart.minsplit classif.rpart.cp \n",
      "INFO  [22:23:24.905] [bbotk]               FALSE                     24                0 \n",
      "INFO  [22:23:24.905] [bbotk]  classif.rpart.maxdepth classif.prauc                                uhash \n",
      "INFO  [22:23:24.905] [bbotk]                      17     0.7813922 c1008060-ae33-4b82-91a1-a02c43993106 \n",
      "INFO  [22:23:24.954] [bbotk] Evaluating 1 configuration(s) \n",
      "INFO  [22:23:25.072] [mlr3]  Benchmark with 2 resampling iterations \n",
      "INFO  [22:23:25.082] [mlr3]  Applying learner 'encode.oversample.classif.rpart' on task 'Task' (iter 2/2) \n",
      "INFO  [22:23:26.838] [mlr3]  Applying learner 'encode.oversample.classif.rpart' on task 'Task' (iter 1/2) \n",
      "INFO  [22:23:28.532] [mlr3]  Finished benchmark \n",
      "INFO  [22:23:28.691] [bbotk] Result of batch 32: \n",
      "INFO  [22:23:28.694] [bbotk]  encode.method oversample.ratio oversample.reference oversample.adjust \n",
      "INFO  [22:23:28.694] [bbotk]        one-hot         3.444444                minor             minor \n",
      "INFO  [22:23:28.694] [bbotk]  oversample.shuffle classif.rpart.minsplit classif.rpart.cp \n",
      "INFO  [22:23:28.694] [bbotk]                TRUE                     24                1 \n",
      "INFO  [22:23:28.694] [bbotk]  classif.rpart.maxdepth classif.prauc                                uhash \n",
      "INFO  [22:23:28.694] [bbotk]                      30     0.7790698 9d1771fd-5b71-42a3-a2c3-f66d48c19a8f \n",
      "INFO  [22:23:28.724] [bbotk] Evaluating 1 configuration(s) \n",
      "INFO  [22:23:28.831] [mlr3]  Benchmark with 2 resampling iterations \n",
      "INFO  [22:23:28.839] [mlr3]  Applying learner 'encode.oversample.classif.rpart' on task 'Task' (iter 1/2) \n",
      "INFO  [22:23:32.465] [mlr3]  Applying learner 'encode.oversample.classif.rpart' on task 'Task' (iter 2/2) \n",
      "INFO  [22:23:36.092] [mlr3]  Finished benchmark \n",
      "INFO  [22:23:37.444] [bbotk] Result of batch 33: \n",
      "INFO  [22:23:37.447] [bbotk]  encode.method oversample.ratio oversample.reference oversample.adjust \n",
      "INFO  [22:23:37.447] [bbotk]        one-hot         3.888889                minor             minor \n",
      "INFO  [22:23:37.447] [bbotk]  oversample.shuffle classif.rpart.minsplit classif.rpart.cp \n",
      "INFO  [22:23:37.447] [bbotk]                TRUE                      1                0 \n",
      "INFO  [22:23:37.447] [bbotk]  classif.rpart.maxdepth classif.prauc                                uhash \n",
      "INFO  [22:23:37.447] [bbotk]                       4     0.7899352 283641a4-e032-4d72-b42f-4c81f51ff456 \n",
      "INFO  [22:23:37.502] [bbotk] Evaluating 1 configuration(s) \n",
      "INFO  [22:23:37.622] [mlr3]  Benchmark with 2 resampling iterations \n",
      "INFO  [22:23:37.632] [mlr3]  Applying learner 'encode.oversample.classif.rpart' on task 'Task' (iter 2/2) \n",
      "INFO  [22:23:39.720] [mlr3]  Applying learner 'encode.oversample.classif.rpart' on task 'Task' (iter 1/2) \n",
      "INFO  [22:23:41.760] [mlr3]  Finished benchmark \n",
      "INFO  [22:23:41.914] [bbotk] Result of batch 34: \n",
      "INFO  [22:23:41.917] [bbotk]  encode.method oversample.ratio oversample.reference oversample.adjust \n",
      "INFO  [22:23:41.917] [bbotk]        one-hot         3.666667                minor             minor \n",
      "INFO  [22:23:41.917] [bbotk]  oversample.shuffle classif.rpart.minsplit classif.rpart.cp \n",
      "INFO  [22:23:41.917] [bbotk]                TRUE                     20                1 \n",
      "INFO  [22:23:41.917] [bbotk]  classif.rpart.maxdepth classif.prauc                                uhash \n",
      "INFO  [22:23:41.917] [bbotk]                      30     0.7790698 79cea503-00d3-4435-b463-4781c95d4709 \n",
      "INFO  [22:23:41.949] [bbotk] Evaluating 1 configuration(s) \n",
      "INFO  [22:23:42.092] [mlr3]  Benchmark with 2 resampling iterations \n",
      "INFO  [22:23:42.101] [mlr3]  Applying learner 'encode.oversample.classif.rpart' on task 'Task' (iter 2/2) \n",
      "INFO  [22:23:44.174] [mlr3]  Applying learner 'encode.oversample.classif.rpart' on task 'Task' (iter 1/2) \n",
      "INFO  [22:23:46.262] [mlr3]  Finished benchmark \n",
      "INFO  [22:23:46.797] [bbotk] Result of batch 35: \n",
      "INFO  [22:23:46.800] [bbotk]  encode.method oversample.ratio oversample.reference oversample.adjust \n",
      "INFO  [22:23:46.800] [bbotk]        one-hot         3.444444                minor             minor \n",
      "INFO  [22:23:46.800] [bbotk]  oversample.shuffle classif.rpart.minsplit classif.rpart.cp \n",
      "INFO  [22:23:46.800] [bbotk]                TRUE                     24                0 \n",
      "INFO  [22:23:46.800] [bbotk]  classif.rpart.maxdepth classif.prauc                                uhash \n",
      "INFO  [22:23:46.800] [bbotk]                       1     0.7846454 946220a1-ea88-44eb-962a-efa906b99576 \n",
      "INFO  [22:23:46.831] [bbotk] Evaluating 1 configuration(s) \n",
      "INFO  [22:23:46.959] [mlr3]  Benchmark with 2 resampling iterations \n",
      "INFO  [22:23:46.969] [mlr3]  Applying learner 'encode.oversample.classif.rpart' on task 'Task' (iter 2/2) \n",
      "INFO  [22:23:49.039] [mlr3]  Applying learner 'encode.oversample.classif.rpart' on task 'Task' (iter 1/2) \n",
      "INFO  [22:23:51.199] [mlr3]  Finished benchmark \n",
      "INFO  [22:23:52.099] [bbotk] Result of batch 36: \n",
      "INFO  [22:23:52.102] [bbotk]  encode.method oversample.ratio oversample.reference oversample.adjust \n",
      "INFO  [22:23:52.102] [bbotk]        one-hot         3.333333                minor             minor \n",
      "INFO  [22:23:52.102] [bbotk]  oversample.shuffle classif.rpart.minsplit classif.rpart.cp \n",
      "INFO  [22:23:52.102] [bbotk]               FALSE                     14                0 \n",
      "INFO  [22:23:52.102] [bbotk]  classif.rpart.maxdepth classif.prauc                                uhash \n",
      "INFO  [22:23:52.102] [bbotk]                       1     0.7846431 5d202a1f-a3ef-404f-89cc-fbdbfc3b1d61 \n",
      "INFO  [22:23:52.213] [bbotk] Finished optimizing after 36 evaluation(s) \n",
      "INFO  [22:23:52.215] [bbotk] Result: \n",
      "INFO  [22:23:52.217] [bbotk]  encode.method oversample.ratio oversample.reference oversample.adjust \n",
      "INFO  [22:23:52.217] [bbotk]        one-hot         3.222222                minor             minor \n",
      "INFO  [22:23:52.217] [bbotk]  oversample.shuffle classif.rpart.minsplit classif.rpart.cp \n",
      "INFO  [22:23:52.217] [bbotk]                TRUE                     24                0 \n",
      "INFO  [22:23:52.217] [bbotk]  classif.rpart.maxdepth learner_param_vals  x_domain classif.prauc \n",
      "INFO  [22:23:52.217] [bbotk]                       7         <list[10]> <list[8]>     0.7908619 \n"
     ]
    },
    {
     "data": {
      "text/plain": [
       "        truth\n",
       "response     0     1\n",
       "       0 35800  9676\n",
       "       1  5401  2099"
      ]
     },
     "metadata": {},
     "output_type": "display_data"
    }
   ],
   "source": [
    "# predict data with tunned parameters\n",
    "at$train(task)\n",
    "prediction <- at$predict(task, row_ids = test_set)\n",
    "\n",
    "# calculate performance\n",
    "prediction$confusion"
   ]
  },
  {
   "cell_type": "markdown",
   "metadata": {},
   "source": [
    "We can now use the learner like any other learner, calling the train() and predict() method.   \n",
    "This time however, we pass it to benchmark() to compare the tuner to a classification tree without tuning.  \n",
    "This way, the AutoTuner will do its resampling for tuning on the training set of the respective split of the outer resampling.  \n",
    "The learner then undertakes predictions using the test set of the outer resampling. This yields unbiased performance measures, as the observations in the test set have not been used during tuning or fitting of the respective learner. This is called **nested resampling**."
   ]
  },
  {
   "cell_type": "code",
   "execution_count": 40,
   "metadata": {},
   "outputs": [
    {
     "name": "stdout",
     "output_type": "stream",
     "text": [
      "INFO  [22:24:10.452] [mlr3]  Benchmark with 15 resampling iterations \n",
      "INFO  [22:24:10.464] [mlr3]  Applying learner 'encode.oversample.classif.rpart.tuned' on task 'Task' (iter 2/5) \n",
      "INFO  [22:24:10.927] [mlr3]  Benchmark with 2 resampling iterations \n",
      "INFO  [22:24:10.936] [mlr3]  Applying learner 'encode.oversample.classif.rpart' on task 'Task' (iter 2/2) \n",
      "INFO  [22:24:13.824] [mlr3]  Applying learner 'encode.oversample.classif.rpart' on task 'Task' (iter 1/2) \n",
      "INFO  [22:24:16.685] [mlr3]  Finished benchmark \n",
      "INFO  [22:24:17.952] [mlr3]  Benchmark with 2 resampling iterations \n",
      "INFO  [22:24:17.960] [mlr3]  Applying learner 'encode.oversample.classif.rpart' on task 'Task' (iter 1/2) \n",
      "INFO  [22:24:36.510] [mlr3]  Applying learner 'encode.oversample.classif.rpart' on task 'Task' (iter 2/2) \n",
      "INFO  [22:24:53.670] [mlr3]  Finished benchmark \n",
      "INFO  [22:24:54.103] [mlr3]  Benchmark with 2 resampling iterations \n",
      "INFO  [22:24:54.113] [mlr3]  Applying learner 'encode.oversample.classif.rpart' on task 'Task' (iter 1/2) \n",
      "INFO  [22:25:03.749] [mlr3]  Applying learner 'encode.oversample.classif.rpart' on task 'Task' (iter 2/2) \n",
      "INFO  [22:25:13.936] [mlr3]  Finished benchmark \n",
      "INFO  [22:25:14.488] [mlr3]  Benchmark with 2 resampling iterations \n",
      "INFO  [22:25:14.497] [mlr3]  Applying learner 'encode.oversample.classif.rpart' on task 'Task' (iter 2/2) \n",
      "INFO  [22:25:24.496] [mlr3]  Applying learner 'encode.oversample.classif.rpart' on task 'Task' (iter 1/2) \n",
      "INFO  [22:25:34.093] [mlr3]  Finished benchmark \n",
      "INFO  [22:25:34.624] [mlr3]  Benchmark with 2 resampling iterations \n",
      "INFO  [22:25:34.638] [mlr3]  Applying learner 'encode.oversample.classif.rpart' on task 'Task' (iter 2/2) \n",
      "INFO  [22:25:40.637] [mlr3]  Applying learner 'encode.oversample.classif.rpart' on task 'Task' (iter 1/2) \n",
      "INFO  [22:25:46.472] [mlr3]  Finished benchmark \n",
      "INFO  [22:25:47.081] [mlr3]  Benchmark with 2 resampling iterations \n",
      "INFO  [22:25:47.091] [mlr3]  Applying learner 'encode.oversample.classif.rpart' on task 'Task' (iter 1/2) \n",
      "INFO  [22:25:48.709] [mlr3]  Applying learner 'encode.oversample.classif.rpart' on task 'Task' (iter 2/2) \n",
      "INFO  [22:25:50.332] [mlr3]  Finished benchmark \n",
      "INFO  [22:25:50.628] [mlr3]  Benchmark with 2 resampling iterations \n",
      "INFO  [22:25:50.638] [mlr3]  Applying learner 'encode.oversample.classif.rpart' on task 'Task' (iter 1/2) \n",
      "INFO  [22:26:00.013] [mlr3]  Applying learner 'encode.oversample.classif.rpart' on task 'Task' (iter 2/2) \n",
      "INFO  [22:26:09.706] [mlr3]  Finished benchmark \n",
      "INFO  [22:26:10.247] [mlr3]  Benchmark with 2 resampling iterations \n",
      "INFO  [22:26:10.256] [mlr3]  Applying learner 'encode.oversample.classif.rpart' on task 'Task' (iter 1/2) \n",
      "INFO  [22:26:11.860] [mlr3]  Applying learner 'encode.oversample.classif.rpart' on task 'Task' (iter 2/2) \n",
      "INFO  [22:26:13.512] [mlr3]  Finished benchmark \n",
      "INFO  [22:26:13.803] [mlr3]  Benchmark with 2 resampling iterations \n",
      "INFO  [22:26:13.811] [mlr3]  Applying learner 'encode.oversample.classif.rpart' on task 'Task' (iter 1/2) \n",
      "INFO  [22:26:16.890] [mlr3]  Applying learner 'encode.oversample.classif.rpart' on task 'Task' (iter 2/2) \n",
      "INFO  [22:26:20.012] [mlr3]  Finished benchmark \n",
      "INFO  [22:26:20.854] [mlr3]  Benchmark with 2 resampling iterations \n",
      "INFO  [22:26:20.863] [mlr3]  Applying learner 'encode.oversample.classif.rpart' on task 'Task' (iter 2/2) \n",
      "INFO  [22:26:22.468] [mlr3]  Applying learner 'encode.oversample.classif.rpart' on task 'Task' (iter 1/2) \n",
      "INFO  [22:26:24.171] [mlr3]  Finished benchmark \n",
      "INFO  [22:26:24.485] [mlr3]  Benchmark with 2 resampling iterations \n",
      "INFO  [22:26:24.495] [mlr3]  Applying learner 'encode.oversample.classif.rpart' on task 'Task' (iter 2/2) \n",
      "INFO  [22:26:33.775] [mlr3]  Applying learner 'encode.oversample.classif.rpart' on task 'Task' (iter 1/2) \n",
      "INFO  [22:26:42.642] [mlr3]  Finished benchmark \n",
      "INFO  [22:26:43.188] [mlr3]  Benchmark with 2 resampling iterations \n",
      "INFO  [22:26:43.197] [mlr3]  Applying learner 'encode.oversample.classif.rpart' on task 'Task' (iter 1/2) \n",
      "INFO  [22:26:44.766] [mlr3]  Applying learner 'encode.oversample.classif.rpart' on task 'Task' (iter 2/2) \n",
      "INFO  [22:26:46.716] [mlr3]  Finished benchmark \n",
      "INFO  [22:26:47.053] [mlr3]  Benchmark with 2 resampling iterations \n",
      "INFO  [22:26:47.061] [mlr3]  Applying learner 'encode.oversample.classif.rpart' on task 'Task' (iter 2/2) \n",
      "INFO  [22:26:54.718] [mlr3]  Applying learner 'encode.oversample.classif.rpart' on task 'Task' (iter 1/2) \n",
      "INFO  [22:27:02.881] [mlr3]  Finished benchmark \n",
      "INFO  [22:27:03.463] [mlr3]  Benchmark with 2 resampling iterations \n",
      "INFO  [22:27:03.472] [mlr3]  Applying learner 'encode.oversample.classif.rpart' on task 'Task' (iter 2/2) \n",
      "INFO  [22:27:05.219] [mlr3]  Applying learner 'encode.oversample.classif.rpart' on task 'Task' (iter 1/2) \n",
      "INFO  [22:27:06.692] [mlr3]  Finished benchmark \n",
      "INFO  [22:27:06.996] [mlr3]  Benchmark with 2 resampling iterations \n",
      "INFO  [22:27:07.006] [mlr3]  Applying learner 'encode.oversample.classif.rpart' on task 'Task' (iter 2/2) \n",
      "INFO  [22:27:12.722] [mlr3]  Applying learner 'encode.oversample.classif.rpart' on task 'Task' (iter 1/2) \n",
      "INFO  [22:27:18.411] [mlr3]  Finished benchmark \n",
      "INFO  [22:27:19.060] [mlr3]  Benchmark with 2 resampling iterations \n",
      "INFO  [22:27:19.069] [mlr3]  Applying learner 'encode.oversample.classif.rpart' on task 'Task' (iter 2/2) \n",
      "INFO  [22:27:20.517] [mlr3]  Applying learner 'encode.oversample.classif.rpart' on task 'Task' (iter 1/2) \n",
      "INFO  [22:27:22.028] [mlr3]  Finished benchmark \n",
      "INFO  [22:27:22.326] [mlr3]  Benchmark with 2 resampling iterations \n",
      "INFO  [22:27:22.336] [mlr3]  Applying learner 'encode.oversample.classif.rpart' on task 'Task' (iter 2/2) \n",
      "INFO  [22:27:26.532] [mlr3]  Applying learner 'encode.oversample.classif.rpart' on task 'Task' (iter 1/2) \n",
      "INFO  [22:27:30.591] [mlr3]  Finished benchmark \n",
      "INFO  [22:27:31.344] [mlr3]  Benchmark with 2 resampling iterations \n",
      "INFO  [22:27:31.354] [mlr3]  Applying learner 'encode.oversample.classif.rpart' on task 'Task' (iter 1/2) \n",
      "INFO  [22:27:41.773] [mlr3]  Applying learner 'encode.oversample.classif.rpart' on task 'Task' (iter 2/2) \n",
      "INFO  [22:27:52.384] [mlr3]  Finished benchmark \n",
      "INFO  [22:27:52.916] [mlr3]  Benchmark with 2 resampling iterations \n",
      "INFO  [22:27:52.925] [mlr3]  Applying learner 'encode.oversample.classif.rpart' on task 'Task' (iter 1/2) \n",
      "INFO  [22:28:07.469] [mlr3]  Applying learner 'encode.oversample.classif.rpart' on task 'Task' (iter 2/2) \n",
      "INFO  [22:28:21.891] [mlr3]  Finished benchmark \n",
      "INFO  [22:28:22.357] [mlr3]  Benchmark with 2 resampling iterations \n",
      "INFO  [22:28:22.365] [mlr3]  Applying learner 'encode.oversample.classif.rpart' on task 'Task' (iter 2/2) \n",
      "INFO  [22:28:24.249] [mlr3]  Applying learner 'encode.oversample.classif.rpart' on task 'Task' (iter 1/2) \n",
      "INFO  [22:28:25.823] [mlr3]  Finished benchmark \n",
      "INFO  [22:28:26.133] [mlr3]  Benchmark with 2 resampling iterations \n",
      "INFO  [22:28:26.143] [mlr3]  Applying learner 'encode.oversample.classif.rpart' on task 'Task' (iter 1/2) \n",
      "INFO  [22:28:27.644] [mlr3]  Applying learner 'encode.oversample.classif.rpart' on task 'Task' (iter 2/2) \n",
      "INFO  [22:28:29.446] [mlr3]  Finished benchmark \n",
      "INFO  [22:28:29.767] [mlr3]  Benchmark with 2 resampling iterations \n",
      "INFO  [22:28:29.777] [mlr3]  Applying learner 'encode.oversample.classif.rpart' on task 'Task' (iter 2/2) \n",
      "INFO  [22:28:34.979] [mlr3]  Applying learner 'encode.oversample.classif.rpart' on task 'Task' (iter 1/2) \n",
      "INFO  [22:28:40.545] [mlr3]  Finished benchmark \n",
      "INFO  [22:28:41.162] [mlr3]  Benchmark with 2 resampling iterations \n",
      "INFO  [22:28:41.172] [mlr3]  Applying learner 'encode.oversample.classif.rpart' on task 'Task' (iter 1/2) \n",
      "INFO  [22:28:49.076] [mlr3]  Applying learner 'encode.oversample.classif.rpart' on task 'Task' (iter 2/2) \n",
      "INFO  [22:28:57.226] [mlr3]  Finished benchmark \n",
      "INFO  [22:28:57.751] [mlr3]  Benchmark with 2 resampling iterations \n",
      "INFO  [22:28:57.759] [mlr3]  Applying learner 'encode.oversample.classif.rpart' on task 'Task' (iter 2/2) \n",
      "INFO  [22:28:59.348] [mlr3]  Applying learner 'encode.oversample.classif.rpart' on task 'Task' (iter 1/2) \n",
      "INFO  [22:29:00.873] [mlr3]  Finished benchmark \n",
      "INFO  [22:29:01.175] [mlr3]  Benchmark with 2 resampling iterations \n",
      "INFO  [22:29:01.187] [mlr3]  Applying learner 'encode.oversample.classif.rpart' on task 'Task' (iter 2/2) \n",
      "INFO  [22:29:12.398] [mlr3]  Applying learner 'encode.oversample.classif.rpart' on task 'Task' (iter 1/2) \n",
      "INFO  [22:29:23.575] [mlr3]  Finished benchmark \n",
      "INFO  [22:29:24.120] [mlr3]  Benchmark with 2 resampling iterations \n",
      "INFO  [22:29:24.129] [mlr3]  Applying learner 'encode.oversample.classif.rpart' on task 'Task' (iter 2/2) \n",
      "INFO  [22:29:25.736] [mlr3]  Applying learner 'encode.oversample.classif.rpart' on task 'Task' (iter 1/2) \n",
      "INFO  [22:29:27.270] [mlr3]  Finished benchmark \n",
      "INFO  [22:29:27.597] [mlr3]  Benchmark with 2 resampling iterations \n",
      "INFO  [22:29:27.606] [mlr3]  Applying learner 'encode.oversample.classif.rpart' on task 'Task' (iter 2/2) \n",
      "INFO  [22:29:30.643] [mlr3]  Applying learner 'encode.oversample.classif.rpart' on task 'Task' (iter 1/2) \n",
      "INFO  [22:29:34.006] [mlr3]  Finished benchmark \n",
      "INFO  [22:29:34.897] [mlr3]  Benchmark with 2 resampling iterations \n",
      "INFO  [22:29:34.906] [mlr3]  Applying learner 'encode.oversample.classif.rpart' on task 'Task' (iter 2/2) \n",
      "INFO  [22:29:36.521] [mlr3]  Applying learner 'encode.oversample.classif.rpart' on task 'Task' (iter 1/2) \n",
      "INFO  [22:29:38.172] [mlr3]  Finished benchmark \n",
      "INFO  [22:29:38.463] [mlr3]  Benchmark with 2 resampling iterations \n",
      "INFO  [22:29:38.473] [mlr3]  Applying learner 'encode.oversample.classif.rpart' on task 'Task' (iter 2/2) \n",
      "INFO  [22:29:42.503] [mlr3]  Applying learner 'encode.oversample.classif.rpart' on task 'Task' (iter 1/2) \n",
      "INFO  [22:29:46.587] [mlr3]  Finished benchmark \n",
      "INFO  [22:29:47.296] [mlr3]  Benchmark with 2 resampling iterations \n",
      "INFO  [22:29:47.305] [mlr3]  Applying learner 'encode.oversample.classif.rpart' on task 'Task' (iter 2/2) \n",
      "INFO  [22:30:01.180] [mlr3]  Applying learner 'encode.oversample.classif.rpart' on task 'Task' (iter 1/2) \n",
      "INFO  [22:30:15.217] [mlr3]  Finished benchmark \n",
      "INFO  [22:30:15.700] [mlr3]  Benchmark with 2 resampling iterations \n",
      "INFO  [22:30:15.708] [mlr3]  Applying learner 'encode.oversample.classif.rpart' on task 'Task' (iter 1/2) \n",
      "INFO  [22:30:17.311] [mlr3]  Applying learner 'encode.oversample.classif.rpart' on task 'Task' (iter 2/2) \n",
      "INFO  [22:30:18.936] [mlr3]  Finished benchmark \n",
      "INFO  [22:30:19.249] [mlr3]  Benchmark with 2 resampling iterations \n",
      "INFO  [22:30:19.261] [mlr3]  Applying learner 'encode.oversample.classif.rpart' on task 'Task' (iter 2/2) \n",
      "INFO  [22:30:21.097] [mlr3]  Applying learner 'encode.oversample.classif.rpart' on task 'Task' (iter 1/2) \n",
      "INFO  [22:30:22.768] [mlr3]  Finished benchmark \n",
      "INFO  [22:30:23.063] [mlr3]  Benchmark with 2 resampling iterations \n",
      "INFO  [22:30:23.075] [mlr3]  Applying learner 'encode.oversample.classif.rpart' on task 'Task' (iter 1/2) \n",
      "INFO  [22:30:25.028] [mlr3]  Applying learner 'encode.oversample.classif.rpart' on task 'Task' (iter 2/2) \n",
      "INFO  [22:30:26.728] [mlr3]  Finished benchmark \n",
      "INFO  [22:30:27.017] [mlr3]  Benchmark with 2 resampling iterations \n",
      "INFO  [22:30:27.027] [mlr3]  Applying learner 'encode.oversample.classif.rpart' on task 'Task' (iter 1/2) \n",
      "INFO  [22:30:28.657] [mlr3]  Applying learner 'encode.oversample.classif.rpart' on task 'Task' (iter 2/2) \n",
      "INFO  [22:30:30.282] [mlr3]  Finished benchmark \n",
      "INFO  [22:30:30.581] [mlr3]  Benchmark with 2 resampling iterations \n",
      "INFO  [22:30:30.594] [mlr3]  Applying learner 'encode.oversample.classif.rpart' on task 'Task' (iter 1/2) \n",
      "INFO  [22:30:32.494] [mlr3]  Applying learner 'encode.oversample.classif.rpart' on task 'Task' (iter 2/2) \n",
      "INFO  [22:30:34.476] [mlr3]  Finished benchmark \n",
      "INFO  [22:30:34.773] [mlr3]  Benchmark with 2 resampling iterations \n",
      "INFO  [22:30:34.783] [mlr3]  Applying learner 'encode.oversample.classif.rpart' on task 'Task' (iter 2/2) \n",
      "INFO  [22:30:36.383] [mlr3]  Applying learner 'encode.oversample.classif.rpart' on task 'Task' (iter 1/2) \n",
      "INFO  [22:30:37.981] [mlr3]  Finished benchmark \n",
      "INFO  [22:30:44.193] [mlr3]  Applying learner 'encode.oversample.classif.rpart.tuned' on task 'Task' (iter 1/5) \n",
      "INFO  [22:30:44.662] [mlr3]  Benchmark with 2 resampling iterations \n",
      "INFO  [22:30:44.672] [mlr3]  Applying learner 'encode.oversample.classif.rpart' on task 'Task' (iter 2/2) \n",
      "INFO  [22:31:02.471] [mlr3]  Applying learner 'encode.oversample.classif.rpart' on task 'Task' (iter 1/2) \n",
      "INFO  [22:31:18.983] [mlr3]  Finished benchmark \n",
      "INFO  [22:31:19.495] [mlr3]  Benchmark with 2 resampling iterations \n",
      "INFO  [22:31:19.503] [mlr3]  Applying learner 'encode.oversample.classif.rpart' on task 'Task' (iter 2/2) \n",
      "INFO  [22:31:37.925] [mlr3]  Applying learner 'encode.oversample.classif.rpart' on task 'Task' (iter 1/2) \n",
      "INFO  [22:31:53.611] [mlr3]  Finished benchmark \n",
      "INFO  [22:31:54.110] [mlr3]  Benchmark with 2 resampling iterations \n",
      "INFO  [22:31:54.120] [mlr3]  Applying learner 'encode.oversample.classif.rpart' on task 'Task' (iter 2/2) \n",
      "INFO  [22:31:55.568] [mlr3]  Applying learner 'encode.oversample.classif.rpart' on task 'Task' (iter 1/2) \n",
      "INFO  [22:31:57.090] [mlr3]  Finished benchmark \n",
      "INFO  [22:31:57.412] [mlr3]  Benchmark with 2 resampling iterations \n",
      "INFO  [22:31:57.421] [mlr3]  Applying learner 'encode.oversample.classif.rpart' on task 'Task' (iter 1/2) \n",
      "INFO  [22:32:02.403] [mlr3]  Applying learner 'encode.oversample.classif.rpart' on task 'Task' (iter 2/2) \n",
      "INFO  [22:32:07.678] [mlr3]  Finished benchmark \n",
      "INFO  [22:32:08.522] [mlr3]  Benchmark with 2 resampling iterations \n",
      "INFO  [22:32:08.532] [mlr3]  Applying learner 'encode.oversample.classif.rpart' on task 'Task' (iter 2/2) \n",
      "INFO  [22:32:10.447] [mlr3]  Applying learner 'encode.oversample.classif.rpart' on task 'Task' (iter 1/2) \n",
      "INFO  [22:32:12.370] [mlr3]  Finished benchmark \n",
      "INFO  [22:32:12.961] [mlr3]  Benchmark with 2 resampling iterations \n",
      "INFO  [22:32:12.970] [mlr3]  Applying learner 'encode.oversample.classif.rpart' on task 'Task' (iter 2/2) \n",
      "INFO  [22:32:16.051] [mlr3]  Applying learner 'encode.oversample.classif.rpart' on task 'Task' (iter 1/2) \n",
      "INFO  [22:32:19.130] [mlr3]  Finished benchmark \n",
      "INFO  [22:32:20.153] [mlr3]  Benchmark with 2 resampling iterations \n",
      "INFO  [22:32:20.163] [mlr3]  Applying learner 'encode.oversample.classif.rpart' on task 'Task' (iter 2/2) \n",
      "INFO  [22:32:25.520] [mlr3]  Applying learner 'encode.oversample.classif.rpart' on task 'Task' (iter 1/2) \n",
      "INFO  [22:32:30.673] [mlr3]  Finished benchmark \n",
      "INFO  [22:32:31.546] [mlr3]  Benchmark with 2 resampling iterations \n",
      "INFO  [22:32:31.560] [mlr3]  Applying learner 'encode.oversample.classif.rpart' on task 'Task' (iter 1/2) \n",
      "INFO  [22:32:33.389] [mlr3]  Applying learner 'encode.oversample.classif.rpart' on task 'Task' (iter 2/2) \n",
      "INFO  [22:32:35.337] [mlr3]  Finished benchmark \n",
      "INFO  [22:32:35.940] [mlr3]  Benchmark with 2 resampling iterations \n",
      "INFO  [22:32:35.949] [mlr3]  Applying learner 'encode.oversample.classif.rpart' on task 'Task' (iter 1/2) \n",
      "INFO  [22:32:51.317] [mlr3]  Applying learner 'encode.oversample.classif.rpart' on task 'Task' (iter 2/2) \n",
      "INFO  [22:33:07.994] [mlr3]  Finished benchmark \n",
      "INFO  [22:33:08.539] [mlr3]  Benchmark with 2 resampling iterations \n",
      "INFO  [22:33:08.548] [mlr3]  Applying learner 'encode.oversample.classif.rpart' on task 'Task' (iter 1/2) \n",
      "INFO  [22:33:12.683] [mlr3]  Applying learner 'encode.oversample.classif.rpart' on task 'Task' (iter 2/2) \n",
      "INFO  [22:33:17.019] [mlr3]  Finished benchmark \n",
      "INFO  [22:33:17.956] [mlr3]  Benchmark with 2 resampling iterations \n",
      "INFO  [22:33:17.965] [mlr3]  Applying learner 'encode.oversample.classif.rpart' on task 'Task' (iter 2/2) \n",
      "INFO  [22:33:19.392] [mlr3]  Applying learner 'encode.oversample.classif.rpart' on task 'Task' (iter 1/2) \n",
      "INFO  [22:33:20.851] [mlr3]  Finished benchmark \n",
      "INFO  [22:33:21.191] [mlr3]  Benchmark with 2 resampling iterations \n",
      "INFO  [22:33:21.201] [mlr3]  Applying learner 'encode.oversample.classif.rpart' on task 'Task' (iter 1/2) \n",
      "INFO  [22:33:22.805] [mlr3]  Applying learner 'encode.oversample.classif.rpart' on task 'Task' (iter 2/2) \n",
      "INFO  [22:33:24.401] [mlr3]  Finished benchmark \n",
      "INFO  [22:33:24.757] [mlr3]  Benchmark with 2 resampling iterations \n",
      "INFO  [22:33:24.766] [mlr3]  Applying learner 'encode.oversample.classif.rpart' on task 'Task' (iter 2/2) \n",
      "INFO  [22:33:45.253] [mlr3]  Applying learner 'encode.oversample.classif.rpart' on task 'Task' (iter 1/2) \n",
      "INFO  [22:34:03.724] [mlr3]  Finished benchmark \n",
      "INFO  [22:34:04.314] [mlr3]  Benchmark with 2 resampling iterations \n",
      "INFO  [22:34:04.323] [mlr3]  Applying learner 'encode.oversample.classif.rpart' on task 'Task' (iter 1/2) \n",
      "INFO  [22:34:05.842] [mlr3]  Applying learner 'encode.oversample.classif.rpart' on task 'Task' (iter 2/2) \n",
      "INFO  [22:34:07.406] [mlr3]  Finished benchmark \n",
      "INFO  [22:34:07.780] [mlr3]  Benchmark with 2 resampling iterations \n",
      "INFO  [22:34:07.789] [mlr3]  Applying learner 'encode.oversample.classif.rpart' on task 'Task' (iter 1/2) \n",
      "INFO  [22:34:09.282] [mlr3]  Applying learner 'encode.oversample.classif.rpart' on task 'Task' (iter 2/2) \n",
      "INFO  [22:34:10.846] [mlr3]  Finished benchmark \n",
      "INFO  [22:34:11.191] [mlr3]  Benchmark with 2 resampling iterations \n",
      "INFO  [22:34:11.201] [mlr3]  Applying learner 'encode.oversample.classif.rpart' on task 'Task' (iter 1/2) \n",
      "INFO  [22:34:12.779] [mlr3]  Applying learner 'encode.oversample.classif.rpart' on task 'Task' (iter 2/2) \n",
      "INFO  [22:34:14.347] [mlr3]  Finished benchmark \n",
      "INFO  [22:34:14.707] [mlr3]  Benchmark with 2 resampling iterations \n",
      "INFO  [22:34:14.716] [mlr3]  Applying learner 'encode.oversample.classif.rpart' on task 'Task' (iter 1/2) \n",
      "INFO  [22:34:16.255] [mlr3]  Applying learner 'encode.oversample.classif.rpart' on task 'Task' (iter 2/2) \n",
      "INFO  [22:34:17.802] [mlr3]  Finished benchmark \n",
      "INFO  [22:34:18.125] [mlr3]  Benchmark with 2 resampling iterations \n",
      "INFO  [22:34:18.134] [mlr3]  Applying learner 'encode.oversample.classif.rpart' on task 'Task' (iter 2/2) \n",
      "INFO  [22:34:21.210] [mlr3]  Applying learner 'encode.oversample.classif.rpart' on task 'Task' (iter 1/2) \n",
      "INFO  [22:34:24.367] [mlr3]  Finished benchmark \n",
      "INFO  [22:34:25.377] [mlr3]  Benchmark with 2 resampling iterations \n",
      "INFO  [22:34:25.386] [mlr3]  Applying learner 'encode.oversample.classif.rpart' on task 'Task' (iter 2/2) \n",
      "INFO  [22:34:36.004] [mlr3]  Applying learner 'encode.oversample.classif.rpart' on task 'Task' (iter 1/2) \n",
      "INFO  [22:34:45.722] [mlr3]  Finished benchmark \n",
      "INFO  [22:34:46.368] [mlr3]  Benchmark with 2 resampling iterations \n",
      "INFO  [22:34:46.378] [mlr3]  Applying learner 'encode.oversample.classif.rpart' on task 'Task' (iter 2/2) \n",
      "INFO  [22:34:48.007] [mlr3]  Applying learner 'encode.oversample.classif.rpart' on task 'Task' (iter 1/2) \n",
      "INFO  [22:34:49.691] [mlr3]  Finished benchmark \n",
      "INFO  [22:34:50.089] [mlr3]  Benchmark with 2 resampling iterations \n",
      "INFO  [22:34:50.106] [mlr3]  Applying learner 'encode.oversample.classif.rpart' on task 'Task' (iter 1/2) \n",
      "INFO  [22:34:58.800] [mlr3]  Applying learner 'encode.oversample.classif.rpart' on task 'Task' (iter 2/2) \n",
      "INFO  [22:35:08.640] [mlr3]  Finished benchmark \n",
      "INFO  [22:35:09.252] [mlr3]  Benchmark with 2 resampling iterations \n",
      "INFO  [22:35:09.261] [mlr3]  Applying learner 'encode.oversample.classif.rpart' on task 'Task' (iter 2/2) \n",
      "INFO  [22:35:16.376] [mlr3]  Applying learner 'encode.oversample.classif.rpart' on task 'Task' (iter 1/2) \n",
      "INFO  [22:35:23.378] [mlr3]  Finished benchmark \n",
      "INFO  [22:35:24.002] [mlr3]  Benchmark with 2 resampling iterations \n",
      "INFO  [22:35:24.011] [mlr3]  Applying learner 'encode.oversample.classif.rpart' on task 'Task' (iter 1/2) \n",
      "INFO  [22:35:26.789] [mlr3]  Applying learner 'encode.oversample.classif.rpart' on task 'Task' (iter 2/2) \n",
      "INFO  [22:35:29.621] [mlr3]  Finished benchmark \n",
      "INFO  [22:35:30.684] [mlr3]  Benchmark with 2 resampling iterations \n",
      "INFO  [22:35:30.693] [mlr3]  Applying learner 'encode.oversample.classif.rpart' on task 'Task' (iter 1/2) \n",
      "INFO  [22:35:38.083] [mlr3]  Applying learner 'encode.oversample.classif.rpart' on task 'Task' (iter 2/2) \n",
      "INFO  [22:35:45.795] [mlr3]  Finished benchmark \n",
      "INFO  [22:35:46.526] [mlr3]  Benchmark with 2 resampling iterations \n",
      "INFO  [22:35:46.536] [mlr3]  Applying learner 'encode.oversample.classif.rpart' on task 'Task' (iter 2/2) \n",
      "INFO  [22:35:48.068] [mlr3]  Applying learner 'encode.oversample.classif.rpart' on task 'Task' (iter 1/2) \n",
      "INFO  [22:35:49.587] [mlr3]  Finished benchmark \n",
      "INFO  [22:35:49.909] [mlr3]  Benchmark with 2 resampling iterations \n",
      "INFO  [22:35:49.920] [mlr3]  Applying learner 'encode.oversample.classif.rpart' on task 'Task' (iter 2/2) \n",
      "INFO  [22:35:51.480] [mlr3]  Applying learner 'encode.oversample.classif.rpart' on task 'Task' (iter 1/2) \n",
      "INFO  [22:35:53.032] [mlr3]  Finished benchmark \n",
      "INFO  [22:35:53.385] [mlr3]  Benchmark with 2 resampling iterations \n",
      "INFO  [22:35:53.395] [mlr3]  Applying learner 'encode.oversample.classif.rpart' on task 'Task' (iter 2/2) \n",
      "INFO  [22:36:13.451] [mlr3]  Applying learner 'encode.oversample.classif.rpart' on task 'Task' (iter 1/2) \n",
      "INFO  [22:36:35.282] [mlr3]  Finished benchmark \n",
      "INFO  [22:36:35.746] [mlr3]  Benchmark with 2 resampling iterations \n",
      "INFO  [22:36:35.754] [mlr3]  Applying learner 'encode.oversample.classif.rpart' on task 'Task' (iter 1/2) \n",
      "INFO  [22:36:37.216] [mlr3]  Applying learner 'encode.oversample.classif.rpart' on task 'Task' (iter 2/2) \n",
      "INFO  [22:36:38.713] [mlr3]  Finished benchmark \n",
      "INFO  [22:36:39.030] [mlr3]  Benchmark with 2 resampling iterations \n",
      "INFO  [22:36:39.038] [mlr3]  Applying learner 'encode.oversample.classif.rpart' on task 'Task' (iter 2/2) \n",
      "INFO  [22:36:44.720] [mlr3]  Applying learner 'encode.oversample.classif.rpart' on task 'Task' (iter 1/2) \n",
      "INFO  [22:36:50.555] [mlr3]  Finished benchmark \n",
      "INFO  [22:36:51.311] [mlr3]  Benchmark with 2 resampling iterations \n",
      "INFO  [22:36:51.320] [mlr3]  Applying learner 'encode.oversample.classif.rpart' on task 'Task' (iter 1/2) \n",
      "INFO  [22:36:52.857] [mlr3]  Applying learner 'encode.oversample.classif.rpart' on task 'Task' (iter 2/2) \n",
      "INFO  [22:36:54.379] [mlr3]  Finished benchmark \n",
      "INFO  [22:36:54.739] [mlr3]  Benchmark with 2 resampling iterations \n",
      "INFO  [22:36:54.747] [mlr3]  Applying learner 'encode.oversample.classif.rpart' on task 'Task' (iter 2/2) \n",
      "INFO  [22:36:56.144] [mlr3]  Applying learner 'encode.oversample.classif.rpart' on task 'Task' (iter 1/2) \n",
      "INFO  [22:36:57.626] [mlr3]  Finished benchmark \n",
      "INFO  [22:36:57.973] [mlr3]  Benchmark with 2 resampling iterations \n",
      "INFO  [22:36:57.992] [mlr3]  Applying learner 'encode.oversample.classif.rpart' on task 'Task' (iter 2/2) \n",
      "INFO  [22:37:06.034] [mlr3]  Applying learner 'encode.oversample.classif.rpart' on task 'Task' (iter 1/2) \n",
      "INFO  [22:37:13.488] [mlr3]  Finished benchmark \n",
      "INFO  [22:37:14.141] [mlr3]  Benchmark with 2 resampling iterations \n",
      "INFO  [22:37:14.151] [mlr3]  Applying learner 'encode.oversample.classif.rpart' on task 'Task' (iter 2/2) \n",
      "INFO  [22:37:23.197] [mlr3]  Applying learner 'encode.oversample.classif.rpart' on task 'Task' (iter 1/2) \n",
      "INFO  [22:37:31.863] [mlr3]  Finished benchmark \n",
      "INFO  [22:37:32.504] [mlr3]  Benchmark with 2 resampling iterations \n",
      "INFO  [22:37:32.514] [mlr3]  Applying learner 'encode.oversample.classif.rpart' on task 'Task' (iter 2/2) \n",
      "INFO  [22:37:38.129] [mlr3]  Applying learner 'encode.oversample.classif.rpart' on task 'Task' (iter 1/2) \n",
      "INFO  [22:37:43.274] [mlr3]  Finished benchmark \n",
      "INFO  [22:37:44.037] [mlr3]  Benchmark with 2 resampling iterations \n",
      "INFO  [22:37:44.046] [mlr3]  Applying learner 'encode.oversample.classif.rpart' on task 'Task' (iter 2/2) \n",
      "INFO  [22:38:02.176] [mlr3]  Applying learner 'encode.oversample.classif.rpart' on task 'Task' (iter 1/2) \n",
      "INFO  [22:38:19.735] [mlr3]  Finished benchmark \n",
      "INFO  [22:38:20.311] [mlr3]  Benchmark with 2 resampling iterations \n",
      "INFO  [22:38:20.325] [mlr3]  Applying learner 'encode.oversample.classif.rpart' on task 'Task' (iter 2/2) \n",
      "INFO  [22:38:21.837] [mlr3]  Applying learner 'encode.oversample.classif.rpart' on task 'Task' (iter 1/2) \n",
      "INFO  [22:38:23.396] [mlr3]  Finished benchmark \n",
      "INFO  [22:38:29.231] [mlr3]  Applying learner 'encode.oversample.classif.keras' on task 'Task' (iter 5/5) \n",
      "INFO  [22:48:18.425] [mlr3]  Applying learner 'encode.oversample.classif.keras' on task 'Task' (iter 2/5) \n",
      "INFO  [22:58:04.491] [mlr3]  Applying learner 'encode.oversample.classif.keras' on task 'Task' (iter 4/5) \n",
      "INFO  [23:07:49.792] [mlr3]  Applying learner 'encode.oversample.classif.rpart' on task 'Task' (iter 1/5) \n",
      "INFO  [23:08:01.490] [mlr3]  Applying learner 'encode.oversample.classif.rpart' on task 'Task' (iter 4/5) \n",
      "INFO  [23:08:15.167] [mlr3]  Applying learner 'encode.oversample.classif.rpart.tuned' on task 'Task' (iter 4/5) \n",
      "INFO  [23:08:15.643] [mlr3]  Benchmark with 2 resampling iterations \n",
      "INFO  [23:08:15.655] [mlr3]  Applying learner 'encode.oversample.classif.rpart' on task 'Task' (iter 1/2) \n",
      "INFO  [23:08:17.251] [mlr3]  Applying learner 'encode.oversample.classif.rpart' on task 'Task' (iter 2/2) \n",
      "INFO  [23:08:18.798] [mlr3]  Finished benchmark \n",
      "INFO  [23:08:19.121] [mlr3]  Benchmark with 2 resampling iterations \n",
      "INFO  [23:08:19.130] [mlr3]  Applying learner 'encode.oversample.classif.rpart' on task 'Task' (iter 2/2) \n",
      "INFO  [23:08:20.652] [mlr3]  Applying learner 'encode.oversample.classif.rpart' on task 'Task' (iter 1/2) \n",
      "INFO  [23:08:22.209] [mlr3]  Finished benchmark \n",
      "INFO  [23:08:22.521] [mlr3]  Benchmark with 2 resampling iterations \n",
      "INFO  [23:08:22.532] [mlr3]  Applying learner 'encode.oversample.classif.rpart' on task 'Task' (iter 2/2) \n",
      "INFO  [23:08:24.001] [mlr3]  Applying learner 'encode.oversample.classif.rpart' on task 'Task' (iter 1/2) \n",
      "INFO  [23:08:25.489] [mlr3]  Finished benchmark \n",
      "INFO  [23:08:25.794] [mlr3]  Benchmark with 2 resampling iterations \n",
      "INFO  [23:08:25.803] [mlr3]  Applying learner 'encode.oversample.classif.rpart' on task 'Task' (iter 1/2) \n",
      "INFO  [23:08:33.858] [mlr3]  Applying learner 'encode.oversample.classif.rpart' on task 'Task' (iter 2/2) \n",
      "INFO  [23:08:41.518] [mlr3]  Finished benchmark \n",
      "INFO  [23:08:42.197] [mlr3]  Benchmark with 2 resampling iterations \n",
      "INFO  [23:08:42.207] [mlr3]  Applying learner 'encode.oversample.classif.rpart' on task 'Task' (iter 1/2) \n",
      "INFO  [23:08:57.274] [mlr3]  Applying learner 'encode.oversample.classif.rpart' on task 'Task' (iter 2/2) \n",
      "INFO  [23:09:10.473] [mlr3]  Finished benchmark \n",
      "INFO  [23:09:11.031] [mlr3]  Benchmark with 2 resampling iterations \n",
      "INFO  [23:09:11.040] [mlr3]  Applying learner 'encode.oversample.classif.rpart' on task 'Task' (iter 1/2) \n",
      "INFO  [23:09:16.755] [mlr3]  Applying learner 'encode.oversample.classif.rpart' on task 'Task' (iter 2/2) \n",
      "INFO  [23:09:21.977] [mlr3]  Finished benchmark \n",
      "INFO  [23:09:22.704] [mlr3]  Benchmark with 2 resampling iterations \n",
      "INFO  [23:09:22.714] [mlr3]  Applying learner 'encode.oversample.classif.rpart' on task 'Task' (iter 1/2) \n",
      "INFO  [23:09:32.481] [mlr3]  Applying learner 'encode.oversample.classif.rpart' on task 'Task' (iter 2/2) \n",
      "INFO  [23:09:41.174] [mlr3]  Finished benchmark \n",
      "INFO  [23:09:41.849] [mlr3]  Benchmark with 2 resampling iterations \n",
      "INFO  [23:09:41.859] [mlr3]  Applying learner 'encode.oversample.classif.rpart' on task 'Task' (iter 1/2) \n",
      "INFO  [23:09:57.392] [mlr3]  Applying learner 'encode.oversample.classif.rpart' on task 'Task' (iter 2/2) \n",
      "INFO  [23:10:11.058] [mlr3]  Finished benchmark \n",
      "INFO  [23:10:11.653] [mlr3]  Benchmark with 2 resampling iterations \n",
      "INFO  [23:10:11.663] [mlr3]  Applying learner 'encode.oversample.classif.rpart' on task 'Task' (iter 2/2) \n",
      "INFO  [23:10:13.530] [mlr3]  Applying learner 'encode.oversample.classif.rpart' on task 'Task' (iter 1/2) \n",
      "INFO  [23:10:15.495] [mlr3]  Finished benchmark \n",
      "INFO  [23:10:16.197] [mlr3]  Benchmark with 2 resampling iterations \n",
      "INFO  [23:10:16.221] [mlr3]  Applying learner 'encode.oversample.classif.rpart' on task 'Task' (iter 1/2) \n",
      "INFO  [23:10:17.762] [mlr3]  Applying learner 'encode.oversample.classif.rpart' on task 'Task' (iter 2/2) \n",
      "INFO  [23:10:19.294] [mlr3]  Finished benchmark \n",
      "INFO  [23:10:19.603] [mlr3]  Benchmark with 2 resampling iterations \n",
      "INFO  [23:10:19.610] [mlr3]  Applying learner 'encode.oversample.classif.rpart' on task 'Task' (iter 1/2) \n",
      "INFO  [23:10:23.937] [mlr3]  Applying learner 'encode.oversample.classif.rpart' on task 'Task' (iter 2/2) \n",
      "INFO  [23:10:28.126] [mlr3]  Finished benchmark \n",
      "INFO  [23:10:28.929] [mlr3]  Benchmark with 2 resampling iterations \n",
      "INFO  [23:10:28.938] [mlr3]  Applying learner 'encode.oversample.classif.rpart' on task 'Task' (iter 1/2) \n",
      "INFO  [23:10:33.159] [mlr3]  Applying learner 'encode.oversample.classif.rpart' on task 'Task' (iter 2/2) \n",
      "INFO  [23:10:37.321] [mlr3]  Finished benchmark \n",
      "INFO  [23:10:38.180] [mlr3]  Benchmark with 2 resampling iterations \n",
      "INFO  [23:10:38.188] [mlr3]  Applying learner 'encode.oversample.classif.rpart' on task 'Task' (iter 1/2) \n",
      "INFO  [23:10:39.664] [mlr3]  Applying learner 'encode.oversample.classif.rpart' on task 'Task' (iter 2/2) \n",
      "INFO  [23:10:41.173] [mlr3]  Finished benchmark \n",
      "INFO  [23:10:41.506] [mlr3]  Benchmark with 2 resampling iterations \n",
      "INFO  [23:10:41.515] [mlr3]  Applying learner 'encode.oversample.classif.rpart' on task 'Task' (iter 1/2) \n",
      "INFO  [23:10:58.459] [mlr3]  Applying learner 'encode.oversample.classif.rpart' on task 'Task' (iter 2/2) \n",
      "INFO  [23:11:13.372] [mlr3]  Finished benchmark \n",
      "INFO  [23:11:13.884] [mlr3]  Benchmark with 2 resampling iterations \n",
      "INFO  [23:11:13.894] [mlr3]  Applying learner 'encode.oversample.classif.rpart' on task 'Task' (iter 2/2) \n",
      "INFO  [23:11:15.423] [mlr3]  Applying learner 'encode.oversample.classif.rpart' on task 'Task' (iter 1/2) \n",
      "INFO  [23:11:16.937] [mlr3]  Finished benchmark \n",
      "INFO  [23:11:17.272] [mlr3]  Benchmark with 2 resampling iterations \n",
      "INFO  [23:11:17.283] [mlr3]  Applying learner 'encode.oversample.classif.rpart' on task 'Task' (iter 1/2) \n",
      "INFO  [23:11:18.764] [mlr3]  Applying learner 'encode.oversample.classif.rpart' on task 'Task' (iter 2/2) \n",
      "INFO  [23:11:20.307] [mlr3]  Finished benchmark \n",
      "INFO  [23:11:20.630] [mlr3]  Benchmark with 2 resampling iterations \n",
      "INFO  [23:11:20.638] [mlr3]  Applying learner 'encode.oversample.classif.rpart' on task 'Task' (iter 1/2) \n",
      "INFO  [23:11:47.790] [mlr3]  Applying learner 'encode.oversample.classif.rpart' on task 'Task' (iter 2/2) \n",
      "INFO  [23:12:08.563] [mlr3]  Finished benchmark \n",
      "INFO  [23:12:09.156] [mlr3]  Benchmark with 2 resampling iterations \n",
      "INFO  [23:12:09.165] [mlr3]  Applying learner 'encode.oversample.classif.rpart' on task 'Task' (iter 2/2) \n",
      "INFO  [23:12:24.558] [mlr3]  Applying learner 'encode.oversample.classif.rpart' on task 'Task' (iter 1/2) \n",
      "INFO  [23:12:42.169] [mlr3]  Finished benchmark \n",
      "INFO  [23:12:42.698] [mlr3]  Benchmark with 2 resampling iterations \n",
      "INFO  [23:12:42.708] [mlr3]  Applying learner 'encode.oversample.classif.rpart' on task 'Task' (iter 2/2) \n",
      "INFO  [23:12:49.926] [mlr3]  Applying learner 'encode.oversample.classif.rpart' on task 'Task' (iter 1/2) \n",
      "INFO  [23:12:57.668] [mlr3]  Finished benchmark \n",
      "INFO  [23:12:58.366] [mlr3]  Benchmark with 2 resampling iterations \n",
      "INFO  [23:12:58.376] [mlr3]  Applying learner 'encode.oversample.classif.rpart' on task 'Task' (iter 1/2) \n",
      "INFO  [23:12:59.887] [mlr3]  Applying learner 'encode.oversample.classif.rpart' on task 'Task' (iter 2/2) \n",
      "INFO  [23:13:01.498] [mlr3]  Finished benchmark \n",
      "INFO  [23:13:01.879] [mlr3]  Benchmark with 2 resampling iterations \n",
      "INFO  [23:13:01.892] [mlr3]  Applying learner 'encode.oversample.classif.rpart' on task 'Task' (iter 2/2) \n",
      "INFO  [23:13:16.468] [mlr3]  Applying learner 'encode.oversample.classif.rpart' on task 'Task' (iter 1/2) \n",
      "INFO  [23:13:32.507] [mlr3]  Finished benchmark \n",
      "INFO  [23:13:33.089] [mlr3]  Benchmark with 2 resampling iterations \n",
      "INFO  [23:13:33.102] [mlr3]  Applying learner 'encode.oversample.classif.rpart' on task 'Task' (iter 1/2) \n",
      "INFO  [23:13:38.801] [mlr3]  Applying learner 'encode.oversample.classif.rpart' on task 'Task' (iter 2/2) \n",
      "INFO  [23:13:44.194] [mlr3]  Finished benchmark \n",
      "INFO  [23:13:44.915] [mlr3]  Benchmark with 2 resampling iterations \n",
      "INFO  [23:13:44.925] [mlr3]  Applying learner 'encode.oversample.classif.rpart' on task 'Task' (iter 1/2) \n",
      "INFO  [23:13:46.535] [mlr3]  Applying learner 'encode.oversample.classif.rpart' on task 'Task' (iter 2/2) \n",
      "INFO  [23:13:48.176] [mlr3]  Finished benchmark \n",
      "INFO  [23:13:48.516] [mlr3]  Benchmark with 2 resampling iterations \n",
      "INFO  [23:13:48.525] [mlr3]  Applying learner 'encode.oversample.classif.rpart' on task 'Task' (iter 2/2) \n",
      "INFO  [23:13:51.551] [mlr3]  Applying learner 'encode.oversample.classif.rpart' on task 'Task' (iter 1/2) \n",
      "INFO  [23:13:54.647] [mlr3]  Finished benchmark \n",
      "INFO  [23:13:56.012] [mlr3]  Benchmark with 2 resampling iterations \n",
      "INFO  [23:13:56.022] [mlr3]  Applying learner 'encode.oversample.classif.rpart' on task 'Task' (iter 2/2) \n",
      "INFO  [23:14:03.588] [mlr3]  Applying learner 'encode.oversample.classif.rpart' on task 'Task' (iter 1/2) \n",
      "INFO  [23:14:11.623] [mlr3]  Finished benchmark \n",
      "INFO  [23:14:12.408] [mlr3]  Benchmark with 2 resampling iterations \n",
      "INFO  [23:14:12.417] [mlr3]  Applying learner 'encode.oversample.classif.rpart' on task 'Task' (iter 1/2) \n",
      "INFO  [23:14:15.562] [mlr3]  Applying learner 'encode.oversample.classif.rpart' on task 'Task' (iter 2/2) \n",
      "INFO  [23:14:18.625] [mlr3]  Finished benchmark \n",
      "INFO  [23:14:19.714] [mlr3]  Benchmark with 2 resampling iterations \n",
      "INFO  [23:14:19.724] [mlr3]  Applying learner 'encode.oversample.classif.rpart' on task 'Task' (iter 2/2) \n",
      "INFO  [23:14:21.617] [mlr3]  Applying learner 'encode.oversample.classif.rpart' on task 'Task' (iter 1/2) \n",
      "INFO  [23:14:23.580] [mlr3]  Finished benchmark \n",
      "INFO  [23:14:24.540] [mlr3]  Benchmark with 2 resampling iterations \n",
      "INFO  [23:14:24.551] [mlr3]  Applying learner 'encode.oversample.classif.rpart' on task 'Task' (iter 2/2) \n",
      "INFO  [23:14:26.189] [mlr3]  Applying learner 'encode.oversample.classif.rpart' on task 'Task' (iter 1/2) \n",
      "INFO  [23:14:27.805] [mlr3]  Finished benchmark \n",
      "INFO  [23:14:28.175] [mlr3]  Benchmark with 2 resampling iterations \n",
      "INFO  [23:14:28.192] [mlr3]  Applying learner 'encode.oversample.classif.rpart' on task 'Task' (iter 2/2) \n",
      "INFO  [23:14:29.766] [mlr3]  Applying learner 'encode.oversample.classif.rpart' on task 'Task' (iter 1/2) \n",
      "INFO  [23:14:31.417] [mlr3]  Finished benchmark \n",
      "INFO  [23:14:31.775] [mlr3]  Benchmark with 2 resampling iterations \n",
      "INFO  [23:14:31.788] [mlr3]  Applying learner 'encode.oversample.classif.rpart' on task 'Task' (iter 2/2) \n",
      "INFO  [23:14:33.476] [mlr3]  Applying learner 'encode.oversample.classif.rpart' on task 'Task' (iter 1/2) \n",
      "INFO  [23:14:35.155] [mlr3]  Finished benchmark \n",
      "INFO  [23:14:35.904] [mlr3]  Benchmark with 2 resampling iterations \n",
      "INFO  [23:14:35.912] [mlr3]  Applying learner 'encode.oversample.classif.rpart' on task 'Task' (iter 2/2) \n",
      "INFO  [23:14:41.568] [mlr3]  Applying learner 'encode.oversample.classif.rpart' on task 'Task' (iter 1/2) \n",
      "INFO  [23:14:47.559] [mlr3]  Finished benchmark \n",
      "INFO  [23:14:48.223] [mlr3]  Benchmark with 2 resampling iterations \n",
      "INFO  [23:14:48.231] [mlr3]  Applying learner 'encode.oversample.classif.rpart' on task 'Task' (iter 1/2) \n",
      "INFO  [23:14:49.710] [mlr3]  Applying learner 'encode.oversample.classif.rpart' on task 'Task' (iter 2/2) \n",
      "INFO  [23:14:51.250] [mlr3]  Finished benchmark \n",
      "INFO  [23:14:51.551] [mlr3]  Benchmark with 2 resampling iterations \n",
      "INFO  [23:14:51.561] [mlr3]  Applying learner 'encode.oversample.classif.rpart' on task 'Task' (iter 1/2) \n",
      "INFO  [23:14:53.146] [mlr3]  Applying learner 'encode.oversample.classif.rpart' on task 'Task' (iter 2/2) \n",
      "INFO  [23:14:54.649] [mlr3]  Finished benchmark \n",
      "INFO  [23:14:54.974] [mlr3]  Benchmark with 2 resampling iterations \n",
      "INFO  [23:14:54.983] [mlr3]  Applying learner 'encode.oversample.classif.rpart' on task 'Task' (iter 1/2) \n",
      "INFO  [23:14:56.463] [mlr3]  Applying learner 'encode.oversample.classif.rpart' on task 'Task' (iter 2/2) \n",
      "INFO  [23:14:57.975] [mlr3]  Finished benchmark \n",
      "INFO  [23:14:58.317] [mlr3]  Benchmark with 2 resampling iterations \n",
      "INFO  [23:14:58.327] [mlr3]  Applying learner 'encode.oversample.classif.rpart' on task 'Task' (iter 2/2) \n",
      "INFO  [23:14:59.923] [mlr3]  Applying learner 'encode.oversample.classif.rpart' on task 'Task' (iter 1/2) \n",
      "INFO  [23:15:01.533] [mlr3]  Finished benchmark \n",
      "INFO  [23:15:01.845] [mlr3]  Benchmark with 2 resampling iterations \n",
      "INFO  [23:15:01.855] [mlr3]  Applying learner 'encode.oversample.classif.rpart' on task 'Task' (iter 1/2) \n",
      "INFO  [23:15:03.388] [mlr3]  Applying learner 'encode.oversample.classif.rpart' on task 'Task' (iter 2/2) \n",
      "INFO  [23:15:04.975] [mlr3]  Finished benchmark \n",
      "INFO  [23:15:10.655] [mlr3]  Applying learner 'encode.oversample.classif.keras' on task 'Task' (iter 3/5) \n",
      "INFO  [23:24:56.611] [mlr3]  Applying learner 'encode.oversample.classif.rpart.tuned' on task 'Task' (iter 3/5) \n",
      "INFO  [23:24:57.130] [mlr3]  Benchmark with 2 resampling iterations \n",
      "INFO  [23:24:57.140] [mlr3]  Applying learner 'encode.oversample.classif.rpart' on task 'Task' (iter 2/2) \n",
      "INFO  [23:25:00.100] [mlr3]  Applying learner 'encode.oversample.classif.rpart' on task 'Task' (iter 1/2) \n",
      "INFO  [23:25:02.928] [mlr3]  Finished benchmark \n",
      "INFO  [23:25:03.779] [mlr3]  Benchmark with 2 resampling iterations \n",
      "INFO  [23:25:03.791] [mlr3]  Applying learner 'encode.oversample.classif.rpart' on task 'Task' (iter 2/2) \n",
      "INFO  [23:25:20.156] [mlr3]  Applying learner 'encode.oversample.classif.rpart' on task 'Task' (iter 1/2) \n",
      "INFO  [23:25:37.852] [mlr3]  Finished benchmark \n",
      "INFO  [23:25:38.292] [mlr3]  Benchmark with 2 resampling iterations \n",
      "INFO  [23:25:38.302] [mlr3]  Applying learner 'encode.oversample.classif.rpart' on task 'Task' (iter 1/2) \n",
      "INFO  [23:25:39.841] [mlr3]  Applying learner 'encode.oversample.classif.rpart' on task 'Task' (iter 2/2) \n",
      "INFO  [23:25:41.486] [mlr3]  Finished benchmark \n",
      "INFO  [23:25:41.792] [mlr3]  Benchmark with 2 resampling iterations \n",
      "INFO  [23:25:41.800] [mlr3]  Applying learner 'encode.oversample.classif.rpart' on task 'Task' (iter 2/2) \n",
      "INFO  [23:25:43.477] [mlr3]  Applying learner 'encode.oversample.classif.rpart' on task 'Task' (iter 1/2) \n",
      "INFO  [23:25:45.022] [mlr3]  Finished benchmark \n",
      "INFO  [23:25:45.352] [mlr3]  Benchmark with 2 resampling iterations \n",
      "INFO  [23:25:45.363] [mlr3]  Applying learner 'encode.oversample.classif.rpart' on task 'Task' (iter 2/2) \n",
      "INFO  [23:25:52.566] [mlr3]  Applying learner 'encode.oversample.classif.rpart' on task 'Task' (iter 1/2) \n",
      "INFO  [23:25:59.856] [mlr3]  Finished benchmark \n",
      "INFO  [23:26:00.489] [mlr3]  Benchmark with 2 resampling iterations \n",
      "INFO  [23:26:00.502] [mlr3]  Applying learner 'encode.oversample.classif.rpart' on task 'Task' (iter 2/2) \n",
      "INFO  [23:26:02.019] [mlr3]  Applying learner 'encode.oversample.classif.rpart' on task 'Task' (iter 1/2) \n",
      "INFO  [23:26:03.526] [mlr3]  Finished benchmark \n",
      "INFO  [23:26:03.831] [mlr3]  Benchmark with 2 resampling iterations \n",
      "INFO  [23:26:03.840] [mlr3]  Applying learner 'encode.oversample.classif.rpart' on task 'Task' (iter 2/2) \n",
      "INFO  [23:26:05.412] [mlr3]  Applying learner 'encode.oversample.classif.rpart' on task 'Task' (iter 1/2) \n",
      "INFO  [23:26:06.954] [mlr3]  Finished benchmark \n",
      "INFO  [23:26:07.282] [mlr3]  Benchmark with 2 resampling iterations \n",
      "INFO  [23:26:07.292] [mlr3]  Applying learner 'encode.oversample.classif.rpart' on task 'Task' (iter 2/2) \n",
      "INFO  [23:26:23.565] [mlr3]  Applying learner 'encode.oversample.classif.rpart' on task 'Task' (iter 1/2) \n",
      "INFO  [23:26:40.524] [mlr3]  Finished benchmark \n",
      "INFO  [23:26:41.301] [mlr3]  Benchmark with 2 resampling iterations \n",
      "INFO  [23:26:41.309] [mlr3]  Applying learner 'encode.oversample.classif.rpart' on task 'Task' (iter 2/2) \n",
      "INFO  [23:26:49.053] [mlr3]  Applying learner 'encode.oversample.classif.rpart' on task 'Task' (iter 1/2) \n",
      "INFO  [23:26:56.693] [mlr3]  Finished benchmark \n",
      "INFO  [23:26:57.263] [mlr3]  Benchmark with 2 resampling iterations \n",
      "INFO  [23:26:57.275] [mlr3]  Applying learner 'encode.oversample.classif.rpart' on task 'Task' (iter 1/2) \n",
      "INFO  [23:26:58.823] [mlr3]  Applying learner 'encode.oversample.classif.rpart' on task 'Task' (iter 2/2) \n",
      "INFO  [23:27:00.332] [mlr3]  Finished benchmark \n",
      "INFO  [23:27:00.630] [mlr3]  Benchmark with 2 resampling iterations \n",
      "INFO  [23:27:00.640] [mlr3]  Applying learner 'encode.oversample.classif.rpart' on task 'Task' (iter 2/2) \n",
      "INFO  [23:27:02.114] [mlr3]  Applying learner 'encode.oversample.classif.rpart' on task 'Task' (iter 1/2) \n",
      "INFO  [23:27:03.577] [mlr3]  Finished benchmark \n",
      "INFO  [23:27:03.888] [mlr3]  Benchmark with 2 resampling iterations \n",
      "INFO  [23:27:03.898] [mlr3]  Applying learner 'encode.oversample.classif.rpart' on task 'Task' (iter 1/2) \n",
      "INFO  [23:27:05.355] [mlr3]  Applying learner 'encode.oversample.classif.rpart' on task 'Task' (iter 2/2) \n",
      "INFO  [23:27:06.800] [mlr3]  Finished benchmark \n",
      "INFO  [23:27:07.119] [mlr3]  Benchmark with 2 resampling iterations \n",
      "INFO  [23:27:07.128] [mlr3]  Applying learner 'encode.oversample.classif.rpart' on task 'Task' (iter 1/2) \n",
      "INFO  [23:27:11.316] [mlr3]  Applying learner 'encode.oversample.classif.rpart' on task 'Task' (iter 2/2) \n",
      "INFO  [23:27:15.675] [mlr3]  Finished benchmark \n",
      "INFO  [23:27:16.397] [mlr3]  Benchmark with 2 resampling iterations \n",
      "INFO  [23:27:16.408] [mlr3]  Applying learner 'encode.oversample.classif.rpart' on task 'Task' (iter 2/2) \n",
      "INFO  [23:27:17.914] [mlr3]  Applying learner 'encode.oversample.classif.rpart' on task 'Task' (iter 1/2) \n",
      "INFO  [23:27:19.335] [mlr3]  Finished benchmark \n",
      "INFO  [23:27:19.657] [mlr3]  Benchmark with 2 resampling iterations \n",
      "INFO  [23:27:19.666] [mlr3]  Applying learner 'encode.oversample.classif.rpart' on task 'Task' (iter 1/2) \n",
      "INFO  [23:27:21.238] [mlr3]  Applying learner 'encode.oversample.classif.rpart' on task 'Task' (iter 2/2) \n",
      "INFO  [23:27:22.844] [mlr3]  Finished benchmark \n",
      "INFO  [23:27:23.167] [mlr3]  Benchmark with 2 resampling iterations \n",
      "INFO  [23:27:23.176] [mlr3]  Applying learner 'encode.oversample.classif.rpart' on task 'Task' (iter 2/2) \n",
      "INFO  [23:27:24.702] [mlr3]  Applying learner 'encode.oversample.classif.rpart' on task 'Task' (iter 1/2) \n",
      "INFO  [23:27:26.210] [mlr3]  Finished benchmark \n",
      "INFO  [23:27:26.511] [mlr3]  Benchmark with 2 resampling iterations \n",
      "INFO  [23:27:26.520] [mlr3]  Applying learner 'encode.oversample.classif.rpart' on task 'Task' (iter 1/2) \n",
      "INFO  [23:27:28.121] [mlr3]  Applying learner 'encode.oversample.classif.rpart' on task 'Task' (iter 2/2) \n",
      "INFO  [23:27:29.664] [mlr3]  Finished benchmark \n",
      "INFO  [23:27:29.989] [mlr3]  Benchmark with 2 resampling iterations \n",
      "INFO  [23:27:29.998] [mlr3]  Applying learner 'encode.oversample.classif.rpart' on task 'Task' (iter 2/2) \n",
      "INFO  [23:27:31.592] [mlr3]  Applying learner 'encode.oversample.classif.rpart' on task 'Task' (iter 1/2) \n",
      "INFO  [23:27:33.286] [mlr3]  Finished benchmark \n",
      "INFO  [23:27:33.630] [mlr3]  Benchmark with 2 resampling iterations \n",
      "INFO  [23:27:33.639] [mlr3]  Applying learner 'encode.oversample.classif.rpart' on task 'Task' (iter 1/2) \n",
      "INFO  [23:27:35.488] [mlr3]  Applying learner 'encode.oversample.classif.rpart' on task 'Task' (iter 2/2) \n",
      "INFO  [23:27:37.338] [mlr3]  Finished benchmark \n",
      "INFO  [23:27:37.862] [mlr3]  Benchmark with 2 resampling iterations \n",
      "INFO  [23:27:37.872] [mlr3]  Applying learner 'encode.oversample.classif.rpart' on task 'Task' (iter 1/2) \n",
      "INFO  [23:27:57.572] [mlr3]  Applying learner 'encode.oversample.classif.rpart' on task 'Task' (iter 2/2) \n",
      "INFO  [23:28:16.732] [mlr3]  Finished benchmark \n",
      "INFO  [23:28:17.190] [mlr3]  Benchmark with 2 resampling iterations \n",
      "INFO  [23:28:17.199] [mlr3]  Applying learner 'encode.oversample.classif.rpart' on task 'Task' (iter 1/2) \n",
      "INFO  [23:28:29.060] [mlr3]  Applying learner 'encode.oversample.classif.rpart' on task 'Task' (iter 2/2) \n",
      "INFO  [23:28:40.182] [mlr3]  Finished benchmark \n",
      "INFO  [23:28:40.738] [mlr3]  Benchmark with 2 resampling iterations \n",
      "INFO  [23:28:40.746] [mlr3]  Applying learner 'encode.oversample.classif.rpart' on task 'Task' (iter 2/2) \n",
      "INFO  [23:28:51.770] [mlr3]  Applying learner 'encode.oversample.classif.rpart' on task 'Task' (iter 1/2) \n",
      "INFO  [23:29:03.146] [mlr3]  Finished benchmark \n",
      "INFO  [23:29:03.710] [mlr3]  Benchmark with 2 resampling iterations \n",
      "INFO  [23:29:03.721] [mlr3]  Applying learner 'encode.oversample.classif.rpart' on task 'Task' (iter 1/2) \n",
      "INFO  [23:29:05.387] [mlr3]  Applying learner 'encode.oversample.classif.rpart' on task 'Task' (iter 2/2) \n",
      "INFO  [23:29:06.967] [mlr3]  Finished benchmark \n",
      "INFO  [23:29:07.328] [mlr3]  Benchmark with 2 resampling iterations \n",
      "INFO  [23:29:07.338] [mlr3]  Applying learner 'encode.oversample.classif.rpart' on task 'Task' (iter 1/2) \n",
      "INFO  [23:29:15.106] [mlr3]  Applying learner 'encode.oversample.classif.rpart' on task 'Task' (iter 2/2) \n",
      "INFO  [23:29:23.235] [mlr3]  Finished benchmark \n",
      "INFO  [23:29:23.853] [mlr3]  Benchmark with 2 resampling iterations \n",
      "INFO  [23:29:23.864] [mlr3]  Applying learner 'encode.oversample.classif.rpart' on task 'Task' (iter 1/2) \n",
      "INFO  [23:29:29.702] [mlr3]  Applying learner 'encode.oversample.classif.rpart' on task 'Task' (iter 2/2) \n",
      "INFO  [23:29:35.625] [mlr3]  Finished benchmark \n",
      "INFO  [23:29:36.304] [mlr3]  Benchmark with 2 resampling iterations \n",
      "INFO  [23:29:36.318] [mlr3]  Applying learner 'encode.oversample.classif.rpart' on task 'Task' (iter 1/2) \n",
      "INFO  [23:29:37.788] [mlr3]  Applying learner 'encode.oversample.classif.rpart' on task 'Task' (iter 2/2) \n",
      "INFO  [23:29:39.289] [mlr3]  Finished benchmark \n",
      "INFO  [23:29:39.631] [mlr3]  Benchmark with 2 resampling iterations \n",
      "INFO  [23:29:39.642] [mlr3]  Applying learner 'encode.oversample.classif.rpart' on task 'Task' (iter 2/2) \n",
      "INFO  [23:29:42.713] [mlr3]  Applying learner 'encode.oversample.classif.rpart' on task 'Task' (iter 1/2) \n",
      "INFO  [23:29:45.612] [mlr3]  Finished benchmark \n",
      "INFO  [23:29:46.555] [mlr3]  Benchmark with 2 resampling iterations \n",
      "INFO  [23:29:46.563] [mlr3]  Applying learner 'encode.oversample.classif.rpart' on task 'Task' (iter 1/2) \n",
      "INFO  [23:30:02.557] [mlr3]  Applying learner 'encode.oversample.classif.rpart' on task 'Task' (iter 2/2) \n",
      "INFO  [23:30:17.817] [mlr3]  Finished benchmark \n",
      "INFO  [23:30:18.258] [mlr3]  Benchmark with 2 resampling iterations \n",
      "INFO  [23:30:18.267] [mlr3]  Applying learner 'encode.oversample.classif.rpart' on task 'Task' (iter 2/2) \n",
      "INFO  [23:30:32.876] [mlr3]  Applying learner 'encode.oversample.classif.rpart' on task 'Task' (iter 1/2) \n",
      "INFO  [23:30:48.220] [mlr3]  Finished benchmark \n",
      "INFO  [23:30:48.653] [mlr3]  Benchmark with 2 resampling iterations \n",
      "INFO  [23:30:48.661] [mlr3]  Applying learner 'encode.oversample.classif.rpart' on task 'Task' (iter 1/2) \n",
      "INFO  [23:30:50.136] [mlr3]  Applying learner 'encode.oversample.classif.rpart' on task 'Task' (iter 2/2) \n",
      "INFO  [23:30:51.656] [mlr3]  Finished benchmark \n",
      "INFO  [23:30:51.965] [mlr3]  Benchmark with 2 resampling iterations \n",
      "INFO  [23:30:51.975] [mlr3]  Applying learner 'encode.oversample.classif.rpart' on task 'Task' (iter 1/2) \n",
      "INFO  [23:30:53.523] [mlr3]  Applying learner 'encode.oversample.classif.rpart' on task 'Task' (iter 2/2) \n",
      "INFO  [23:30:55.071] [mlr3]  Finished benchmark \n",
      "INFO  [23:30:55.393] [mlr3]  Benchmark with 2 resampling iterations \n",
      "INFO  [23:30:55.402] [mlr3]  Applying learner 'encode.oversample.classif.rpart' on task 'Task' (iter 1/2) \n",
      "INFO  [23:30:58.452] [mlr3]  Applying learner 'encode.oversample.classif.rpart' on task 'Task' (iter 2/2) \n",
      "INFO  [23:31:01.600] [mlr3]  Finished benchmark \n",
      "INFO  [23:31:02.476] [mlr3]  Benchmark with 2 resampling iterations \n",
      "INFO  [23:31:02.485] [mlr3]  Applying learner 'encode.oversample.classif.rpart' on task 'Task' (iter 2/2) \n",
      "INFO  [23:31:05.599] [mlr3]  Applying learner 'encode.oversample.classif.rpart' on task 'Task' (iter 1/2) \n",
      "INFO  [23:31:08.589] [mlr3]  Finished benchmark \n",
      "INFO  [23:31:09.527] [mlr3]  Benchmark with 2 resampling iterations \n",
      "INFO  [23:31:09.540] [mlr3]  Applying learner 'encode.oversample.classif.rpart' on task 'Task' (iter 1/2) \n",
      "INFO  [23:31:11.152] [mlr3]  Applying learner 'encode.oversample.classif.rpart' on task 'Task' (iter 2/2) \n",
      "INFO  [23:31:12.830] [mlr3]  Finished benchmark \n",
      "INFO  [23:31:13.183] [mlr3]  Benchmark with 2 resampling iterations \n",
      "INFO  [23:31:13.192] [mlr3]  Applying learner 'encode.oversample.classif.rpart' on task 'Task' (iter 2/2) \n",
      "INFO  [23:31:14.648] [mlr3]  Applying learner 'encode.oversample.classif.rpart' on task 'Task' (iter 1/2) \n",
      "INFO  [23:31:16.164] [mlr3]  Finished benchmark \n",
      "INFO  [23:31:16.509] [mlr3]  Benchmark with 2 resampling iterations \n",
      "INFO  [23:31:16.518] [mlr3]  Applying learner 'encode.oversample.classif.rpart' on task 'Task' (iter 2/2) \n",
      "INFO  [23:31:18.076] [mlr3]  Applying learner 'encode.oversample.classif.rpart' on task 'Task' (iter 1/2) \n",
      "INFO  [23:31:19.655] [mlr3]  Finished benchmark \n",
      "INFO  [23:31:25.484] [mlr3]  Applying learner 'encode.oversample.classif.rpart' on task 'Task' (iter 2/5) \n",
      "INFO  [23:31:39.774] [mlr3]  Applying learner 'encode.oversample.classif.keras' on task 'Task' (iter 1/5) \n",
      "INFO  [23:41:25.993] [mlr3]  Applying learner 'encode.oversample.classif.rpart.tuned' on task 'Task' (iter 5/5) \n",
      "INFO  [23:41:26.514] [mlr3]  Benchmark with 2 resampling iterations \n",
      "INFO  [23:41:26.524] [mlr3]  Applying learner 'encode.oversample.classif.rpart' on task 'Task' (iter 1/2) \n",
      "INFO  [23:41:28.076] [mlr3]  Applying learner 'encode.oversample.classif.rpart' on task 'Task' (iter 2/2) \n",
      "INFO  [23:41:29.556] [mlr3]  Finished benchmark \n",
      "INFO  [23:41:29.860] [mlr3]  Benchmark with 2 resampling iterations \n",
      "INFO  [23:41:29.871] [mlr3]  Applying learner 'encode.oversample.classif.rpart' on task 'Task' (iter 2/2) \n",
      "INFO  [23:41:31.308] [mlr3]  Applying learner 'encode.oversample.classif.rpart' on task 'Task' (iter 1/2) \n",
      "INFO  [23:41:32.798] [mlr3]  Finished benchmark \n",
      "INFO  [23:41:33.119] [mlr3]  Benchmark with 2 resampling iterations \n",
      "INFO  [23:41:33.128] [mlr3]  Applying learner 'encode.oversample.classif.rpart' on task 'Task' (iter 1/2) \n",
      "INFO  [23:41:34.590] [mlr3]  Applying learner 'encode.oversample.classif.rpart' on task 'Task' (iter 2/2) \n",
      "INFO  [23:41:36.070] [mlr3]  Finished benchmark \n",
      "INFO  [23:41:36.380] [mlr3]  Benchmark with 2 resampling iterations \n",
      "INFO  [23:41:36.390] [mlr3]  Applying learner 'encode.oversample.classif.rpart' on task 'Task' (iter 2/2) \n",
      "INFO  [23:41:37.931] [mlr3]  Applying learner 'encode.oversample.classif.rpart' on task 'Task' (iter 1/2) \n",
      "INFO  [23:41:39.432] [mlr3]  Finished benchmark \n",
      "INFO  [23:41:39.734] [mlr3]  Benchmark with 2 resampling iterations \n",
      "INFO  [23:41:39.742] [mlr3]  Applying learner 'encode.oversample.classif.rpart' on task 'Task' (iter 2/2) \n",
      "INFO  [23:41:41.258] [mlr3]  Applying learner 'encode.oversample.classif.rpart' on task 'Task' (iter 1/2) \n",
      "INFO  [23:41:42.821] [mlr3]  Finished benchmark \n",
      "INFO  [23:41:43.142] [mlr3]  Benchmark with 2 resampling iterations \n",
      "INFO  [23:41:43.151] [mlr3]  Applying learner 'encode.oversample.classif.rpart' on task 'Task' (iter 2/2) \n",
      "INFO  [23:41:44.688] [mlr3]  Applying learner 'encode.oversample.classif.rpart' on task 'Task' (iter 1/2) \n",
      "INFO  [23:41:46.247] [mlr3]  Finished benchmark \n",
      "INFO  [23:41:46.549] [mlr3]  Benchmark with 2 resampling iterations \n",
      "INFO  [23:41:46.575] [mlr3]  Applying learner 'encode.oversample.classif.rpart' on task 'Task' (iter 1/2) \n",
      "INFO  [23:41:54.057] [mlr3]  Applying learner 'encode.oversample.classif.rpart' on task 'Task' (iter 2/2) \n",
      "INFO  [23:42:01.728] [mlr3]  Finished benchmark \n",
      "INFO  [23:42:02.307] [mlr3]  Benchmark with 2 resampling iterations \n",
      "INFO  [23:42:02.316] [mlr3]  Applying learner 'encode.oversample.classif.rpart' on task 'Task' (iter 1/2) \n",
      "INFO  [23:42:19.842] [mlr3]  Applying learner 'encode.oversample.classif.rpart' on task 'Task' (iter 2/2) \n",
      "INFO  [23:42:37.793] [mlr3]  Finished benchmark \n",
      "INFO  [23:42:38.232] [mlr3]  Benchmark with 2 resampling iterations \n",
      "INFO  [23:42:38.241] [mlr3]  Applying learner 'encode.oversample.classif.rpart' on task 'Task' (iter 1/2) \n",
      "INFO  [23:42:48.070] [mlr3]  Applying learner 'encode.oversample.classif.rpart' on task 'Task' (iter 2/2) \n",
      "INFO  [23:42:58.204] [mlr3]  Finished benchmark \n",
      "INFO  [23:42:58.717] [mlr3]  Benchmark with 2 resampling iterations \n",
      "INFO  [23:42:58.725] [mlr3]  Applying learner 'encode.oversample.classif.rpart' on task 'Task' (iter 2/2) \n",
      "INFO  [23:43:00.236] [mlr3]  Applying learner 'encode.oversample.classif.rpart' on task 'Task' (iter 1/2) \n",
      "INFO  [23:43:01.786] [mlr3]  Finished benchmark \n",
      "INFO  [23:43:02.105] [mlr3]  Benchmark with 2 resampling iterations \n",
      "INFO  [23:43:02.116] [mlr3]  Applying learner 'encode.oversample.classif.rpart' on task 'Task' (iter 1/2) \n",
      "INFO  [23:43:04.012] [mlr3]  Applying learner 'encode.oversample.classif.rpart' on task 'Task' (iter 2/2) \n",
      "INFO  [23:43:05.560] [mlr3]  Finished benchmark \n",
      "INFO  [23:43:05.855] [mlr3]  Benchmark with 2 resampling iterations \n",
      "INFO  [23:43:05.865] [mlr3]  Applying learner 'encode.oversample.classif.rpart' on task 'Task' (iter 2/2) \n",
      "INFO  [23:43:21.464] [mlr3]  Applying learner 'encode.oversample.classif.rpart' on task 'Task' (iter 1/2) \n",
      "INFO  [23:43:37.014] [mlr3]  Finished benchmark \n",
      "INFO  [23:43:37.468] [mlr3]  Benchmark with 2 resampling iterations \n",
      "INFO  [23:43:37.477] [mlr3]  Applying learner 'encode.oversample.classif.rpart' on task 'Task' (iter 2/2) \n",
      "INFO  [23:43:39.005] [mlr3]  Applying learner 'encode.oversample.classif.rpart' on task 'Task' (iter 1/2) \n",
      "INFO  [23:43:40.568] [mlr3]  Finished benchmark \n",
      "INFO  [23:43:40.858] [mlr3]  Benchmark with 2 resampling iterations \n",
      "INFO  [23:43:40.867] [mlr3]  Applying learner 'encode.oversample.classif.rpart' on task 'Task' (iter 1/2) \n",
      "INFO  [23:43:42.325] [mlr3]  Applying learner 'encode.oversample.classif.rpart' on task 'Task' (iter 2/2) \n",
      "INFO  [23:43:43.809] [mlr3]  Finished benchmark \n",
      "INFO  [23:43:44.104] [mlr3]  Benchmark with 2 resampling iterations \n",
      "INFO  [23:43:44.112] [mlr3]  Applying learner 'encode.oversample.classif.rpart' on task 'Task' (iter 2/2) \n",
      "INFO  [23:43:45.677] [mlr3]  Applying learner 'encode.oversample.classif.rpart' on task 'Task' (iter 1/2) \n",
      "INFO  [23:43:47.245] [mlr3]  Finished benchmark \n",
      "INFO  [23:43:47.539] [mlr3]  Benchmark with 2 resampling iterations \n",
      "INFO  [23:43:47.550] [mlr3]  Applying learner 'encode.oversample.classif.rpart' on task 'Task' (iter 2/2) \n",
      "INFO  [23:43:48.970] [mlr3]  Applying learner 'encode.oversample.classif.rpart' on task 'Task' (iter 1/2) \n",
      "INFO  [23:43:50.432] [mlr3]  Finished benchmark \n",
      "INFO  [23:43:51.059] [mlr3]  Benchmark with 2 resampling iterations \n",
      "INFO  [23:43:51.068] [mlr3]  Applying learner 'encode.oversample.classif.rpart' on task 'Task' (iter 1/2) \n",
      "INFO  [23:43:52.550] [mlr3]  Applying learner 'encode.oversample.classif.rpart' on task 'Task' (iter 2/2) \n",
      "INFO  [23:43:54.028] [mlr3]  Finished benchmark \n",
      "INFO  [23:43:54.359] [mlr3]  Benchmark with 2 resampling iterations \n",
      "INFO  [23:43:54.367] [mlr3]  Applying learner 'encode.oversample.classif.rpart' on task 'Task' (iter 2/2) \n",
      "INFO  [23:43:55.882] [mlr3]  Applying learner 'encode.oversample.classif.rpart' on task 'Task' (iter 1/2) \n",
      "INFO  [23:43:57.398] [mlr3]  Finished benchmark \n",
      "INFO  [23:43:57.720] [mlr3]  Benchmark with 2 resampling iterations \n",
      "INFO  [23:43:57.729] [mlr3]  Applying learner 'encode.oversample.classif.rpart' on task 'Task' (iter 2/2) \n",
      "INFO  [23:44:13.646] [mlr3]  Applying learner 'encode.oversample.classif.rpart' on task 'Task' (iter 1/2) \n",
      "INFO  [23:44:29.483] [mlr3]  Finished benchmark \n",
      "INFO  [23:44:29.910] [mlr3]  Benchmark with 2 resampling iterations \n",
      "INFO  [23:44:29.920] [mlr3]  Applying learner 'encode.oversample.classif.rpart' on task 'Task' (iter 2/2) \n",
      "INFO  [23:44:35.498] [mlr3]  Applying learner 'encode.oversample.classif.rpart' on task 'Task' (iter 1/2) \n",
      "INFO  [23:44:41.045] [mlr3]  Finished benchmark \n",
      "INFO  [23:44:41.644] [mlr3]  Benchmark with 2 resampling iterations \n",
      "INFO  [23:44:41.655] [mlr3]  Applying learner 'encode.oversample.classif.rpart' on task 'Task' (iter 2/2) \n",
      "INFO  [23:44:57.040] [mlr3]  Applying learner 'encode.oversample.classif.rpart' on task 'Task' (iter 1/2) \n",
      "INFO  [23:45:13.366] [mlr3]  Finished benchmark \n",
      "INFO  [23:45:13.806] [mlr3]  Benchmark with 2 resampling iterations \n",
      "INFO  [23:45:13.815] [mlr3]  Applying learner 'encode.oversample.classif.rpart' on task 'Task' (iter 2/2) \n",
      "INFO  [23:45:15.729] [mlr3]  Applying learner 'encode.oversample.classif.rpart' on task 'Task' (iter 1/2) \n",
      "INFO  [23:45:17.581] [mlr3]  Finished benchmark \n",
      "INFO  [23:45:18.262] [mlr3]  Benchmark with 2 resampling iterations \n",
      "INFO  [23:45:18.271] [mlr3]  Applying learner 'encode.oversample.classif.rpart' on task 'Task' (iter 1/2) \n",
      "INFO  [23:45:38.748] [mlr3]  Applying learner 'encode.oversample.classif.rpart' on task 'Task' (iter 2/2) \n",
      "INFO  [23:45:58.884] [mlr3]  Finished benchmark \n",
      "INFO  [23:45:59.333] [mlr3]  Benchmark with 2 resampling iterations \n",
      "INFO  [23:45:59.341] [mlr3]  Applying learner 'encode.oversample.classif.rpart' on task 'Task' (iter 2/2) \n",
      "INFO  [23:46:00.874] [mlr3]  Applying learner 'encode.oversample.classif.rpart' on task 'Task' (iter 1/2) \n",
      "INFO  [23:46:02.443] [mlr3]  Finished benchmark \n",
      "INFO  [23:46:02.784] [mlr3]  Benchmark with 2 resampling iterations \n",
      "INFO  [23:46:02.793] [mlr3]  Applying learner 'encode.oversample.classif.rpart' on task 'Task' (iter 1/2) \n",
      "INFO  [23:46:04.270] [mlr3]  Applying learner 'encode.oversample.classif.rpart' on task 'Task' (iter 2/2) \n",
      "INFO  [23:46:05.786] [mlr3]  Finished benchmark \n",
      "INFO  [23:46:06.121] [mlr3]  Benchmark with 2 resampling iterations \n",
      "INFO  [23:46:06.132] [mlr3]  Applying learner 'encode.oversample.classif.rpart' on task 'Task' (iter 1/2) \n",
      "INFO  [23:46:28.130] [mlr3]  Applying learner 'encode.oversample.classif.rpart' on task 'Task' (iter 2/2) \n",
      "INFO  [23:46:50.117] [mlr3]  Finished benchmark \n",
      "INFO  [23:46:50.517] [mlr3]  Benchmark with 2 resampling iterations \n",
      "INFO  [23:46:50.525] [mlr3]  Applying learner 'encode.oversample.classif.rpart' on task 'Task' (iter 1/2) \n",
      "INFO  [23:46:52.054] [mlr3]  Applying learner 'encode.oversample.classif.rpart' on task 'Task' (iter 2/2) \n",
      "INFO  [23:46:53.652] [mlr3]  Finished benchmark \n",
      "INFO  [23:46:53.967] [mlr3]  Benchmark with 2 resampling iterations \n",
      "INFO  [23:46:53.975] [mlr3]  Applying learner 'encode.oversample.classif.rpart' on task 'Task' (iter 2/2) \n",
      "INFO  [23:46:55.486] [mlr3]  Applying learner 'encode.oversample.classif.rpart' on task 'Task' (iter 1/2) \n",
      "INFO  [23:46:56.993] [mlr3]  Finished benchmark \n",
      "INFO  [23:46:57.308] [mlr3]  Benchmark with 2 resampling iterations \n",
      "INFO  [23:46:57.316] [mlr3]  Applying learner 'encode.oversample.classif.rpart' on task 'Task' (iter 2/2) \n",
      "INFO  [23:47:05.536] [mlr3]  Applying learner 'encode.oversample.classif.rpart' on task 'Task' (iter 1/2) \n",
      "INFO  [23:47:13.633] [mlr3]  Finished benchmark \n",
      "INFO  [23:47:14.235] [mlr3]  Benchmark with 2 resampling iterations \n",
      "INFO  [23:47:14.244] [mlr3]  Applying learner 'encode.oversample.classif.rpart' on task 'Task' (iter 1/2) \n",
      "INFO  [23:47:30.960] [mlr3]  Applying learner 'encode.oversample.classif.rpart' on task 'Task' (iter 2/2) \n",
      "INFO  [23:47:47.580] [mlr3]  Finished benchmark \n",
      "INFO  [23:47:48.038] [mlr3]  Benchmark with 2 resampling iterations \n",
      "INFO  [23:47:48.048] [mlr3]  Applying learner 'encode.oversample.classif.rpart' on task 'Task' (iter 2/2) \n",
      "INFO  [23:48:04.965] [mlr3]  Applying learner 'encode.oversample.classif.rpart' on task 'Task' (iter 1/2) \n",
      "INFO  [23:48:21.421] [mlr3]  Finished benchmark \n",
      "INFO  [23:48:21.862] [mlr3]  Benchmark with 2 resampling iterations \n",
      "INFO  [23:48:21.871] [mlr3]  Applying learner 'encode.oversample.classif.rpart' on task 'Task' (iter 2/2) \n",
      "INFO  [23:48:23.810] [mlr3]  Applying learner 'encode.oversample.classif.rpart' on task 'Task' (iter 1/2) \n",
      "INFO  [23:48:25.702] [mlr3]  Finished benchmark \n",
      "INFO  [23:48:26.436] [mlr3]  Benchmark with 2 resampling iterations \n",
      "INFO  [23:48:26.465] [mlr3]  Applying learner 'encode.oversample.classif.rpart' on task 'Task' (iter 1/2) \n",
      "INFO  [23:48:34.978] [mlr3]  Applying learner 'encode.oversample.classif.rpart' on task 'Task' (iter 2/2) \n",
      "INFO  [23:48:43.489] [mlr3]  Finished benchmark \n",
      "INFO  [23:48:44.034] [mlr3]  Benchmark with 2 resampling iterations \n",
      "INFO  [23:48:44.046] [mlr3]  Applying learner 'encode.oversample.classif.rpart' on task 'Task' (iter 2/2) \n",
      "INFO  [23:48:45.587] [mlr3]  Applying learner 'encode.oversample.classif.rpart' on task 'Task' (iter 1/2) \n",
      "INFO  [23:48:47.207] [mlr3]  Finished benchmark \n",
      "INFO  [23:48:47.538] [mlr3]  Benchmark with 2 resampling iterations \n",
      "INFO  [23:48:47.547] [mlr3]  Applying learner 'encode.oversample.classif.rpart' on task 'Task' (iter 1/2) \n",
      "INFO  [23:48:49.179] [mlr3]  Applying learner 'encode.oversample.classif.rpart' on task 'Task' (iter 2/2) \n",
      "INFO  [23:48:50.816] [mlr3]  Finished benchmark \n",
      "INFO  [23:48:51.162] [mlr3]  Benchmark with 2 resampling iterations \n",
      "INFO  [23:48:51.172] [mlr3]  Applying learner 'encode.oversample.classif.rpart' on task 'Task' (iter 2/2) \n",
      "INFO  [23:48:54.066] [mlr3]  Applying learner 'encode.oversample.classif.rpart' on task 'Task' (iter 1/2) \n",
      "INFO  [23:48:57.275] [mlr3]  Finished benchmark \n",
      "INFO  [23:49:03.526] [mlr3]  Applying learner 'encode.oversample.classif.rpart' on task 'Task' (iter 5/5) \n",
      "INFO  [23:49:17.510] [mlr3]  Applying learner 'encode.oversample.classif.rpart' on task 'Task' (iter 3/5) \n",
      "INFO  [23:49:29.892] [mlr3]  Finished benchmark \n"
     ]
    },
    {
     "data": {
      "text/html": [
       "<table>\n",
       "<caption>A data.table: 3 × 10</caption>\n",
       "<thead>\n",
       "\t<tr><th scope=col>nr</th><th scope=col>resample_result</th><th scope=col>task_id</th><th scope=col>learner_id</th><th scope=col>resampling_id</th><th scope=col>iters</th><th scope=col>classif.ce</th><th scope=col>time_train</th><th scope=col>classif.precision</th><th scope=col>classif.recall</th></tr>\n",
       "\t<tr><th scope=col>&lt;int&gt;</th><th scope=col>&lt;list&gt;</th><th scope=col>&lt;chr&gt;</th><th scope=col>&lt;chr&gt;</th><th scope=col>&lt;chr&gt;</th><th scope=col>&lt;int&gt;</th><th scope=col>&lt;dbl&gt;</th><th scope=col>&lt;dbl&gt;</th><th scope=col>&lt;dbl&gt;</th><th scope=col>&lt;dbl&gt;</th></tr>\n",
       "</thead>\n",
       "<tbody>\n",
       "\t<tr><td>1</td><td>&lt;environment: 0xd17d120&gt;</td><td>Task</td><td>encode.oversample.classif.rpart.tuned</td><td>cv</td><td>5</td><td>0.4636477</td><td>0</td><td>0.7921058</td><td>0.5526510</td></tr>\n",
       "\t<tr><td>2</td><td>&lt;environment: 0xd163848&gt;</td><td>Task</td><td><span style=white-space:pre-wrap>encode.oversample.classif.rpart      </span></td><td>cv</td><td>5</td><td>0.3031486</td><td>0</td><td>0.7847245</td><td>0.8418293</td></tr>\n",
       "\t<tr><td>3</td><td>&lt;environment: 0xd11a190&gt;</td><td>Task</td><td><span style=white-space:pre-wrap>encode.oversample.classif.keras      </span></td><td>cv</td><td>5</td><td>0.2209718</td><td>0</td><td>0.7795528</td><td>0.9988177</td></tr>\n",
       "</tbody>\n",
       "</table>\n"
      ],
      "text/latex": [
       "A data.table: 3 × 10\n",
       "\\begin{tabular}{llllllllll}\n",
       " nr & resample\\_result & task\\_id & learner\\_id & resampling\\_id & iters & classif.ce & time\\_train & classif.precision & classif.recall\\\\\n",
       " <int> & <list> & <chr> & <chr> & <chr> & <int> & <dbl> & <dbl> & <dbl> & <dbl>\\\\\n",
       "\\hline\n",
       "\t 1 & <environment: 0xd17d120> & Task & encode.oversample.classif.rpart.tuned & cv & 5 & 0.4636477 & 0 & 0.7921058 & 0.5526510\\\\\n",
       "\t 2 & <environment: 0xd163848> & Task & encode.oversample.classif.rpart       & cv & 5 & 0.3031486 & 0 & 0.7847245 & 0.8418293\\\\\n",
       "\t 3 & <environment: 0xd11a190> & Task & encode.oversample.classif.keras       & cv & 5 & 0.2209718 & 0 & 0.7795528 & 0.9988177\\\\\n",
       "\\end{tabular}\n"
      ],
      "text/markdown": [
       "\n",
       "A data.table: 3 × 10\n",
       "\n",
       "| nr &lt;int&gt; | resample_result &lt;list&gt; | task_id &lt;chr&gt; | learner_id &lt;chr&gt; | resampling_id &lt;chr&gt; | iters &lt;int&gt; | classif.ce &lt;dbl&gt; | time_train &lt;dbl&gt; | classif.precision &lt;dbl&gt; | classif.recall &lt;dbl&gt; |\n",
       "|---|---|---|---|---|---|---|---|---|---|\n",
       "| 1 | &lt;environment: 0xd17d120&gt; | Task | encode.oversample.classif.rpart.tuned | cv | 5 | 0.4636477 | 0 | 0.7921058 | 0.5526510 |\n",
       "| 2 | &lt;environment: 0xd163848&gt; | Task | encode.oversample.classif.rpart       | cv | 5 | 0.3031486 | 0 | 0.7847245 | 0.8418293 |\n",
       "| 3 | &lt;environment: 0xd11a190&gt; | Task | encode.oversample.classif.keras       | cv | 5 | 0.2209718 | 0 | 0.7795528 | 0.9988177 |\n",
       "\n"
      ],
      "text/plain": [
       "  nr resample_result          task_id learner_id                           \n",
       "1 1  <environment: 0xd17d120> Task    encode.oversample.classif.rpart.tuned\n",
       "2 2  <environment: 0xd163848> Task    encode.oversample.classif.rpart      \n",
       "3 3  <environment: 0xd11a190> Task    encode.oversample.classif.keras      \n",
       "  resampling_id iters classif.ce time_train classif.precision classif.recall\n",
       "1 cv            5     0.4636477  0          0.7921058         0.5526510     \n",
       "2 cv            5     0.3031486  0          0.7847245         0.8418293     \n",
       "3 cv            5     0.2209718  0          0.7795528         0.9988177     "
      ]
     },
     "metadata": {},
     "output_type": "display_data"
    }
   ],
   "source": [
    "grid = benchmark_grid(\n",
    "  task = task,\n",
    "  learner = list(at, learner_rpart,learner_keras_nn),\n",
    "  resampling = rsmp(\"cv\", folds = 5)\n",
    ")\n",
    "\n",
    "# avoid console output from mlr3tuning\n",
    "logger = lgr::get_logger(\"bbotk\")\n",
    "logger$set_threshold(\"warn\")\n",
    "\n",
    "bmr = benchmark(grid)\n",
    "bmr$aggregate(msrs(c(\"classif.ce\", \"time_train\",\"classif.precision\",\"classif.recall\")))"
   ]
  },
  {
   "cell_type": "code",
   "execution_count": 41,
   "metadata": {},
   "outputs": [
    {
     "data": {
      "text/html": [
       "<table>\n",
       "<caption>A data.table: 3 × 9</caption>\n",
       "<thead>\n",
       "\t<tr><th scope=col>nr</th><th scope=col>resample_result</th><th scope=col>task_id</th><th scope=col>learner_id</th><th scope=col>resampling_id</th><th scope=col>iters</th><th scope=col>classif.acc</th><th scope=col>classif.precision</th><th scope=col>classif.recall</th></tr>\n",
       "\t<tr><th scope=col>&lt;int&gt;</th><th scope=col>&lt;list&gt;</th><th scope=col>&lt;chr&gt;</th><th scope=col>&lt;chr&gt;</th><th scope=col>&lt;chr&gt;</th><th scope=col>&lt;int&gt;</th><th scope=col>&lt;dbl&gt;</th><th scope=col>&lt;dbl&gt;</th><th scope=col>&lt;dbl&gt;</th></tr>\n",
       "</thead>\n",
       "<tbody>\n",
       "\t<tr><td>1</td><td>&lt;environment: 0x8e8ba9d0&gt;</td><td>Task</td><td>encode.oversample.classif.rpart.tuned</td><td>cv</td><td>5</td><td>0.5363523</td><td>0.7921058</td><td>0.5526510</td></tr>\n",
       "\t<tr><td>2</td><td>&lt;environment: 0x8d5d2c88&gt;</td><td>Task</td><td><span style=white-space:pre-wrap>encode.oversample.classif.rpart      </span></td><td>cv</td><td>5</td><td>0.6968514</td><td>0.7847245</td><td>0.8418293</td></tr>\n",
       "\t<tr><td>3</td><td>&lt;environment: 0x40fdff90&gt;</td><td>Task</td><td><span style=white-space:pre-wrap>encode.oversample.classif.keras      </span></td><td>cv</td><td>5</td><td>0.7790282</td><td>0.7795528</td><td>0.9988177</td></tr>\n",
       "</tbody>\n",
       "</table>\n"
      ],
      "text/latex": [
       "A data.table: 3 × 9\n",
       "\\begin{tabular}{lllllllll}\n",
       " nr & resample\\_result & task\\_id & learner\\_id & resampling\\_id & iters & classif.acc & classif.precision & classif.recall\\\\\n",
       " <int> & <list> & <chr> & <chr> & <chr> & <int> & <dbl> & <dbl> & <dbl>\\\\\n",
       "\\hline\n",
       "\t 1 & <environment: 0x8e8ba9d0> & Task & encode.oversample.classif.rpart.tuned & cv & 5 & 0.5363523 & 0.7921058 & 0.5526510\\\\\n",
       "\t 2 & <environment: 0x8d5d2c88> & Task & encode.oversample.classif.rpart       & cv & 5 & 0.6968514 & 0.7847245 & 0.8418293\\\\\n",
       "\t 3 & <environment: 0x40fdff90> & Task & encode.oversample.classif.keras       & cv & 5 & 0.7790282 & 0.7795528 & 0.9988177\\\\\n",
       "\\end{tabular}\n"
      ],
      "text/markdown": [
       "\n",
       "A data.table: 3 × 9\n",
       "\n",
       "| nr &lt;int&gt; | resample_result &lt;list&gt; | task_id &lt;chr&gt; | learner_id &lt;chr&gt; | resampling_id &lt;chr&gt; | iters &lt;int&gt; | classif.acc &lt;dbl&gt; | classif.precision &lt;dbl&gt; | classif.recall &lt;dbl&gt; |\n",
       "|---|---|---|---|---|---|---|---|---|\n",
       "| 1 | &lt;environment: 0x8e8ba9d0&gt; | Task | encode.oversample.classif.rpart.tuned | cv | 5 | 0.5363523 | 0.7921058 | 0.5526510 |\n",
       "| 2 | &lt;environment: 0x8d5d2c88&gt; | Task | encode.oversample.classif.rpart       | cv | 5 | 0.6968514 | 0.7847245 | 0.8418293 |\n",
       "| 3 | &lt;environment: 0x40fdff90&gt; | Task | encode.oversample.classif.keras       | cv | 5 | 0.7790282 | 0.7795528 | 0.9988177 |\n",
       "\n"
      ],
      "text/plain": [
       "  nr resample_result           task_id learner_id                           \n",
       "1 1  <environment: 0x8e8ba9d0> Task    encode.oversample.classif.rpart.tuned\n",
       "2 2  <environment: 0x8d5d2c88> Task    encode.oversample.classif.rpart      \n",
       "3 3  <environment: 0x40fdff90> Task    encode.oversample.classif.keras      \n",
       "  resampling_id iters classif.acc classif.precision classif.recall\n",
       "1 cv            5     0.5363523   0.7921058         0.5526510     \n",
       "2 cv            5     0.6968514   0.7847245         0.8418293     \n",
       "3 cv            5     0.7790282   0.7795528         0.9988177     "
      ]
     },
     "metadata": {},
     "output_type": "display_data"
    }
   ],
   "source": [
    "measures <- list(msr(\"classif.acc\"), msr(\"classif.precision\"), msr(\"classif.recall\"))\n",
    "performances = bmr$aggregate(measures)\n",
    "performances"
   ]
  },
  {
   "cell_type": "code",
   "execution_count": 42,
   "metadata": {},
   "outputs": [],
   "source": [
    "rr = bmr$aggregate()[learner_id == \"encode.oversample.classif.rpart.tuned\", resample_result][[1]]"
   ]
  },
  {
   "cell_type": "code",
   "execution_count": 43,
   "metadata": {},
   "outputs": [
    {
     "data": {
      "text/plain": [
       "        truth\n",
       "response     0     1\n",
       "       0 18196  4620\n",
       "       1 23123  7037"
      ]
     },
     "metadata": {},
     "output_type": "display_data"
    }
   ],
   "source": [
    "rr$predictions()[[1]]$confusion"
   ]
  },
  {
   "cell_type": "markdown",
   "metadata": {},
   "source": [
    "We can notice that our accuracy has increased with tunned parameters. The model will be then used in part 5 to predict gender with unseen data, i.e X_test"
   ]
  },
  {
   "cell_type": "code",
   "execution_count": 44,
   "metadata": {},
   "outputs": [],
   "source": [
    "rr_keras=bmr$aggregate()[learner_id == \"encode.oversample.classif.keras\", resample_result][[1]]"
   ]
  },
  {
   "cell_type": "code",
   "execution_count": 45,
   "metadata": {},
   "outputs": [
    {
     "data": {
      "text/plain": [
       "        truth\n",
       "response     0     1\n",
       "       0 41275 11580\n",
       "       1    44    77"
      ]
     },
     "metadata": {},
     "output_type": "display_data"
    }
   ],
   "source": [
    "rr_keras$predictions()[[1]]$confusion"
   ]
  },
  {
   "cell_type": "code",
   "execution_count": 46,
   "metadata": {},
   "outputs": [
    {
     "data": {
      "text/plain": [
       "        truth\n",
       "response     0     1\n",
       "       0 41188 11685\n",
       "       1    13    90"
      ]
     },
     "metadata": {},
     "output_type": "display_data"
    }
   ],
   "source": [
    "# predict data for keras_learner without resamplin\n",
    "learner_keras_nn$train(task)\n",
    "prediction_keras <- learner_keras_nn$predict(task, row_ids = test_set)\n",
    "\n",
    "# calculate performance\n",
    "prediction_keras$confusion"
   ]
  }
 ],
 "metadata": {
  "kernelspec": {
   "display_name": "R",
   "language": "R",
   "name": "ir"
  },
  "language_info": {
   "codemirror_mode": "r",
   "file_extension": ".r",
   "mimetype": "text/x-r-source",
   "name": "R",
   "pygments_lexer": "r",
   "version": "3.6.3"
  }
 },
 "nbformat": 4,
 "nbformat_minor": 4
}
