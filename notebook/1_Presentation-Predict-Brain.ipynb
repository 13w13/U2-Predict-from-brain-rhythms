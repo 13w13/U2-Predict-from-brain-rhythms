{
 "cells": [
  {
   "cell_type": "markdown",
   "metadata": {},
   "source": [
    "# Predict sex from brain rhythms \n",
    "## 1. Introduction\n",
    "### 1.0 Presentation of the project\n"
   ]
  },
  {
   "cell_type": "markdown",
   "metadata": {},
   "source": [
    "This group project responds to **professor Serge Nyawa instructions** written below :\n",
    "\n",
    "Your topic should be related to Big Data Analytics with a Business/economics/finance interest and should contain :\n",
    "-         Discovery: learn the business domain, assess the resources available to support the project, frame the business problem as an analytics challenge, formulate initial hypotheses to test.\n",
    "-         Data preparation: explain how you did the extract, load, and transform (ELT) or extract, transform and load (ETL) steps, to get your data.\n",
    "-         Model planning: explain and justify the choice of your methods, techniques. Describe how you learn about the relationships between variables, how you did the selection of key variables and the most suitable models.\n",
    "-         Model building / estimation: explain your estimation strategy and results.\n",
    "-         Communicate results: determine if the results of the project are a success or a failure, identify key findings, quantify the business value, and develop a narrative to convey findings to stakeholders.\n",
    "\n",
    "\n",
    "\n",
    "This is a notebook for the Dream Company https://github.com/13w13/U2-Predict-from-brain-rhythms/blob/main/U2-Predict-from-brain-rhythms.Rmd \n",
    "Data Challenge January 2020 with College de France https://www.college-de-france.fr/site/stephane-mallat/Challenge-2019-2020-Prediction-du-sexe-en-fonction-du-rythme-cerebral.htm and ENS https://challengedata.ens.fr/challenges/27\n",
    "\n",
    "\n",
    "**The goal of this playground challenge** is to predict *sex from brain rhythms*. The Dreem headband collects physiological activity during sleep, such as brain activity (electroencephalograph), respiration and heart rate. \n",
    "\n",
    "\n",
    "\n",
    "\n",
    "The challenge we’ve chosen is a challenge proposed by a Paris neurotechnology startup called Dream.It is indeed a question of measuring brain activity, thanks to sensors placed on the skull of a person and measuring the electrical activity of neurons around these captures. Dream company choose this project because: “We have excellent skills to extract sex from visual assessment of human faces, but assessing sex from human brain rhythms seems impossible.” \n",
    "\n",
    "When a person is asleep, and depending on his state of sleep, we will observe different patterns that will allow us to better characterize what happens in the brain during the night.\n",
    "\n",
    "“For several decades, traditional machine learning techniques have been frequently applied to brain imaging data, including electroencephalography (EEG), with applications ranging from characterization of the EEG background pattern or quantification of focal or global ischaemia to detection of epileptiform discharges and diagnostics in depression. Common to most of these techniques is the requirement for prior assumptions to guide extraction of particular features to be used for classification. Examples include spectral features or correlations between EEG signals from different brain regions. A limitation of these approaches is that unknown and potentially relevant features may not be included. Deep nets do not need prior extraction of such hand-made features, can learn from raw data, and have potential to detect subtle differences in otherwise similar patterns.” https://www.nature.com/articles/s41598-018-21495-7\n",
    "\n",
    "\n",
    "\n",
    "\n",
    "\n",
    "The data used was collected on 946 individuals during the night, with eyes closed and in a relaxed state. We put 7 sensors on their skull. These sensors recovered during the night 40 segments of 2 seconds for each individual.\n",
    "\n",
    "\n",
    "\n",
    "\n",
    "\n",
    "\n",
    "\n",
    "\n",
    "\n",
    "\n",
    "\n",
    "\n",
    "**In this notebook**, \n",
    "We will first clean the dataset, the data format was on HDF5 so we have to do some researches to convert it into a dataset more easily manageable on R. Then, we study and visualize the original data, and examine potential outliers. We need after that to apply a Fourier transformation to convert the frequencies into Hertz. Regarding the model, we implement a Random Forest and a neural network.\n",
    "\n",
    "\n",
    "\n",
    "\n",
    "\n",
    "\n",
    "We hope that this notebook will have good results to the challenge and  fully answer Serge Nyawa's requirements.\n",
    "\n",
    "\n",
    "As always, any feedback, questions, or constructive criticism are much appreciated.\n",
    "\n",
    "\n"
   ]
  },
  {
   "cell_type": "markdown",
   "metadata": {},
   "source": [
    "\n",
    "### 1.1 Features description\n",
    "\n",
    "\n",
    "\n",
    "\n",
    "\n",
    "\n",
    "\n",
    "\n",
    "\n",
    "\n",
    "**Input parameters (x_train.csv and x_test.csv):**\n",
    "\n",
    "\n",
    "\n",
    "\n",
    "\n",
    "\n",
    "* **[ID]**: identifier of the person who wore the electroencephalogram all night, the individuals performed the experiment under the same conditions, eyes closed and relaxed.\n",
    "\n",
    "Channels: The channels represent the 7 points on which the sensors were placed on the individual's skull. \n",
    "\n",
    "\n",
    "Segments: These are the measurements taken by the catches, this measurement is in Hertz, scaled to 250 Hertz. The measurements were captured at each two-second interval during the night. 40 measures were taken for each individual.\n",
    "\n",
    "\n",
    "\n",
    "\n",
    "\n",
    "\n",
    "\n",
    "\n",
    "\n",
    "\n",
    "\n",
    "**Output parameters (y_train.csv and y_test.csv):**\n",
    "\n",
    "\n",
    "\n",
    "\n",
    "\n",
    "\n",
    "\n",
    "* **[ID]** `observed individual`: identifier of the person who wore the electroencephalogram all night.\n",
    "\n",
    "\n",
    "\n",
    "\n",
    "* **[TO PREDICT]** `labels`(factor): The prediction is a label in {1, 2}, representing the gender of the individual. 1 stands for male and 2 for female.\n",
    "\n",
    "\n",
    "There are therefore a total of 946 individuals in the database. Each individual has 7 sensors (electroencephalogram) at different places on the skull which gives every two seconds waves scaled at 250 Hz.\n",
    "\n",
    "We have 7 x 40 observations for a single individual.\n",
    "For the whole database this represents a sample of 496 x 7 x 40.\n",
    "\n",
    "The variable to be predicted is the gender label.\n",
    "\n",
    "\n",
    "\n",
    "\n",
    "\n",
    "Good reading !\n"
   ]
  },
  {
   "cell_type": "markdown",
   "metadata": {},
   "source": [
    "\n",
    "### 1.2 Project structure\n",
    "\n",
    "Our training files are especially made for a Big Data project since they are in H5 format, a format used for big data. \n",
    "Being large files, using a lot of ram memory in R, we decided to separate our different project steps into several R notebooks. \n",
    "\n",
    "In addition, during the project we needed to scale our calculation instances because our computers were not powerful enough. \n",
    "We have therefore chosen to use the Azure platform thanks to our student license ($100 credits).\n",
    "\n",
    "The steps of our project are :\n",
    "1. Presentation of the project\n",
    "2. Data extraction from h5 to csv\n",
    "3. Exploratory data analysis & Pre-processing\n",
    "4. Modeling\n",
    "5. Predict and export results\n",
    "\n",
    "Set-up used during the project : \n",
    "\n",
    "1. Notebook Ipynb with R kernel version 3.6\n",
    "2. Microsoft Azure Machine Learning\n",
    "3. Calculation instance with optimized memory: Virtual machine size - STANDARD_D12_V2 (4 cores, 28 GB RAM, 200 GB disk)\n",
    "4. Result on the ENS data challenge platform : https://challengedata.ens.fr/participants/challenges/27/\n",
    "5. Github repositoty : https://github.com/13w13/U2-Predict-from-brain-rhythms\n"
   ]
  },
  {
   "cell_type": "markdown",
   "metadata": {},
   "source": [
    "### 1.3 Step Descriptions\n",
    "#### 1.3.1 Presentation of the project\n"
   ]
  },
  {
   "cell_type": "markdown",
   "metadata": {},
   "source": [
    "Presentation of the project and features as well as the different steps."
   ]
  },
  {
   "cell_type": "markdown",
   "metadata": {},
   "source": [
    "#### 1.3.2 Data extraction from h5 to csv"
   ]
  },
  {
   "cell_type": "markdown",
   "metadata": {},
   "source": [
    "Introduction to H5 format and source data format.  \n",
    "Write function to convert the dimension into a 2 dimension exportable in csv.  \n",
    "Cleaning of the extraction results and formatting of the data. "
   ]
  },
  {
   "cell_type": "markdown",
   "metadata": {},
   "source": [
    "#### 1.3.3 EDA & Pre-processing"
   ]
  },
  {
   "cell_type": "markdown",
   "metadata": {},
   "source": [
    "Data exploration reduced to two dimnesions.   \n",
    "Understanding the structure: factorization, first graphs. \n",
    "Switching from wide to long format for in-depth graphic analysis.   \n",
    "Manage outliers by converting to frequency using the Fourier transform and normalizing our observations.   \n",
    "Export in csv of pre-processed train data. "
   ]
  },
  {
   "cell_type": "markdown",
   "metadata": {},
   "source": [
    "#### 1.3.4 Modeling"
   ]
  },
  {
   "cell_type": "markdown",
   "metadata": {},
   "source": [
    "Feature reduction using squared chi-squared and K-best test.   \n",
    "Use of the mlr3 library for the construction of supervised classification models.   \n",
    "Benchmarked overbalancing and underblancing technique.   \n",
    "Construction of a benchmark of the different models.   \n",
    "Hyperparameters tunning of Random Forest.   "
   ]
  },
  {
   "cell_type": "markdown",
   "metadata": {},
   "source": [
    "#### 1.3.5 Predict and export results"
   ]
  },
  {
   "cell_type": "markdown",
   "metadata": {},
   "source": [
    "Using the built classification model to predict on the X_test data.   \n",
    "Construction of the Y_train and export of the results to the data provider's platform.   \n",
    "Comment on the results.   \n",
    "Directions to follow to improve our score.   "
   ]
  },
  {
   "cell_type": "markdown",
   "metadata": {},
   "source": [
    "Thank you for reading this introduction! \n",
    "You can go to notebook 2 : Data_extraction from h5 files. "
   ]
  }
 ],
 "metadata": {
  "kernelspec": {
   "display_name": "R",
   "language": "R",
   "name": "ir"
  },
  "language_info": {
   "codemirror_mode": "r",
   "file_extension": ".r",
   "mimetype": "text/x-r-source",
   "name": "R",
   "pygments_lexer": "r",
   "version": "3.6.3"
  }
 },
 "nbformat": 4,
 "nbformat_minor": 4
}
