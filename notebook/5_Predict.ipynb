{
 "cells": [
  {
   "cell_type": "markdown",
   "metadata": {},
   "source": [
    "## 5. Predict\n",
    "### 5.1 Loading libraries & dataset"
   ]
  },
  {
   "cell_type": "code",
   "execution_count": 3,
   "metadata": {},
   "outputs": [],
   "source": [
    "library(\"FSinR\")\n",
    "library(\"data.table\")\n",
    "library(\"magrittr\")\n",
    "library(\"ggplot2\")"
   ]
  },
  {
   "cell_type": "markdown",
   "metadata": {},
   "source": [
    "Let us first apply all pre-processing steps for X_test"
   ]
  },
  {
   "cell_type": "code",
   "execution_count": 4,
   "metadata": {},
   "outputs": [
    {
     "name": "stdout",
     "output_type": "stream",
     "text": [
      "Classes ‘data.table’ and 'data.frame':\t264880 obs. of  10 variables:\n",
      " $ Id      : num  0 0 0 0 0 0 0 0 0 0 ...\n",
      " $ Channels: int  1 1 1 1 1 1 1 1 1 1 ...\n",
      " $ Segments: int  1 2 3 4 5 6 7 8 9 10 ...\n",
      " $ V1      : num  -9.21 -1.86 -65.86 7.17 -23.96 ...\n",
      " $ V2      : num  -8.13 -4.7 -65.21 4.57 -25.74 ...\n",
      " $ V3      : num  -7.3 -6.7 -64.43 2.56 -27.32 ...\n",
      " $ V4      : num  -7.23 -7.52 -64.03 1.4 -29.17 ...\n",
      " $ V5      : num  -7.969 -6.827 -63.645 0.468 -31.145 ...\n",
      " $ V6      : num  -8.92 -4.57 -62.5 -1.16 -33.16 ...\n",
      " $ V7      : num  -9.34 -1.1 -60.51 -3.45 -35.17 ...\n",
      " - attr(*, \".internal.selfref\")=<externalptr> \n"
     ]
    }
   ],
   "source": [
    "X_test=fread(\"https://u2bigdataprojectpredictfrombraina-donotdelete-pr-keui4jukxng1lb.s3.eu.cloud-object-storage.appdomain.cloud/X_test.csv\")\n",
    "X_test$Id = X_test$Id - 1\n",
    "str(X_test[,1:10])\n",
    "X_test$Id<- as.factor(X_test$Id)\n",
    "X_test$Channels<- as.factor(X_test$Channels)\n",
    "X_test$Segments<- as.factor(X_test$Segments)"
   ]
  },
  {
   "cell_type": "code",
   "execution_count": 5,
   "metadata": {},
   "outputs": [],
   "source": [
    "Obs = colnames(X_test[,-c(1:3)])\n",
    "test_a<-copy(X_test)\n",
    "test_fourier=X_test[, (Obs) := lapply(.SD, fft), .SDcols=Obs]\n",
    "test_module <-test_fourier[, (Obs) := lapply(.SD, Mod), .SDcols=Obs]\n",
    "test_module_scaled=test_module[, (Obs) := lapply(.SD, scale), .SDcols=Obs]"
   ]
  },
  {
   "cell_type": "code",
   "execution_count": 6,
   "metadata": {},
   "outputs": [],
   "source": [
    "test_select=test_module_scaled[,c(2,3,7,8,9,10,382,383,501,502)]"
   ]
  },
  {
   "cell_type": "markdown",
   "metadata": {},
   "source": [
    "### 5.2 Predict"
   ]
  },
  {
   "cell_type": "markdown",
   "metadata": {},
   "source": [
    "Our model prediction from training dataset of 4.0 Part was : "
   ]
  },
  {
   "cell_type": "code",
   "execution_count": 226,
   "metadata": {},
   "outputs": [
    {
     "data": {
      "text/plain": [
       "<PredictionClassif> for 52976 observations:\n",
       "    row_id truth response    prob.0    prob.1\n",
       "         1     0        1 0.4006485 0.5993515\n",
       "         4     0        1 0.3296089 0.6703911\n",
       "        19     0        0 0.5253722 0.4746278\n",
       "---                                          \n",
       "    264871     0        1 0.3680431 0.6319569\n",
       "    264873     0        1 0.4816040 0.5183960\n",
       "    264880     0        0 1.0000000 0.0000000"
      ]
     },
     "metadata": {},
     "output_type": "display_data"
    }
   ],
   "source": [
    "prediction"
   ]
  },
  {
   "cell_type": "markdown",
   "metadata": {},
   "source": [
    "Let us apply our prediction with newdata, i.e test_select dataset."
   ]
  },
  {
   "cell_type": "code",
   "execution_count": 231,
   "metadata": {},
   "outputs": [],
   "source": [
    "pred_test=at$predict_newdata(test_select)"
   ]
  },
  {
   "cell_type": "code",
   "execution_count": 246,
   "metadata": {},
   "outputs": [
    {
     "data": {
      "image/png": "[encoded data removed]",
      "text/plain": [
       "plot without title"
      ]
     },
     "metadata": {
      "image/png": {
       "height": 420,
       "width": 420
      }
     },
     "output_type": "display_data"
    }
   ],
   "source": [
    "autoplot(pred_test$reponse)"
   ]
  },
  {
   "cell_type": "markdown",
   "metadata": {},
   "source": [
    "We transform our results into a data.table (R6 format from mlr3 package to data.table)"
   ]
  },
  {
   "cell_type": "code",
   "execution_count": 252,
   "metadata": {},
   "outputs": [],
   "source": [
    "pred=as.data.table(pred_test)"
   ]
  },
  {
   "cell_type": "code",
   "execution_count": 254,
   "metadata": {},
   "outputs": [
    {
     "data": {
      "text/html": [
       "<table>\n",
       "<caption>A data.table: 264880 × 5</caption>\n",
       "<thead>\n",
       "\t<tr><th scope=col>row_id</th><th scope=col>truth</th><th scope=col>response</th><th scope=col>prob.0</th><th scope=col>prob.1</th></tr>\n",
       "\t<tr><th scope=col>&lt;int&gt;</th><th scope=col>&lt;fct&gt;</th><th scope=col>&lt;fct&gt;</th><th scope=col>&lt;dbl&gt;</th><th scope=col>&lt;dbl&gt;</th></tr>\n",
       "</thead>\n",
       "<tbody>\n",
       "\t<tr><td> 1</td><td>NA</td><td>0</td><td>0.5296784</td><td>0.4703216</td></tr>\n",
       "\t<tr><td> 2</td><td>NA</td><td>0</td><td>0.5296784</td><td>0.4703216</td></tr>\n",
       "\t<tr><td> 3</td><td>NA</td><td>1</td><td>0.4700531</td><td>0.5299469</td></tr>\n",
       "\t<tr><td> 4</td><td>NA</td><td>1</td><td>0.4424718</td><td>0.5575282</td></tr>\n",
       "\t<tr><td> 5</td><td>NA</td><td>1</td><td>0.4700531</td><td>0.5299469</td></tr>\n",
       "\t<tr><td> 6</td><td>NA</td><td>0</td><td>0.5296784</td><td>0.4703216</td></tr>\n",
       "\t<tr><td> 7</td><td>NA</td><td>1</td><td>0.4039079</td><td>0.5960921</td></tr>\n",
       "\t<tr><td> 8</td><td>NA</td><td>0</td><td>0.5296784</td><td>0.4703216</td></tr>\n",
       "\t<tr><td> 9</td><td>NA</td><td>1</td><td>0.4039079</td><td>0.5960921</td></tr>\n",
       "\t<tr><td>10</td><td>NA</td><td>0</td><td>0.5296784</td><td>0.4703216</td></tr>\n",
       "\t<tr><td>11</td><td>NA</td><td>0</td><td>0.5160000</td><td>0.4840000</td></tr>\n",
       "\t<tr><td>12</td><td>NA</td><td>0</td><td>1.0000000</td><td>0.0000000</td></tr>\n",
       "\t<tr><td>13</td><td>NA</td><td>1</td><td>0.3914328</td><td>0.6085672</td></tr>\n",
       "\t<tr><td>14</td><td>NA</td><td>0</td><td>0.5296784</td><td>0.4703216</td></tr>\n",
       "\t<tr><td>15</td><td>NA</td><td>0</td><td>0.5044107</td><td>0.4955893</td></tr>\n",
       "\t<tr><td>16</td><td>NA</td><td>0</td><td>0.5296784</td><td>0.4703216</td></tr>\n",
       "\t<tr><td>17</td><td>NA</td><td>0</td><td>0.5044107</td><td>0.4955893</td></tr>\n",
       "\t<tr><td>18</td><td>NA</td><td>1</td><td>0.4452255</td><td>0.5547745</td></tr>\n",
       "\t<tr><td>19</td><td>NA</td><td>1</td><td>0.4816040</td><td>0.5183960</td></tr>\n",
       "\t<tr><td>20</td><td>NA</td><td>0</td><td>0.5243763</td><td>0.4756237</td></tr>\n",
       "\t<tr><td>21</td><td>NA</td><td>0</td><td>0.5283033</td><td>0.4716967</td></tr>\n",
       "\t<tr><td>22</td><td>NA</td><td>1</td><td>0.4837493</td><td>0.5162507</td></tr>\n",
       "\t<tr><td>23</td><td>NA</td><td>0</td><td>0.5296784</td><td>0.4703216</td></tr>\n",
       "\t<tr><td>24</td><td>NA</td><td>1</td><td>0.4900552</td><td>0.5099448</td></tr>\n",
       "\t<tr><td>25</td><td>NA</td><td>0</td><td>0.5296784</td><td>0.4703216</td></tr>\n",
       "\t<tr><td>26</td><td>NA</td><td>0</td><td>0.5384972</td><td>0.4615028</td></tr>\n",
       "\t<tr><td>27</td><td>NA</td><td>1</td><td>0.4452255</td><td>0.5547745</td></tr>\n",
       "\t<tr><td>28</td><td>NA</td><td>0</td><td>0.5123723</td><td>0.4876277</td></tr>\n",
       "\t<tr><td>29</td><td>NA</td><td>1</td><td>0.4848115</td><td>0.5151885</td></tr>\n",
       "\t<tr><td>30</td><td>NA</td><td>1</td><td>0.4932748</td><td>0.5067252</td></tr>\n",
       "\t<tr><td>⋮</td><td>⋮</td><td>⋮</td><td>⋮</td><td>⋮</td></tr>\n",
       "\t<tr><td>264851</td><td>NA</td><td>0</td><td>0.5296784</td><td>0.4703216</td></tr>\n",
       "\t<tr><td>264852</td><td>NA</td><td>1</td><td>0.4932748</td><td>0.5067252</td></tr>\n",
       "\t<tr><td>264853</td><td>NA</td><td>1</td><td>0.4848115</td><td>0.5151885</td></tr>\n",
       "\t<tr><td>264854</td><td>NA</td><td>0</td><td>0.5123723</td><td>0.4876277</td></tr>\n",
       "\t<tr><td>264855</td><td>NA</td><td>1</td><td>0.4452255</td><td>0.5547745</td></tr>\n",
       "\t<tr><td>264856</td><td>NA</td><td>0</td><td>0.5384972</td><td>0.4615028</td></tr>\n",
       "\t<tr><td>264857</td><td>NA</td><td>0</td><td>0.5296784</td><td>0.4703216</td></tr>\n",
       "\t<tr><td>264858</td><td>NA</td><td>1</td><td>0.4900552</td><td>0.5099448</td></tr>\n",
       "\t<tr><td>264859</td><td>NA</td><td>0</td><td>0.5296784</td><td>0.4703216</td></tr>\n",
       "\t<tr><td>264860</td><td>NA</td><td>1</td><td>0.4837493</td><td>0.5162507</td></tr>\n",
       "\t<tr><td>264861</td><td>NA</td><td>0</td><td>0.5283033</td><td>0.4716967</td></tr>\n",
       "\t<tr><td>264862</td><td>NA</td><td>0</td><td>0.5243763</td><td>0.4756237</td></tr>\n",
       "\t<tr><td>264863</td><td>NA</td><td>1</td><td>0.4816040</td><td>0.5183960</td></tr>\n",
       "\t<tr><td>264864</td><td>NA</td><td>1</td><td>0.4452255</td><td>0.5547745</td></tr>\n",
       "\t<tr><td>264865</td><td>NA</td><td>0</td><td>0.5044107</td><td>0.4955893</td></tr>\n",
       "\t<tr><td>264866</td><td>NA</td><td>0</td><td>0.5296784</td><td>0.4703216</td></tr>\n",
       "\t<tr><td>264867</td><td>NA</td><td>0</td><td>0.5044107</td><td>0.4955893</td></tr>\n",
       "\t<tr><td>264868</td><td>NA</td><td>0</td><td>0.5296784</td><td>0.4703216</td></tr>\n",
       "\t<tr><td>264869</td><td>NA</td><td>1</td><td>0.3914328</td><td>0.6085672</td></tr>\n",
       "\t<tr><td>264870</td><td>NA</td><td>0</td><td>1.0000000</td><td>0.0000000</td></tr>\n",
       "\t<tr><td>264871</td><td>NA</td><td>1</td><td>0.4006485</td><td>0.5993515</td></tr>\n",
       "\t<tr><td>264872</td><td>NA</td><td>0</td><td>0.5296784</td><td>0.4703216</td></tr>\n",
       "\t<tr><td>264873</td><td>NA</td><td>1</td><td>0.4039079</td><td>0.5960921</td></tr>\n",
       "\t<tr><td>264874</td><td>NA</td><td>0</td><td>0.5296784</td><td>0.4703216</td></tr>\n",
       "\t<tr><td>264875</td><td>NA</td><td>1</td><td>0.4039079</td><td>0.5960921</td></tr>\n",
       "\t<tr><td>264876</td><td>NA</td><td>0</td><td>0.5296784</td><td>0.4703216</td></tr>\n",
       "\t<tr><td>264877</td><td>NA</td><td>1</td><td>0.4700531</td><td>0.5299469</td></tr>\n",
       "\t<tr><td>264878</td><td>NA</td><td>1</td><td>0.4424718</td><td>0.5575282</td></tr>\n",
       "\t<tr><td>264879</td><td>NA</td><td>1</td><td>0.4700531</td><td>0.5299469</td></tr>\n",
       "\t<tr><td>264880</td><td>NA</td><td>0</td><td>0.5296784</td><td>0.4703216</td></tr>\n",
       "</tbody>\n",
       "</table>\n"
      ],
      "text/latex": [
       "A data.table: 264880 × 5\n",
       "\\begin{tabular}{lllll}\n",
       " row\\_id & truth & response & prob.0 & prob.1\\\\\n",
       " <int> & <fct> & <fct> & <dbl> & <dbl>\\\\\n",
       "\\hline\n",
       "\t  1 & NA & 0 & 0.5296784 & 0.4703216\\\\\n",
       "\t  2 & NA & 0 & 0.5296784 & 0.4703216\\\\\n",
       "\t  3 & NA & 1 & 0.4700531 & 0.5299469\\\\\n",
       "\t  4 & NA & 1 & 0.4424718 & 0.5575282\\\\\n",
       "\t  5 & NA & 1 & 0.4700531 & 0.5299469\\\\\n",
       "\t  6 & NA & 0 & 0.5296784 & 0.4703216\\\\\n",
       "\t  7 & NA & 1 & 0.4039079 & 0.5960921\\\\\n",
       "\t  8 & NA & 0 & 0.5296784 & 0.4703216\\\\\n",
       "\t  9 & NA & 1 & 0.4039079 & 0.5960921\\\\\n",
       "\t 10 & NA & 0 & 0.5296784 & 0.4703216\\\\\n",
       "\t 11 & NA & 0 & 0.5160000 & 0.4840000\\\\\n",
       "\t 12 & NA & 0 & 1.0000000 & 0.0000000\\\\\n",
       "\t 13 & NA & 1 & 0.3914328 & 0.6085672\\\\\n",
       "\t 14 & NA & 0 & 0.5296784 & 0.4703216\\\\\n",
       "\t 15 & NA & 0 & 0.5044107 & 0.4955893\\\\\n",
       "\t 16 & NA & 0 & 0.5296784 & 0.4703216\\\\\n",
       "\t 17 & NA & 0 & 0.5044107 & 0.4955893\\\\\n",
       "\t 18 & NA & 1 & 0.4452255 & 0.5547745\\\\\n",
       "\t 19 & NA & 1 & 0.4816040 & 0.5183960\\\\\n",
       "\t 20 & NA & 0 & 0.5243763 & 0.4756237\\\\\n",
       "\t 21 & NA & 0 & 0.5283033 & 0.4716967\\\\\n",
       "\t 22 & NA & 1 & 0.4837493 & 0.5162507\\\\\n",
       "\t 23 & NA & 0 & 0.5296784 & 0.4703216\\\\\n",
       "\t 24 & NA & 1 & 0.4900552 & 0.5099448\\\\\n",
       "\t 25 & NA & 0 & 0.5296784 & 0.4703216\\\\\n",
       "\t 26 & NA & 0 & 0.5384972 & 0.4615028\\\\\n",
       "\t 27 & NA & 1 & 0.4452255 & 0.5547745\\\\\n",
       "\t 28 & NA & 0 & 0.5123723 & 0.4876277\\\\\n",
       "\t 29 & NA & 1 & 0.4848115 & 0.5151885\\\\\n",
       "\t 30 & NA & 1 & 0.4932748 & 0.5067252\\\\\n",
       "\t ⋮ & ⋮ & ⋮ & ⋮ & ⋮\\\\\n",
       "\t 264851 & NA & 0 & 0.5296784 & 0.4703216\\\\\n",
       "\t 264852 & NA & 1 & 0.4932748 & 0.5067252\\\\\n",
       "\t 264853 & NA & 1 & 0.4848115 & 0.5151885\\\\\n",
       "\t 264854 & NA & 0 & 0.5123723 & 0.4876277\\\\\n",
       "\t 264855 & NA & 1 & 0.4452255 & 0.5547745\\\\\n",
       "\t 264856 & NA & 0 & 0.5384972 & 0.4615028\\\\\n",
       "\t 264857 & NA & 0 & 0.5296784 & 0.4703216\\\\\n",
       "\t 264858 & NA & 1 & 0.4900552 & 0.5099448\\\\\n",
       "\t 264859 & NA & 0 & 0.5296784 & 0.4703216\\\\\n",
       "\t 264860 & NA & 1 & 0.4837493 & 0.5162507\\\\\n",
       "\t 264861 & NA & 0 & 0.5283033 & 0.4716967\\\\\n",
       "\t 264862 & NA & 0 & 0.5243763 & 0.4756237\\\\\n",
       "\t 264863 & NA & 1 & 0.4816040 & 0.5183960\\\\\n",
       "\t 264864 & NA & 1 & 0.4452255 & 0.5547745\\\\\n",
       "\t 264865 & NA & 0 & 0.5044107 & 0.4955893\\\\\n",
       "\t 264866 & NA & 0 & 0.5296784 & 0.4703216\\\\\n",
       "\t 264867 & NA & 0 & 0.5044107 & 0.4955893\\\\\n",
       "\t 264868 & NA & 0 & 0.5296784 & 0.4703216\\\\\n",
       "\t 264869 & NA & 1 & 0.3914328 & 0.6085672\\\\\n",
       "\t 264870 & NA & 0 & 1.0000000 & 0.0000000\\\\\n",
       "\t 264871 & NA & 1 & 0.4006485 & 0.5993515\\\\\n",
       "\t 264872 & NA & 0 & 0.5296784 & 0.4703216\\\\\n",
       "\t 264873 & NA & 1 & 0.4039079 & 0.5960921\\\\\n",
       "\t 264874 & NA & 0 & 0.5296784 & 0.4703216\\\\\n",
       "\t 264875 & NA & 1 & 0.4039079 & 0.5960921\\\\\n",
       "\t 264876 & NA & 0 & 0.5296784 & 0.4703216\\\\\n",
       "\t 264877 & NA & 1 & 0.4700531 & 0.5299469\\\\\n",
       "\t 264878 & NA & 1 & 0.4424718 & 0.5575282\\\\\n",
       "\t 264879 & NA & 1 & 0.4700531 & 0.5299469\\\\\n",
       "\t 264880 & NA & 0 & 0.5296784 & 0.4703216\\\\\n",
       "\\end{tabular}\n"
      ],
      "text/markdown": [
       "\n",
       "A data.table: 264880 × 5\n",
       "\n",
       "| row_id &lt;int&gt; | truth &lt;fct&gt; | response &lt;fct&gt; | prob.0 &lt;dbl&gt; | prob.1 &lt;dbl&gt; |\n",
       "|---|---|---|---|---|\n",
       "|  1 | NA | 0 | 0.5296784 | 0.4703216 |\n",
       "|  2 | NA | 0 | 0.5296784 | 0.4703216 |\n",
       "|  3 | NA | 1 | 0.4700531 | 0.5299469 |\n",
       "|  4 | NA | 1 | 0.4424718 | 0.5575282 |\n",
       "|  5 | NA | 1 | 0.4700531 | 0.5299469 |\n",
       "|  6 | NA | 0 | 0.5296784 | 0.4703216 |\n",
       "|  7 | NA | 1 | 0.4039079 | 0.5960921 |\n",
       "|  8 | NA | 0 | 0.5296784 | 0.4703216 |\n",
       "|  9 | NA | 1 | 0.4039079 | 0.5960921 |\n",
       "| 10 | NA | 0 | 0.5296784 | 0.4703216 |\n",
       "| 11 | NA | 0 | 0.5160000 | 0.4840000 |\n",
       "| 12 | NA | 0 | 1.0000000 | 0.0000000 |\n",
       "| 13 | NA | 1 | 0.3914328 | 0.6085672 |\n",
       "| 14 | NA | 0 | 0.5296784 | 0.4703216 |\n",
       "| 15 | NA | 0 | 0.5044107 | 0.4955893 |\n",
       "| 16 | NA | 0 | 0.5296784 | 0.4703216 |\n",
       "| 17 | NA | 0 | 0.5044107 | 0.4955893 |\n",
       "| 18 | NA | 1 | 0.4452255 | 0.5547745 |\n",
       "| 19 | NA | 1 | 0.4816040 | 0.5183960 |\n",
       "| 20 | NA | 0 | 0.5243763 | 0.4756237 |\n",
       "| 21 | NA | 0 | 0.5283033 | 0.4716967 |\n",
       "| 22 | NA | 1 | 0.4837493 | 0.5162507 |\n",
       "| 23 | NA | 0 | 0.5296784 | 0.4703216 |\n",
       "| 24 | NA | 1 | 0.4900552 | 0.5099448 |\n",
       "| 25 | NA | 0 | 0.5296784 | 0.4703216 |\n",
       "| 26 | NA | 0 | 0.5384972 | 0.4615028 |\n",
       "| 27 | NA | 1 | 0.4452255 | 0.5547745 |\n",
       "| 28 | NA | 0 | 0.5123723 | 0.4876277 |\n",
       "| 29 | NA | 1 | 0.4848115 | 0.5151885 |\n",
       "| 30 | NA | 1 | 0.4932748 | 0.5067252 |\n",
       "| ⋮ | ⋮ | ⋮ | ⋮ | ⋮ |\n",
       "| 264851 | NA | 0 | 0.5296784 | 0.4703216 |\n",
       "| 264852 | NA | 1 | 0.4932748 | 0.5067252 |\n",
       "| 264853 | NA | 1 | 0.4848115 | 0.5151885 |\n",
       "| 264854 | NA | 0 | 0.5123723 | 0.4876277 |\n",
       "| 264855 | NA | 1 | 0.4452255 | 0.5547745 |\n",
       "| 264856 | NA | 0 | 0.5384972 | 0.4615028 |\n",
       "| 264857 | NA | 0 | 0.5296784 | 0.4703216 |\n",
       "| 264858 | NA | 1 | 0.4900552 | 0.5099448 |\n",
       "| 264859 | NA | 0 | 0.5296784 | 0.4703216 |\n",
       "| 264860 | NA | 1 | 0.4837493 | 0.5162507 |\n",
       "| 264861 | NA | 0 | 0.5283033 | 0.4716967 |\n",
       "| 264862 | NA | 0 | 0.5243763 | 0.4756237 |\n",
       "| 264863 | NA | 1 | 0.4816040 | 0.5183960 |\n",
       "| 264864 | NA | 1 | 0.4452255 | 0.5547745 |\n",
       "| 264865 | NA | 0 | 0.5044107 | 0.4955893 |\n",
       "| 264866 | NA | 0 | 0.5296784 | 0.4703216 |\n",
       "| 264867 | NA | 0 | 0.5044107 | 0.4955893 |\n",
       "| 264868 | NA | 0 | 0.5296784 | 0.4703216 |\n",
       "| 264869 | NA | 1 | 0.3914328 | 0.6085672 |\n",
       "| 264870 | NA | 0 | 1.0000000 | 0.0000000 |\n",
       "| 264871 | NA | 1 | 0.4006485 | 0.5993515 |\n",
       "| 264872 | NA | 0 | 0.5296784 | 0.4703216 |\n",
       "| 264873 | NA | 1 | 0.4039079 | 0.5960921 |\n",
       "| 264874 | NA | 0 | 0.5296784 | 0.4703216 |\n",
       "| 264875 | NA | 1 | 0.4039079 | 0.5960921 |\n",
       "| 264876 | NA | 0 | 0.5296784 | 0.4703216 |\n",
       "| 264877 | NA | 1 | 0.4700531 | 0.5299469 |\n",
       "| 264878 | NA | 1 | 0.4424718 | 0.5575282 |\n",
       "| 264879 | NA | 1 | 0.4700531 | 0.5299469 |\n",
       "| 264880 | NA | 0 | 0.5296784 | 0.4703216 |\n",
       "\n"
      ],
      "text/plain": [
       "       row_id truth response prob.0    prob.1   \n",
       "1       1     NA    0        0.5296784 0.4703216\n",
       "2       2     NA    0        0.5296784 0.4703216\n",
       "3       3     NA    1        0.4700531 0.5299469\n",
       "4       4     NA    1        0.4424718 0.5575282\n",
       "5       5     NA    1        0.4700531 0.5299469\n",
       "6       6     NA    0        0.5296784 0.4703216\n",
       "7       7     NA    1        0.4039079 0.5960921\n",
       "8       8     NA    0        0.5296784 0.4703216\n",
       "9       9     NA    1        0.4039079 0.5960921\n",
       "10     10     NA    0        0.5296784 0.4703216\n",
       "11     11     NA    0        0.5160000 0.4840000\n",
       "12     12     NA    0        1.0000000 0.0000000\n",
       "13     13     NA    1        0.3914328 0.6085672\n",
       "14     14     NA    0        0.5296784 0.4703216\n",
       "15     15     NA    0        0.5044107 0.4955893\n",
       "16     16     NA    0        0.5296784 0.4703216\n",
       "17     17     NA    0        0.5044107 0.4955893\n",
       "18     18     NA    1        0.4452255 0.5547745\n",
       "19     19     NA    1        0.4816040 0.5183960\n",
       "20     20     NA    0        0.5243763 0.4756237\n",
       "21     21     NA    0        0.5283033 0.4716967\n",
       "22     22     NA    1        0.4837493 0.5162507\n",
       "23     23     NA    0        0.5296784 0.4703216\n",
       "24     24     NA    1        0.4900552 0.5099448\n",
       "25     25     NA    0        0.5296784 0.4703216\n",
       "26     26     NA    0        0.5384972 0.4615028\n",
       "27     27     NA    1        0.4452255 0.5547745\n",
       "28     28     NA    0        0.5123723 0.4876277\n",
       "29     29     NA    1        0.4848115 0.5151885\n",
       "30     30     NA    1        0.4932748 0.5067252\n",
       "⋮      ⋮      ⋮     ⋮        ⋮         ⋮        \n",
       "264851 264851 NA    0        0.5296784 0.4703216\n",
       "264852 264852 NA    1        0.4932748 0.5067252\n",
       "264853 264853 NA    1        0.4848115 0.5151885\n",
       "264854 264854 NA    0        0.5123723 0.4876277\n",
       "264855 264855 NA    1        0.4452255 0.5547745\n",
       "264856 264856 NA    0        0.5384972 0.4615028\n",
       "264857 264857 NA    0        0.5296784 0.4703216\n",
       "264858 264858 NA    1        0.4900552 0.5099448\n",
       "264859 264859 NA    0        0.5296784 0.4703216\n",
       "264860 264860 NA    1        0.4837493 0.5162507\n",
       "264861 264861 NA    0        0.5283033 0.4716967\n",
       "264862 264862 NA    0        0.5243763 0.4756237\n",
       "264863 264863 NA    1        0.4816040 0.5183960\n",
       "264864 264864 NA    1        0.4452255 0.5547745\n",
       "264865 264865 NA    0        0.5044107 0.4955893\n",
       "264866 264866 NA    0        0.5296784 0.4703216\n",
       "264867 264867 NA    0        0.5044107 0.4955893\n",
       "264868 264868 NA    0        0.5296784 0.4703216\n",
       "264869 264869 NA    1        0.3914328 0.6085672\n",
       "264870 264870 NA    0        1.0000000 0.0000000\n",
       "264871 264871 NA    1        0.4006485 0.5993515\n",
       "264872 264872 NA    0        0.5296784 0.4703216\n",
       "264873 264873 NA    1        0.4039079 0.5960921\n",
       "264874 264874 NA    0        0.5296784 0.4703216\n",
       "264875 264875 NA    1        0.4039079 0.5960921\n",
       "264876 264876 NA    0        0.5296784 0.4703216\n",
       "264877 264877 NA    1        0.4700531 0.5299469\n",
       "264878 264878 NA    1        0.4424718 0.5575282\n",
       "264879 264879 NA    1        0.4700531 0.5299469\n",
       "264880 264880 NA    0        0.5296784 0.4703216"
      ]
     },
     "metadata": {},
     "output_type": "display_data"
    }
   ],
   "source": [
    "pred[,3]"
   ]
  },
  {
   "cell_type": "markdown",
   "metadata": {},
   "source": [
    "We select the column we are interrested in. "
   ]
  },
  {
   "cell_type": "code",
   "execution_count": 260,
   "metadata": {},
   "outputs": [],
   "source": [
    "final_predict=cbind(pred[,c(3,4,5)], test_module_scaled[,1])"
   ]
  },
  {
   "cell_type": "code",
   "execution_count": 261,
   "metadata": {},
   "outputs": [
    {
     "data": {
      "text/html": [
       "<table>\n",
       "<caption>A data.table: 6 × 4</caption>\n",
       "<thead>\n",
       "\t<tr><th scope=col>response</th><th scope=col>prob.0</th><th scope=col>prob.1</th><th scope=col>Id</th></tr>\n",
       "\t<tr><th scope=col>&lt;fct&gt;</th><th scope=col>&lt;dbl&gt;</th><th scope=col>&lt;dbl&gt;</th><th scope=col>&lt;fct&gt;</th></tr>\n",
       "</thead>\n",
       "<tbody>\n",
       "\t<tr><td>0</td><td>0.5296784</td><td>0.4703216</td><td>0</td></tr>\n",
       "\t<tr><td>0</td><td>0.5296784</td><td>0.4703216</td><td>0</td></tr>\n",
       "\t<tr><td>1</td><td>0.4700531</td><td>0.5299469</td><td>0</td></tr>\n",
       "\t<tr><td>1</td><td>0.4424718</td><td>0.5575282</td><td>0</td></tr>\n",
       "\t<tr><td>1</td><td>0.4700531</td><td>0.5299469</td><td>0</td></tr>\n",
       "\t<tr><td>0</td><td>0.5296784</td><td>0.4703216</td><td>0</td></tr>\n",
       "</tbody>\n",
       "</table>\n"
      ],
      "text/latex": [
       "A data.table: 6 × 4\n",
       "\\begin{tabular}{llll}\n",
       " response & prob.0 & prob.1 & Id\\\\\n",
       " <fct> & <dbl> & <dbl> & <fct>\\\\\n",
       "\\hline\n",
       "\t 0 & 0.5296784 & 0.4703216 & 0\\\\\n",
       "\t 0 & 0.5296784 & 0.4703216 & 0\\\\\n",
       "\t 1 & 0.4700531 & 0.5299469 & 0\\\\\n",
       "\t 1 & 0.4424718 & 0.5575282 & 0\\\\\n",
       "\t 1 & 0.4700531 & 0.5299469 & 0\\\\\n",
       "\t 0 & 0.5296784 & 0.4703216 & 0\\\\\n",
       "\\end{tabular}\n"
      ],
      "text/markdown": [
       "\n",
       "A data.table: 6 × 4\n",
       "\n",
       "| response &lt;fct&gt; | prob.0 &lt;dbl&gt; | prob.1 &lt;dbl&gt; | Id &lt;fct&gt; |\n",
       "|---|---|---|---|\n",
       "| 0 | 0.5296784 | 0.4703216 | 0 |\n",
       "| 0 | 0.5296784 | 0.4703216 | 0 |\n",
       "| 1 | 0.4700531 | 0.5299469 | 0 |\n",
       "| 1 | 0.4424718 | 0.5575282 | 0 |\n",
       "| 1 | 0.4700531 | 0.5299469 | 0 |\n",
       "| 0 | 0.5296784 | 0.4703216 | 0 |\n",
       "\n"
      ],
      "text/plain": [
       "  response prob.0    prob.1    Id\n",
       "1 0        0.5296784 0.4703216 0 \n",
       "2 0        0.5296784 0.4703216 0 \n",
       "3 1        0.4700531 0.5299469 0 \n",
       "4 1        0.4424718 0.5575282 0 \n",
       "5 1        0.4700531 0.5299469 0 \n",
       "6 0        0.5296784 0.4703216 0 "
      ]
     },
     "metadata": {},
     "output_type": "display_data"
    }
   ],
   "source": [
    "head(final_predict)"
   ]
  },
  {
   "cell_type": "markdown",
   "metadata": {},
   "source": [
    "In order to get the accuracy from the challenge provider, we have to have a final Y_test csv file with only id and the sex predicted.\n",
    "In order to get that, we group each id with its computed probability for one class (we choose class 0, men). Therefore, we will be able to determine the predicted sex by taking 0.5 threshold : if the mean of prob0>0.5 then our id is predicted as a man, woman otherwise."
   ]
  },
  {
   "cell_type": "markdown",
   "metadata": {},
   "source": [
    "Mean per id of prop"
   ]
  },
  {
   "cell_type": "code",
   "execution_count": 263,
   "metadata": {},
   "outputs": [],
   "source": [
    "final_pred_mean=final_predict[,list(Mean=mean(prob.0)),by=Id]"
   ]
  },
  {
   "cell_type": "code",
   "execution_count": 266,
   "metadata": {},
   "outputs": [],
   "source": [
    "final_pred_mean$gender=ifelse(final_pred_mean$Mean>0.5,0,1)"
   ]
  },
  {
   "cell_type": "markdown",
   "metadata": {},
   "source": [
    "Select only columns for submission"
   ]
  },
  {
   "cell_type": "code",
   "execution_count": 268,
   "metadata": {},
   "outputs": [],
   "source": [
    "final_pred_mean=final_pred_mean[,c(1,3)]"
   ]
  },
  {
   "cell_type": "code",
   "execution_count": 269,
   "metadata": {},
   "outputs": [
    {
     "data": {
      "text/html": [
       "<table>\n",
       "<caption>A data.table: 946 × 2</caption>\n",
       "<thead>\n",
       "\t<tr><th scope=col>Id</th><th scope=col>gender</th></tr>\n",
       "\t<tr><th scope=col>&lt;fct&gt;</th><th scope=col>&lt;dbl&gt;</th></tr>\n",
       "</thead>\n",
       "<tbody>\n",
       "\t<tr><td>0 </td><td>0</td></tr>\n",
       "\t<tr><td>1 </td><td>1</td></tr>\n",
       "\t<tr><td>2 </td><td>0</td></tr>\n",
       "\t<tr><td>3 </td><td>0</td></tr>\n",
       "\t<tr><td>4 </td><td>1</td></tr>\n",
       "\t<tr><td>5 </td><td>1</td></tr>\n",
       "\t<tr><td>6 </td><td>1</td></tr>\n",
       "\t<tr><td>7 </td><td>1</td></tr>\n",
       "\t<tr><td>8 </td><td>0</td></tr>\n",
       "\t<tr><td>9 </td><td>0</td></tr>\n",
       "\t<tr><td>10</td><td>0</td></tr>\n",
       "\t<tr><td>11</td><td>0</td></tr>\n",
       "\t<tr><td>12</td><td>1</td></tr>\n",
       "\t<tr><td>13</td><td>0</td></tr>\n",
       "\t<tr><td>14</td><td>1</td></tr>\n",
       "\t<tr><td>15</td><td>1</td></tr>\n",
       "\t<tr><td>16</td><td>1</td></tr>\n",
       "\t<tr><td>17</td><td>1</td></tr>\n",
       "\t<tr><td>18</td><td>1</td></tr>\n",
       "\t<tr><td>19</td><td>1</td></tr>\n",
       "\t<tr><td>20</td><td>0</td></tr>\n",
       "\t<tr><td>21</td><td>0</td></tr>\n",
       "\t<tr><td>22</td><td>0</td></tr>\n",
       "\t<tr><td>23</td><td>0</td></tr>\n",
       "\t<tr><td>24</td><td>0</td></tr>\n",
       "\t<tr><td>25</td><td>0</td></tr>\n",
       "\t<tr><td>26</td><td>0</td></tr>\n",
       "\t<tr><td>27</td><td>0</td></tr>\n",
       "\t<tr><td>28</td><td>0</td></tr>\n",
       "\t<tr><td>29</td><td>1</td></tr>\n",
       "\t<tr><td>⋮</td><td>⋮</td></tr>\n",
       "\t<tr><td>916</td><td>1</td></tr>\n",
       "\t<tr><td>917</td><td>0</td></tr>\n",
       "\t<tr><td>918</td><td>1</td></tr>\n",
       "\t<tr><td>919</td><td>0</td></tr>\n",
       "\t<tr><td>920</td><td>0</td></tr>\n",
       "\t<tr><td>921</td><td>0</td></tr>\n",
       "\t<tr><td>922</td><td>0</td></tr>\n",
       "\t<tr><td>923</td><td>0</td></tr>\n",
       "\t<tr><td>924</td><td>0</td></tr>\n",
       "\t<tr><td>925</td><td>1</td></tr>\n",
       "\t<tr><td>926</td><td>1</td></tr>\n",
       "\t<tr><td>927</td><td>1</td></tr>\n",
       "\t<tr><td>928</td><td>1</td></tr>\n",
       "\t<tr><td>929</td><td>1</td></tr>\n",
       "\t<tr><td>930</td><td>1</td></tr>\n",
       "\t<tr><td>931</td><td>1</td></tr>\n",
       "\t<tr><td>932</td><td>0</td></tr>\n",
       "\t<tr><td>933</td><td>1</td></tr>\n",
       "\t<tr><td>934</td><td>0</td></tr>\n",
       "\t<tr><td>935</td><td>0</td></tr>\n",
       "\t<tr><td>936</td><td>0</td></tr>\n",
       "\t<tr><td>937</td><td>0</td></tr>\n",
       "\t<tr><td>938</td><td>1</td></tr>\n",
       "\t<tr><td>939</td><td>1</td></tr>\n",
       "\t<tr><td>940</td><td>1</td></tr>\n",
       "\t<tr><td>941</td><td>1</td></tr>\n",
       "\t<tr><td>942</td><td>0</td></tr>\n",
       "\t<tr><td>943</td><td>0</td></tr>\n",
       "\t<tr><td>944</td><td>0</td></tr>\n",
       "\t<tr><td>945</td><td>0</td></tr>\n",
       "</tbody>\n",
       "</table>\n"
      ],
      "text/latex": [
       "A data.table: 946 × 2\n",
       "\\begin{tabular}{ll}\n",
       " Id & gender\\\\\n",
       " <fct> & <dbl>\\\\\n",
       "\\hline\n",
       "\t 0  & 0\\\\\n",
       "\t 1  & 1\\\\\n",
       "\t 2  & 0\\\\\n",
       "\t 3  & 0\\\\\n",
       "\t 4  & 1\\\\\n",
       "\t 5  & 1\\\\\n",
       "\t 6  & 1\\\\\n",
       "\t 7  & 1\\\\\n",
       "\t 8  & 0\\\\\n",
       "\t 9  & 0\\\\\n",
       "\t 10 & 0\\\\\n",
       "\t 11 & 0\\\\\n",
       "\t 12 & 1\\\\\n",
       "\t 13 & 0\\\\\n",
       "\t 14 & 1\\\\\n",
       "\t 15 & 1\\\\\n",
       "\t 16 & 1\\\\\n",
       "\t 17 & 1\\\\\n",
       "\t 18 & 1\\\\\n",
       "\t 19 & 1\\\\\n",
       "\t 20 & 0\\\\\n",
       "\t 21 & 0\\\\\n",
       "\t 22 & 0\\\\\n",
       "\t 23 & 0\\\\\n",
       "\t 24 & 0\\\\\n",
       "\t 25 & 0\\\\\n",
       "\t 26 & 0\\\\\n",
       "\t 27 & 0\\\\\n",
       "\t 28 & 0\\\\\n",
       "\t 29 & 1\\\\\n",
       "\t ⋮ & ⋮\\\\\n",
       "\t 916 & 1\\\\\n",
       "\t 917 & 0\\\\\n",
       "\t 918 & 1\\\\\n",
       "\t 919 & 0\\\\\n",
       "\t 920 & 0\\\\\n",
       "\t 921 & 0\\\\\n",
       "\t 922 & 0\\\\\n",
       "\t 923 & 0\\\\\n",
       "\t 924 & 0\\\\\n",
       "\t 925 & 1\\\\\n",
       "\t 926 & 1\\\\\n",
       "\t 927 & 1\\\\\n",
       "\t 928 & 1\\\\\n",
       "\t 929 & 1\\\\\n",
       "\t 930 & 1\\\\\n",
       "\t 931 & 1\\\\\n",
       "\t 932 & 0\\\\\n",
       "\t 933 & 1\\\\\n",
       "\t 934 & 0\\\\\n",
       "\t 935 & 0\\\\\n",
       "\t 936 & 0\\\\\n",
       "\t 937 & 0\\\\\n",
       "\t 938 & 1\\\\\n",
       "\t 939 & 1\\\\\n",
       "\t 940 & 1\\\\\n",
       "\t 941 & 1\\\\\n",
       "\t 942 & 0\\\\\n",
       "\t 943 & 0\\\\\n",
       "\t 944 & 0\\\\\n",
       "\t 945 & 0\\\\\n",
       "\\end{tabular}\n"
      ],
      "text/markdown": [
       "\n",
       "A data.table: 946 × 2\n",
       "\n",
       "| Id &lt;fct&gt; | gender &lt;dbl&gt; |\n",
       "|---|---|\n",
       "| 0  | 0 |\n",
       "| 1  | 1 |\n",
       "| 2  | 0 |\n",
       "| 3  | 0 |\n",
       "| 4  | 1 |\n",
       "| 5  | 1 |\n",
       "| 6  | 1 |\n",
       "| 7  | 1 |\n",
       "| 8  | 0 |\n",
       "| 9  | 0 |\n",
       "| 10 | 0 |\n",
       "| 11 | 0 |\n",
       "| 12 | 1 |\n",
       "| 13 | 0 |\n",
       "| 14 | 1 |\n",
       "| 15 | 1 |\n",
       "| 16 | 1 |\n",
       "| 17 | 1 |\n",
       "| 18 | 1 |\n",
       "| 19 | 1 |\n",
       "| 20 | 0 |\n",
       "| 21 | 0 |\n",
       "| 22 | 0 |\n",
       "| 23 | 0 |\n",
       "| 24 | 0 |\n",
       "| 25 | 0 |\n",
       "| 26 | 0 |\n",
       "| 27 | 0 |\n",
       "| 28 | 0 |\n",
       "| 29 | 1 |\n",
       "| ⋮ | ⋮ |\n",
       "| 916 | 1 |\n",
       "| 917 | 0 |\n",
       "| 918 | 1 |\n",
       "| 919 | 0 |\n",
       "| 920 | 0 |\n",
       "| 921 | 0 |\n",
       "| 922 | 0 |\n",
       "| 923 | 0 |\n",
       "| 924 | 0 |\n",
       "| 925 | 1 |\n",
       "| 926 | 1 |\n",
       "| 927 | 1 |\n",
       "| 928 | 1 |\n",
       "| 929 | 1 |\n",
       "| 930 | 1 |\n",
       "| 931 | 1 |\n",
       "| 932 | 0 |\n",
       "| 933 | 1 |\n",
       "| 934 | 0 |\n",
       "| 935 | 0 |\n",
       "| 936 | 0 |\n",
       "| 937 | 0 |\n",
       "| 938 | 1 |\n",
       "| 939 | 1 |\n",
       "| 940 | 1 |\n",
       "| 941 | 1 |\n",
       "| 942 | 0 |\n",
       "| 943 | 0 |\n",
       "| 944 | 0 |\n",
       "| 945 | 0 |\n",
       "\n"
      ],
      "text/plain": [
       "    Id  gender\n",
       "1   0   0     \n",
       "2   1   1     \n",
       "3   2   0     \n",
       "4   3   0     \n",
       "5   4   1     \n",
       "6   5   1     \n",
       "7   6   1     \n",
       "8   7   1     \n",
       "9   8   0     \n",
       "10  9   0     \n",
       "11  10  0     \n",
       "12  11  0     \n",
       "13  12  1     \n",
       "14  13  0     \n",
       "15  14  1     \n",
       "16  15  1     \n",
       "17  16  1     \n",
       "18  17  1     \n",
       "19  18  1     \n",
       "20  19  1     \n",
       "21  20  0     \n",
       "22  21  0     \n",
       "23  22  0     \n",
       "24  23  0     \n",
       "25  24  0     \n",
       "26  25  0     \n",
       "27  26  0     \n",
       "28  27  0     \n",
       "29  28  0     \n",
       "30  29  1     \n",
       "⋮   ⋮   ⋮     \n",
       "917 916 1     \n",
       "918 917 0     \n",
       "919 918 1     \n",
       "920 919 0     \n",
       "921 920 0     \n",
       "922 921 0     \n",
       "923 922 0     \n",
       "924 923 0     \n",
       "925 924 0     \n",
       "926 925 1     \n",
       "927 926 1     \n",
       "928 927 1     \n",
       "929 928 1     \n",
       "930 929 1     \n",
       "931 930 1     \n",
       "932 931 1     \n",
       "933 932 0     \n",
       "934 933 1     \n",
       "935 934 0     \n",
       "936 935 0     \n",
       "937 936 0     \n",
       "938 937 0     \n",
       "939 938 1     \n",
       "940 939 1     \n",
       "941 940 1     \n",
       "942 941 1     \n",
       "943 942 0     \n",
       "944 943 0     \n",
       "945 944 0     \n",
       "946 945 0     "
      ]
     },
     "metadata": {},
     "output_type": "display_data"
    }
   ],
   "source": [
    "head(final_pred_mean)"
   ]
  },
  {
   "cell_type": "code",
   "execution_count": 274,
   "metadata": {},
   "outputs": [
    {
     "data": {
      "text/html": [
       "<table>\n",
       "<caption>A data.table: 2 × 2</caption>\n",
       "<thead>\n",
       "\t<tr><th scope=col>gender</th><th scope=col>N</th></tr>\n",
       "\t<tr><th scope=col>&lt;dbl&gt;</th><th scope=col>&lt;int&gt;</th></tr>\n",
       "</thead>\n",
       "<tbody>\n",
       "\t<tr><td>0</td><td>818</td></tr>\n",
       "\t<tr><td>1</td><td>128</td></tr>\n",
       "</tbody>\n",
       "</table>\n"
      ],
      "text/latex": [
       "A data.table: 2 × 2\n",
       "\\begin{tabular}{ll}\n",
       " gender & N\\\\\n",
       " <dbl> & <int>\\\\\n",
       "\\hline\n",
       "\t 0 & 818\\\\\n",
       "\t 1 & 128\\\\\n",
       "\\end{tabular}\n"
      ],
      "text/markdown": [
       "\n",
       "A data.table: 2 × 2\n",
       "\n",
       "| gender &lt;dbl&gt; | N &lt;int&gt; |\n",
       "|---|---|\n",
       "| 0 | 818 |\n",
       "| 1 | 128 |\n",
       "\n"
      ],
      "text/plain": [
       "  gender N  \n",
       "1 0      818\n",
       "2 1      128"
      ]
     },
     "metadata": {},
     "output_type": "display_data"
    }
   ],
   "source": [
    "final_pred_mean[,.N,by=gender]"
   ]
  },
  {
   "cell_type": "code",
   "execution_count": 270,
   "metadata": {},
   "outputs": [
    {
     "data": {
      "text/html": [
       "'/mnt/batch/tasks/shared/LS_root/mounts/clusters/memoire/code/Users/a.settelen'"
      ],
      "text/latex": [
       "'/mnt/batch/tasks/shared/LS\\_root/mounts/clusters/memoire/code/Users/a.settelen'"
      ],
      "text/markdown": [
       "'/mnt/batch/tasks/shared/LS_root/mounts/clusters/memoire/code/Users/a.settelen'"
      ],
      "text/plain": [
       "[1] \"/mnt/batch/tasks/shared/LS_root/mounts/clusters/memoire/code/Users/a.settelen\""
      ]
     },
     "metadata": {},
     "output_type": "display_data"
    }
   ],
   "source": [
    "getwd()"
   ]
  },
  {
   "cell_type": "markdown",
   "metadata": {},
   "source": [
    "Export to csv"
   ]
  },
  {
   "cell_type": "code",
   "execution_count": 271,
   "metadata": {},
   "outputs": [],
   "source": [
    "fwrite(final_pred_mean,\"/mnt/batch/tasks/shared/LS_root/mounts/clusters/memoire/code/Users/a.settelen/Y_test.csv\")"
   ]
  },
  {
   "cell_type": "markdown",
   "metadata": {},
   "source": [
    "[Resutls from data challenge provider](https://drive.google.com/file/d/1xJSdfClttPQS3GFheoHWqfwqo9Wi5DMK/view?usp=sharing)"
   ]
  },
  {
   "cell_type": "markdown",
   "metadata": {},
   "source": [
    "Our final results is not too bad (0.716 accuracy on public score). \n",
    "That means that for the 946 ids, we have well predicted the sex for 71% based on their EEG sleep activity. \n",
    "This results impressed us in term of the information we can get for an individual based on their sleep activity. \n",
    "Machine Learning techniques do have a lot to explore in the futur in order to better understand our brain and maybe to help brain science in curing."
   ]
  },
  {
   "cell_type": "markdown",
   "metadata": {},
   "source": [
    "Some ideas to better our score : \n",
    "- Apply Welch method on pre-processing step\n",
    "- Change the metrics on the keras model in particular for the sdg optimize\n",
    "- Try XGboost Forest and Convolutional Neural network\n",
    "- Set a tunning parameters for K-best (set k in different levesl)"
   ]
  }
 ],
 "metadata": {
  "kernelspec": {
   "display_name": "R",
   "language": "R",
   "name": "ir"
  },
  "language_info": {
   "codemirror_mode": "r",
   "file_extension": ".r",
   "mimetype": "text/x-r-source",
   "name": "R",
   "pygments_lexer": "r",
   "version": "3.6.3"
  }
 },
 "nbformat": 4,
 "nbformat_minor": 4
}
